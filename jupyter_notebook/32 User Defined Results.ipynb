{
 "cells": [
  {
   "cell_type": "markdown",
   "metadata": {},
   "source": [
    "# #32 User Defined Results\n",
    "<i>User defined results are formulae that can be evaluated using model parameters such as geometric and material attribute values as well as load effects from the analysis allowing new results to be displayed in any LUSAS results processing tools. Contours, Reports, Diagrams etc </i>\n",
    "***"
   ]
  },
  {
   "cell_type": "code",
   "execution_count": null,
   "metadata": {},
   "outputs": [],
   "source": [
    "from shared.LPI import *\n",
    "lusas = get_lusas_modeller()\n",
    "\n",
    "if not lusas.existsDatabase():\n",
    "    raise Exception(\"This script will add user defined results to an existing model. A model must therefore be loaded\")\n",
    "\n",
    "db = lusas.getDatabase()"
   ]
  },
  {
   "cell_type": "markdown",
   "metadata": {},
   "source": [
    "Create a simple example to calculate 2D top/bottom stresses in a concrete section and determine if the section is cracked"
   ]
  },
  {
   "cell_type": "code",
   "execution_count": null,
   "metadata": {},
   "outputs": [],
   "source": [
    "# Create a new results entity to contain the user defined results\n",
    "results_entity = \"Concrete Cracking\"\n",
    "db.addUserDefinedResultsEntity(results_entity, \"Thick 3D Beam\")"
   ]
  },
  {
   "cell_type": "code",
   "execution_count": null,
   "metadata": {},
   "outputs": [],
   "source": [
    "# Convert the tensile strength into model units\n",
    "fctm = 3.5 # Mpa\n",
    "\n",
    "fctm = lusas.getUnitSet(\"N,mm,t,s,C\").convertToUnitSet(db.getModelUnits(), fctm, 0, 1, -2, 0, 0, 0)\n",
    "print(fctm, f\"{db.getModelUnits().getForceShortName()}/{db.getModelUnits().getLengthShortName()}²\")"
   ]
  },
  {
   "cell_type": "markdown",
   "metadata": {},
   "source": [
    "Create the user defined results expressions</br>See Utilities > User Defined Results..."
   ]
  },
  {
   "cell_type": "code",
   "execution_count": null,
   "metadata": {},
   "outputs": [],
   "source": [
    "# Create the user defined results attribute to store all the expressions\n",
    "user_defined_results = db.createUserDefinedResult(\"User-defined\")\n",
    "# Top and bottom stresses are added to the existing force/moment entity to access the correct results entity, i,e My or a thick beam\n",
    "user_defined_results.setUserResultComponent(\"s_top\", \"Force/Moment - Thick 3D Beam\", \"Fx / geometric.A + My / geometric.Szt\", \"Stress_top\")\n",
    "user_defined_results.setUserResultComponent(\"s_bot\", \"Force/Moment - Thick 3D Beam\", \"Fx / geometric.A + My / geometric.Szb\", \"Stress_bottom\")\n",
    "# Note geometric refers to the geometric (section) attribute. Szb is the section modulus at the negative z axis and is negative \n",
    "\n",
    "# Add results to our user entity\n",
    "# Concrete tensile strength in model units\n",
    "user_defined_results.setUserResultComponent(\"fctm\", results_entity, fctm, \"Tensile capacity\")\n",
    "# maximum tensile stress in top and bottom fibres\n",
    "user_defined_results.setUserResultComponent(\"max_fct\", results_entity, \"max(s_top, s_bot)\", \"Max tensile stress\")\n",
    "# Determine if the stress exceeds the tensile limit\n",
    "user_defined_results.setUserResultComponent(\"isCracked\", results_entity, \"if(max_fct > fctm, 1, 0)\", \"1 = cracked, 0 = not cracked\")\n"
   ]
  },
  {
   "cell_type": "markdown",
   "metadata": {},
   "source": [
    "Set the contour layer to show the user defined result \"isCracked\" with a two tone contour plot"
   ]
  },
  {
   "cell_type": "code",
   "execution_count": null,
   "metadata": {},
   "outputs": [],
   "source": [
    "lusas.view().insertContoursLayer()\n",
    "lusas.view().contours().setResults(\"Concrete Cracking\", \"isCracked\")\n",
    "lusas.view().contours().chooseSettings(4)"
   ]
  }
 ],
 "metadata": {
  "kernelspec": {
   "display_name": "Python 3",
   "language": "python",
   "name": "python3"
  },
  "language_info": {
   "codemirror_mode": {
    "name": "ipython",
    "version": 3
   },
   "file_extension": ".py",
   "mimetype": "text/x-python",
   "name": "python",
   "nbconvert_exporter": "python",
   "pygments_lexer": "ipython3",
   "version": "3.13.2"
  }
 },
 "nbformat": 4,
 "nbformat_minor": 2
}
