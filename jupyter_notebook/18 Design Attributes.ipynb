{
 "cells": [
  {
   "cell_type": "markdown",
   "metadata": {},
   "source": [
    "# #18 Design Attributes\n",
    "<i>Design attributes are user defined attributes that can contain user data and be assigned like any other attribute.\n",
    "The values contained in the attribute can be used in the user defined results, see Example #32. When used via the user defined results the values are referenced as design.scopeName.value</i>\n",
    "***"
   ]
  },
  {
   "cell_type": "code",
   "execution_count": null,
   "metadata": {},
   "outputs": [],
   "source": [
    "from shared.LPI import *\n",
    "lusas = get_lusas_modeller()\n",
    "\n",
    "if not lusas.existsDatabase():\n",
    "    raise Exception(\"This script will add user defined attributes to an existing model. A model must therefore be loaded\")\n",
    "\n",
    "db = lusas.getDatabase()"
   ]
  },
  {
   "cell_type": "markdown",
   "metadata": {},
   "source": [
    "### Create two design attributes of type \"Slab Members\" which can be assigned only to surface geometry"
   ]
  },
  {
   "cell_type": "code",
   "execution_count": null,
   "metadata": {},
   "outputs": [],
   "source": [
    "# Create a new results entity to contain the user defined results\n",
    "slab_1_attr = db.createDesignAttribute(\"Slab 1\", \"Slab Members\", \"SLABS\", \"Surfaces\")\n",
    "slab_2_attr = db.createDesignAttribute(\"Slab 2\", \"Slab Members\", \"SLABS\", \"Surfaces\")"
   ]
  },
  {
   "cell_type": "markdown",
   "metadata": {},
   "source": [
    "Create values to be saved in the attributes"
   ]
  },
  {
   "cell_type": "code",
   "execution_count": null,
   "metadata": {},
   "outputs": [],
   "source": [
    "# Create a value named thickness and set the value\n",
    "slab_1_attr.createValue(\"Thickness\").setValue(\"Thickness\", 0.5)\n",
    "slab_2_attr.createValue(\"Thickness\").setValue(\"Thickness\", 0.35)\n",
    "\n",
    "# The values are retrieved with getValue\n",
    "print(slab_1_attr.getValue(\"Thickness\"))\n",
    "print(slab_2_attr.getValue(\"Thickness\"))"
   ]
  },
  {
   "cell_type": "markdown",
   "metadata": {},
   "source": [
    "Values can be created with a dimensionality"
   ]
  },
  {
   "cell_type": "code",
   "execution_count": null,
   "metadata": {},
   "outputs": [],
   "source": [
    "# Create values of stress, teh given values will be in database units\n",
    "slab_1_attr.createValue(\"Tensile_Strength\", 0, 1, -2).setValue(\"Tensile_Strength\", -5)\n",
    "slab_2_attr.createValue(\"Tensile_Strength\", 0, 1, -2).setValue(\"Tensile_Strength\", -2)\n",
    "# And can be retrieved in any unitset\n",
    "# The values are retrieved with getValue\n",
    "units = lusas.getUnitSet(\"kip,ft,kslug,s,C\")\n",
    "print(slab_1_attr.getValue(\"Tensile_Strength\",None,units))\n",
    "print(slab_2_attr.getValue(\"Tensile_Strength\",None,units))"
   ]
  },
  {
   "cell_type": "markdown",
   "metadata": {},
   "source": [
    "Arrays of values may also be saved, but these cannot be accessed by the user defined results. (Note only 1 and 2 dimensional arrays are supported)"
   ]
  },
  {
   "cell_type": "code",
   "execution_count": null,
   "metadata": {},
   "outputs": [],
   "source": [
    "slab_1_attr.createValue(\"array1\").setValue(\"array1\", [1,2,3])\n",
    "print(slab_1_attr.getValue(\"array1\"))\n",
    "\n",
    "slab_1_attr.createValue(\"array2\").setValue(\"array2\", [[1,2,3],[4,5,6]])\n",
    "print(slab_1_attr.getValue(\"array2\"))"
   ]
  },
  {
   "cell_type": "code",
   "execution_count": null,
   "metadata": {},
   "outputs": [],
   "source": [
    "# Find all the available names and print them out. See also Ex.120\n",
    "for name in slab_1_attr.getValueNames():\n",
    "    print(name, slab_1_attr.getValue(name))"
   ]
  }
 ],
 "metadata": {
  "kernelspec": {
   "display_name": "Python 3",
   "language": "python",
   "name": "python3"
  },
  "language_info": {
   "codemirror_mode": {
    "name": "ipython",
    "version": 3
   },
   "file_extension": ".py",
   "mimetype": "text/x-python",
   "name": "python",
   "nbconvert_exporter": "python",
   "pygments_lexer": "ipython3",
   "version": "3.13.2"
  }
 },
 "nbformat": 4,
 "nbformat_minor": 2
}
