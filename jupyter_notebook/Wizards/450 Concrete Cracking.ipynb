{
 "cells": [
  {
   "cell_type": "markdown",
   "metadata": {},
   "source": [
    "# #450 Concrete Cracking\n",
    "<i>Nonlinear concrete cracking model with parasitic bars in a frame structure</i>\n",
    "***"
   ]
  },
  {
   "cell_type": "markdown",
   "metadata": {},
   "source": [
    "![Preview](../../_img/jupyter_notebook_450.png)"
   ]
  },
  {
   "cell_type": "code",
   "execution_count": null,
   "metadata": {},
   "outputs": [],
   "source": [
    "# Input parameters\n",
    "wall_height = 2\n",
    "wall_thickness = 0.3\n",
    "beam_length = 4.5\n",
    "beam_thickness = 0.45\n",
    "base_width = 1.4\n",
    "base_thickness = 0.5\n",
    "cover = 0.05"
   ]
  },
  {
   "cell_type": "code",
   "execution_count": null,
   "metadata": {},
   "outputs": [],
   "source": [
    "import sys; sys.path.append('../') # Reference modules in parent directory\n",
    "from shared.LPI_21_1 import *\n",
    "lusas = get_lusas_modeller()\n",
    "\n",
    "import shared.Helpers as Helpers\n",
    "Helpers.initialise(lusas)\n",
    "\n",
    "if lusas.existsDatabase() and lusas.db().isModified():\n",
    "    raise Exception(\"This script will create a new model. Please save or close the current model and try again\")\n",
    "\n",
    "# Create a new model\n",
    "lusas.newProject(\"Structural\",\"Nonlinear concrete cracking\")\n",
    "# Get the database\n",
    "db = lusas.database()\n",
    "# 2D model with Y vertical\n",
    "db.setAnalysisCategory(\"2D Inplane\")\n",
    "db.setVerticalDir(\"Y\")\n",
    "db.setModelUnits(\"kN,m,t,s,C\")\n"
   ]
  },
  {
   "cell_type": "code",
   "execution_count": null,
   "metadata": {},
   "outputs": [],
   "source": [
    "class Point:\n",
    "    def __init__(self, x:float, y:float):\n",
    "        self.X = x\n",
    "        self.Y = y\n",
    "        self.LusasPoint = None\n",
    "    \n",
    "    def create_lusas_point(self):\n",
    "        # geometryData object contains all the settings to perform a geometry creation\n",
    "        geom_data = lusas.geometryData().setAllDefaults().setLowerOrderGeometryType(\"coordinates\")\n",
    "        geom_data.addCoords(self.X, self.Y, 0)\n",
    "        self.LusasPoint = lusas.database().createPoint(geom_data).getObjects(\"Point\")[0]\n",
    "\n",
    "    def offset(self, x:float, y:float) -> 'Point':\n",
    "        return Point(self.X + x, self.Y + y)\n",
    "\n",
    "class Line:\n",
    "    def __init__(self, p1:Point, p2:Point):\n",
    "        self.P1 = p1\n",
    "        self.P2 = p2\n",
    "        self.LusasLine = None\n",
    "\n",
    "    def create_lusas_line(self):\n",
    "        # Create the points in lusas first if they have not alraedy been created\n",
    "        if self.P1.LusasPoint is None : self.P1.create_lusas_point()\n",
    "        if self.P2.LusasPoint is None : self.P2.create_lusas_point()\n",
    "\n",
    "        # geometryData object contains all the settings to perform a geometry creation\n",
    "        geom_data = lusas.geometryData().setAllDefaults()         \n",
    "        # set the options for creating straight lines from points\n",
    "        geom_data.setCreateMethod(\"straight\").setLowerOrderGeometryType(\"points\")\n",
    "        # Create an object set to contain the points and use this set to create the line\n",
    "        obs = lusas.newObjectSet()                 \n",
    "        obs.add(self.P1.LusasPoint)\n",
    "        obs.add(self.P2.LusasPoint)\n",
    "        # Create the line and save it\n",
    "        self.LusasLine = obs.createLine(geom_data).getObjects(\"Line\")[0]"
   ]
  },
  {
   "cell_type": "code",
   "execution_count": null,
   "metadata": {},
   "outputs": [],
   "source": [
    "toe_length = (base_width-wall_thickness)/2\n",
    "inner_wall_height = wall_height-beam_thickness"
   ]
  },
  {
   "cell_type": "code",
   "execution_count": null,
   "metadata": {},
   "outputs": [],
   "source": [
    "lines = []\n",
    "lines.append(Line(Point(0,0),   Point(base_width, 0)))\n",
    "lines.append(Line(lines[-1].P2, lines[-1].P2.offset(0           , base_thickness)))\n",
    "lines.append(Line(lines[-1].P2, lines[-1].P2.offset(-toe_length , 0)))\n",
    "lines.append(Line(lines[-1].P2, lines[-1].P2.offset(0           , inner_wall_height)))\n",
    "lines.append(Line(lines[-1].P2, lines[-1].P2.offset(+beam_length, 0)))\n",
    "lines.append(Line(lines[-1].P2, lines[-1].P2.offset(0           , -inner_wall_height)))\n",
    "lines.append(Line(lines[-1].P2, lines[-1].P2.offset(-toe_length , 0)))\n",
    "lines.append(Line(lines[-1].P2, lines[-1].P2.offset(0           , -base_thickness)))\n",
    "lines.append(Line(lines[-1].P2, lines[-1].P2.offset(base_width  , 0)))\n",
    "lines.append(Line(lines[-1].P2, lines[-1].P2.offset(0           , base_thickness)))\n",
    "lines.append(Line(lines[-1].P2, lines[-1].P2.offset(-toe_length , 0)))\n",
    "lines.append(Line(lines[-1].P2, lines[-1].P2.offset(0           , wall_height)))\n",
    "lines.append(Line(lines[-1].P2, lines[-1].P2.offset(-beam_length-2*wall_thickness  , 0)))\n",
    "lines.append(Line(lines[-1].P2, lines[-1].P2.offset(0           , -wall_height)))\n",
    "lines.append(Line(lines[-1].P2, lines[-1].P2.offset(-toe_length , -0)))\n",
    "lines.append(Line(lines[-1].P2, lines[0].P1)) # Close the lines"
   ]
  },
  {
   "cell_type": "code",
   "execution_count": null,
   "metadata": {},
   "outputs": [],
   "source": [
    "line : Line\n",
    "for line in lines:\n",
    "    line.create_lusas_line()"
   ]
  },
  {
   "cell_type": "code",
   "execution_count": null,
   "metadata": {},
   "outputs": [],
   "source": [
    "geom_data = lusas.geometryData().setAllDefaults()\n",
    "geom_data.setCreateMethod(\"planar\")\n",
    "geom_data.setLowerOrderGeometryType(\"lines\")\n",
    "surface = lusas.newObjectSet().add([l.LusasLine for l in lines]).createSurface(geom_data).getObjects(\"Surface\")[0]\n"
   ]
  },
  {
   "cell_type": "code",
   "execution_count": null,
   "metadata": {},
   "outputs": [],
   "source": [
    "bars20 = []\n",
    "\n",
    "# Base 1 Cage\n",
    "bars20.append(Line(lines[0].P1.offset(cover, cover), lines[0].P2.offset(-cover, cover) ))\n",
    "bars20.append(Line(bars20[-1].P2, lines[1].P2.offset(-cover, -cover) ))\n",
    "bars20.append(Line(bars20[-1].P2, bars20[-1].P2.offset(-base_width+2*cover, 0) ))\n",
    "bars20.append(Line(bars20[-1].P2, bars20[0].P1 ))\n",
    "\n",
    "# Base 2 Cage\n",
    "bars20.append(Line(lines[8].P1.offset(cover, cover), lines[8].P2.offset(-cover, cover) ))\n",
    "bars20.append(Line(bars20[-1].P2, lines[9].P2.offset(-cover, -cover) ))\n",
    "bars20.append(Line(bars20[-1].P2, bars20[-1].P2.offset(-base_width+2*cover, 0) ))\n",
    "bars20.append(Line(bars20[-1].P2, bars20[4].P1 ))\n",
    "\n",
    "for bar in bars20:\n",
    "    bar.create_lusas_line()"
   ]
  },
  {
   "cell_type": "code",
   "execution_count": null,
   "metadata": {},
   "outputs": [],
   "source": [
    "bars25 = []\n",
    "# Left Wall Cage\n",
    "bars25.append(Line(lines[13].P1.offset(cover, -cover), lines[13].P1.offset(cover, -wall_height - base_thickness + cover) ))\n",
    "bars25.append(Line(bars25[-1].P2, bars25[-1].P2.offset(wall_thickness-2*cover, 0.0) ))\n",
    "bars25.append(Line(bars25[-1].P2, bars25[-1].P2.offset(0, base_thickness + wall_height - 2*cover) ))\n",
    "bars25.append(Line(bars25[-1].P2, bars25[0].P1 ))\n",
    "\n",
    "# Right Wall Cage\n",
    "bars25.append(Line(lines[12].P1.offset(-cover, -cover), lines[12].P1.offset(-cover, -wall_height - base_thickness + cover) ))\n",
    "bars25.append(Line(bars25[-1].P2, bars25[-1].P2.offset(-wall_thickness+2*cover, 0.0) ))\n",
    "bars25.append(Line(bars25[-1].P2, bars25[-1].P2.offset(0, base_thickness + wall_height - 2*cover) ))\n",
    "bars25.append(Line(bars25[-1].P2, bars25[-3].P1 ))\n",
    "\n",
    "# Beam Cage\n",
    "bars25.append(Line(lines[12].P1.offset(-cover, -cover), lines[12].P1.offset(-beam_length-2*wall_thickness+cover, -cover) ))\n",
    "bars25.append(Line(bars25[-1].P2, bars25[-1].P2.offset(0, -beam_thickness+2*cover) ))\n",
    "bars25.append(Line(bars25[-1].P2, bars25[-1].P2.offset(beam_length+2*wall_thickness-2*cover, 0) ))\n",
    "bars25.append(Line(bars25[-1].P2, bars25[-3].P1 ))\n",
    "\n",
    "for bar in bars25:\n",
    "    bar.create_lusas_line()"
   ]
  },
  {
   "cell_type": "code",
   "execution_count": null,
   "metadata": {},
   "outputs": [],
   "source": [
    "# Create a plane strain mesh attribute and assign it to the surface\n",
    "mesh_attr = db.createMeshSurface(\"Plane Strain Mesh\")\n",
    "mesh_attr.setRegularSize(\"QPN4M\", beam_thickness / 4, True)\n",
    "mesh_attr.setValue(\"allowIrregular\", True)\n",
    "\n",
    "# When not passing an assignment object the default assignment settings are used\n",
    "mesh_attr.assignTo(surface)\n",
    "\n",
    "\n",
    "# Create parasitic bar element mesh\n",
    "bar_mesh_attr = db.createMeshLine(\"Bar Mesh\")\n",
    "bar_mesh_attr.addElementName(\"BAR2\")\n",
    "bar_mesh_attr.setParasiticType(\"reinforcement\", \"allow gaps\")\n",
    "bar_mesh_attr.removeParasiticSpacing()\n",
    "bar_mesh_attr.setParasiticMaxPercentDeviation(10.0)\n",
    "bar_mesh_attr.setValue(\"uiSpacing\", \"uniform\")\n",
    "# Assign to bar lines\n",
    "bar_mesh_attr.assignTo([l.LusasLine for l in bars20])  \n",
    "bar_mesh_attr.assignTo([l.LusasLine for l in bars25])  \n",
    "\n",
    "# Tell Modeller to generate the mesh\n",
    "db.resetMesh()\n",
    "db.updateMesh()\n"
   ]
  },
  {
   "cell_type": "code",
   "execution_count": null,
   "metadata": {},
   "outputs": [],
   "source": [
    "# Create a spring support attribute\n",
    "spring_support_attr = db.createSupportStructural(\"Sup1\")\n",
    "spring_support_attr.setStructural(\"S\", \"S\", \"F\", \"F\", \"F\", \"F\", \"F\", \"F\", \"C\", \"F\")\n",
    "spring_support_attr.setSpring(\"Length\", \"500.0\", \"500.0\", 0.0, 0.0, 0.0, 0.0, 0.0, 0.0, 0.0, 0.0)\n",
    "\n",
    "spring_support_attr.assignTo(lines[0].LusasLine)\n",
    "spring_support_attr.assignTo(lines[8].LusasLine)"
   ]
  },
  {
   "cell_type": "code",
   "execution_count": null,
   "metadata": {},
   "outputs": [],
   "source": [
    "# Create reinforcement bar attributes with a helper function\n",
    "names = Helpers.create_reinforcing_bar_attributes(db, [0.02, 0.025])\n",
    "\n",
    "stiffness_mod_bars_150 = db.createSectionPropertyModifier(\"Bars at 150mm\")\n",
    "stiffness_mod_bars_150.setMassFactor(\"A\", 1/0.15)\n",
    "stiffness_mod_bars_150.setStiffnessFactor(\"A\", 1/0.15)\n",
    "stiffness_mod_bars_150.setStiffnessFactor(\"Izz\", 1/0.15)\n",
    "stiffness_mod_bars_150.setStiffnessFactor(\"Asy\", 1/0.15)\n",
    "\n",
    "# Assign the geometry to the 20mm bars\n",
    "attr = db.getAttribute(\"Geometric\", names[0])\n",
    "attr.assignTo([l.LusasLine for l in bars20])\n",
    "\n",
    "# Assign the geometry to the 25mm bars\n",
    "attr = db.getAttribute(\"Geometric\", names[1])\n",
    "attr.assignTo([l.LusasLine for l in bars25])\n",
    "\n",
    "# All bars are spaced at 150 so increase the bar stiffnesses to reflect their properties per unit width\n",
    "stiffness_mod_bars_150.assignTo([l.LusasLine for l in bars20])\n",
    "stiffness_mod_bars_150.assignTo([l.LusasLine for l in bars25])\n",
    "\n",
    "# Elastic material for the bars\n",
    "rebar_material_attr = db.createIsotropicMaterial(\"Reinforcing Steel\", 200.0E6, 0.3, 7.85)\n",
    "rebar_material_attr.assignTo([l.LusasLine for l in bars20])\n",
    "rebar_material_attr.assignTo([l.LusasLine for l in bars25])\n"
   ]
  },
  {
   "cell_type": "code",
   "execution_count": null,
   "metadata": {},
   "outputs": [],
   "source": [
    "non_linear_concrete = db.createIsotropicMaterial(\"Nonlinear Concrete\", 36.75E6, 0.2, 2.5484)\n",
    "if lusas.getMajorVersionNumber() > 21:\n",
    "    non_linear_concrete.addPlasticConcrete109(48.0E3, 3.5E3, 2.2E-3, 0.0, 0.13, \n",
    "                                            1.15, 0.6, -0.1, 0.425, 0.5, 5.0, 1.25, 0.8, \n",
    "                                            0.05, 0.06, 0.03, 0.6, 0.75, 8.0, 8.0, 3.0, 2, 2, 0.0, \"fracture\")\n",
    "else:\n",
    "    non_linear_concrete.addPlasticConcrete109(48.0E3, 3.5E3, 2.2E-3, 0.0, 0.13, \n",
    "                                            1.15, 0.6, -0.1, 0.3, 0.5, 5.0, 1.25, 0.8, \n",
    "                                            0.05, 0.06, 0.03, 0.6, 0.75, 8.0, 8.0, 3.0, 2, 2, 0.0)\n",
    "\n",
    "non_linear_concrete.assignTo(surface)\n",
    "\n",
    "                                \n"
   ]
  },
  {
   "cell_type": "code",
   "execution_count": null,
   "metadata": {},
   "outputs": [],
   "source": [
    "# Show fleshed bars\n",
    "lusas.view().attributes().visualiseAll(\"Geometric\")"
   ]
  },
  {
   "cell_type": "markdown",
   "metadata": {},
   "source": [
    "# Loading"
   ]
  },
  {
   "cell_type": "code",
   "execution_count": null,
   "metadata": {},
   "outputs": [],
   "source": [
    "# For a nonlinear analysis we'll assign all the permanent load to the first loadcase and increase the variable load in the second loadcase until the structure fails\n",
    "loadcase_dl:IFLoadcase = win32.CastTo(db.getLoadset(1), \"IFLoadcase\")\n",
    "loadcase_dl.setName(\"Dead Load\")\n",
    "loadcase_dl.addGravity(True)\n",
    "\n",
    "nl_control = loadcase_dl.setTransientControl(0).getTransientControl()\n",
    "nl_control.setNonlinearManual().setOutput().setConstants()\n"
   ]
  },
  {
   "cell_type": "code",
   "execution_count": null,
   "metadata": {},
   "outputs": [],
   "source": [
    "# Live load case incremented until failure\n",
    "loadcase_ll = db.createLoadcase(\"Live Load\", \"Analysis 1\", 0, False)\n",
    "\n",
    "loadcase_ll.setTransientControl(0)\n",
    "nl_control = loadcase_ll.getTransientControl()\n",
    "nl_control.setNonlinearAutomatic(0.1).setOutput().setConstants()\n",
    "nl_control.setValue(\"Iterations\", 4)\n",
    "nl_control.setValue(\"MaxChangeInLoadFactor\", 0.0)\n",
    "nl_control.setValue(\"MaxLoadFactor\", 1.0)\n",
    "nl_control.setValue(\"IncrementMethod\", \"Constant load level\")\n",
    "\n",
    "llassignment = lusas.assignment().setAllDefaults().setLoadset(loadcase_ll)\n",
    "\n",
    "global_dist = db.createLoadingGlobalDistributed(\"GlbD1\")\n",
    "global_dist.setGlobalDistributed(\"Length\", 0.0, -100.0, 0.0, 0.0, 0.0, 0.0, 0.0, 0.0, False, 0.0)\n",
    "global_dist.assignTo(lines[12].LusasLine, llassignment)"
   ]
  },
  {
   "cell_type": "markdown",
   "metadata": {},
   "source": [
    "# Solve"
   ]
  },
  {
   "cell_type": "code",
   "execution_count": null,
   "metadata": {},
   "outputs": [],
   "source": [
    "db.getAnalysis(\"Analysis 1\").solve(True)\n",
    "db.openAllResults()"
   ]
  },
  {
   "cell_type": "code",
   "execution_count": null,
   "metadata": {},
   "outputs": [],
   "source": [
    "lusas.view().insertContoursLayer()\n",
    "lusas.view().contours().setResultsTransformNone()\n",
    "lusas.view().contours().setResults(\"Concrete results - Plane Strain\", \"CWMax\")\n",
    "lusas.view().contours().setDisplayType(\"ElementNodal\")"
   ]
  }
 ],
 "metadata": {
  "kernelspec": {
   "display_name": "Python 3",
   "language": "python",
   "name": "python3"
  },
  "language_info": {
   "codemirror_mode": {
    "name": "ipython",
    "version": 3
   },
   "file_extension": ".py",
   "mimetype": "text/x-python",
   "name": "python",
   "nbconvert_exporter": "python",
   "pygments_lexer": "ipython3",
   "version": "3.13.3"
  }
 },
 "nbformat": 4,
 "nbformat_minor": 2
}
