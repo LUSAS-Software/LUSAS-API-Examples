{
 "cells": [
  {
   "cell_type": "markdown",
   "metadata": {},
   "source": [
    "# #300 Warren truss rail bridge\n",
    "<i>A basic steel truss bridge structure is modelled with beam elements. Track layouts are created for subsequent optimisation of rail loading</i>\n",
    "***"
   ]
  },
  {
   "cell_type": "markdown",
   "metadata": {},
   "source": [
    "![Preview](../_img/jupyter_notebook_300.png)"
   ]
  },
  {
   "cell_type": "markdown",
   "metadata": {},
   "source": [
    "Input Parameters"
   ]
  },
  {
   "cell_type": "code",
   "execution_count": null,
   "metadata": {},
   "outputs": [],
   "source": [
    "truss_height = 5\n",
    "truss_width = 5\n",
    "segment_lengths = [5,5,5,5,5]"
   ]
  },
  {
   "cell_type": "code",
   "execution_count": null,
   "metadata": {},
   "outputs": [],
   "source": [
    "import sys; sys.path.append('../') # Reference modules in parent directory\n",
    "from shared.LPI import *\n",
    "lusas = get_lusas_modeller()\n",
    "if lusas.existsDatabase() and lusas.db().isModified():\n",
    "    raise Exception(\"This script will create a new model. Please save or close the current model and try again\")\n",
    "\n",
    "# Initialise the helpers module with a reference to LUSAS\n",
    "import shared.Helpers as Helpers\n",
    "Helpers.initialise(lusas)\n",
    "\n",
    "# Create a new model\n",
    "lusas.newProject(\"Structural\", \"Warren_Truss.mdl\")\n",
    "# Get a reference to the current model database for convenience\n",
    "db = lusas.database() \n",
    "# 3D model with Z vertical\n",
    "db.setAnalysisCategory(\"3D\")\n",
    "db.setVerticalDir(\"Z\")\n",
    "\n",
    "# Set the unit system\n",
    "db.setModelUnits(\"kN,m,t,s,C\")\n",
    "# Set the current view\n",
    "lusas.view().setIsometric()\n",
    "lusas.view().geometry().autoColourByAttributes(\"Geometric\", True)\n"
   ]
  },
  {
   "cell_type": "code",
   "execution_count": null,
   "metadata": {},
   "outputs": [],
   "source": [
    "# Mesh attribute for all members. \n",
    "mesh_attr = db.createMeshLine(\"Beam mesh 1m\").setSize(\"BMI21\", 1)\n",
    "\n",
    "# Steel material attributes for all members.\n",
    "steel_mat_attr = db.createIsotropicMaterial(\"Steel\", 2e6, 0.3, 7.4)\n",
    "\n",
    "# Bottom chord geometric attribute\n",
    "bot_chrd_geom_attr = db.createGeometricLine(\"Bottom chord\")\n",
    "bot_chrd_geom_attr.setFromLibrary(\"Canadian Sections\", \"W: Wide-Flange Shapes\", \"W920x253\", 0, 0, 0)\n",
    "\n",
    "# Top chord geometric attribute\n",
    "top_chrd_geom_attr = db.createGeometricLine(\"Top chord\")\n",
    "top_chrd_geom_attr.setFromLibrary(\"Canadian Sections\", \"W: Wide-Flange Shapes\", \"W920x253\", 0, 0, 0)\n",
    "\n",
    "# Diagonal geometric attribute\n",
    "web_geom_attr = db.createGeometricLine(\"Web diagonals\")\n",
    "web_geom_attr.setFromLibrary(\"Canadian Sections\", \"W: Wide-Flange Shapes\", \"W920x253\", 0, 0, 0)\n",
    "\n",
    "# Bottom chord cross girder geometric attribute\n",
    "btm_crs_geom_attr = db.createGeometricLine(\"Bottom transverse girders\")\n",
    "btm_crs_geom_attr.setFromLibrary(\"Canadian Sections\", \"W: Wide-Flange Shapes\", \"W920x253\", 0, 0, 0)\n",
    "\n",
    "# Bottom chord bracing geometric attribute\n",
    "btm_brc_geom_attr = db.createGeometricLine(\"Bottom bracing\")\n",
    "btm_brc_geom_attr.setFromLibrary(\"Canadian Sections\", \"W: Wide-Flange Shapes\", \"W530x272\", 0, 0, 0)\n",
    "\n",
    "# Top chord cross girder geometric attribute\n",
    "top_crs_geom_attr = db.createGeometricLine(\"Top transverse girders\")\n",
    "top_crs_geom_attr.setFromLibrary(\"Canadian Sections\", \"W: Wide-Flange Shapes\", \"W920x253\", 0, 0, 0)\n",
    "\n",
    "# Top chord bracing geometric attribute\n",
    "top_brc_geom_attr = db.createGeometricLine(\"Top bracing\")\n",
    "top_brc_geom_attr.setFromLibrary(\"Canadian Sections\", \"W: Wide-Flange Shapes\", \"W530x272\", 0, 0, 0)\n",
    "\n",
    "# Set the element types\n",
    "for geo_attr in [bot_chrd_geom_attr, top_chrd_geom_attr, web_geom_attr, btm_crs_geom_attr]:\n",
    "    geo_attr.setValue(\"elementType\", \"3D Thick Beam\")\n",
    "\n",
    "\n",
    "# Support attributes\n",
    "support_pinned_attr = db.createSupportStructural(\"Pinned\").setStructural(\"R\", \"R\", \"R\", \"F\", \"F\", \"F\", \"F\", \"F\", \"C\", \"F\") # F=Free, R=Restrained\n",
    "support_slide_attr  = db.createSupportStructural(\"Slide\").setStructural(\"F\", \"R\", \"R\", \"F\", \"F\", \"F\", \"F\", \"F\", \"C\", \"F\")\n"
   ]
  },
  {
   "cell_type": "code",
   "execution_count": null,
   "metadata": {},
   "outputs": [],
   "source": [
    "# Set the mesh lock to prevent remeshing on each assignment\n",
    "db.setMeshLock(True)\n",
    "\n",
    "# Set the mesh and material attributes as default so they are automatically assigned to all new created geometry\n",
    "db.setAsDefault(\"Line mesh\", mesh_attr)\n",
    "db.setAsDefault(\"Isotropic Material\", steel_mat_attr)"
   ]
  },
  {
   "cell_type": "code",
   "execution_count": null,
   "metadata": {},
   "outputs": [],
   "source": [
    "# Create a class to hold the points and lines for each truss\n",
    "class WarrenTruss:\n",
    "\n",
    "    def __init__(self, originX:float, originY:float, originZ:float):\n",
    "        self.originX = originX\n",
    "        self.originY = originY\n",
    "        self.originZ = originZ\n",
    "        \n",
    "        self.bottom_chord_points = []\n",
    "        self.top_chord_points    = []\n",
    "        self.bottom_chord_lines  = []\n",
    "        self.top_chord_lines     = []\n",
    "        self.web_lines           = []\n",
    "\n",
    "\n",
    "    def create_bottom_chord_points(self):\n",
    "        # List of points in the bottom chord, initialised with a point at the origin\n",
    "        self.bottom_chord_points = [Helpers.create_point(self.originX,self.originY,self.originZ)]\n",
    "\n",
    "        # Append additional points for the segment lengths\n",
    "        x = self.originX\n",
    "        for s in segment_lengths:\n",
    "            x+=s\n",
    "            self.bottom_chord_points.append(Helpers.create_point(x, self.originY, self.originZ))\n",
    "\n",
    "\n",
    "    def create_top_chord_points(self):\n",
    "        # Offset the top chord point by half the first segment length\n",
    "        x = self.originX + segment_lengths[0] / 2\n",
    "\n",
    "        # List of points in the top chord\n",
    "        self.top_chord_points = [Helpers.create_point(self.originX + x, self.originY, self.originZ + truss_height)]\n",
    "\n",
    "        # Append additional points for the segment lengths\n",
    "        for i in range(0, len(segment_lengths)-1):\n",
    "            x+=segment_lengths[i]\n",
    "            self.top_chord_points.append(Helpers.create_point(x, self.originY, self.originZ + truss_height))\n",
    "\n",
    "\n",
    "    def create_bottom_chord_lines(self):\n",
    "        # Connect the points along the bottom chord\n",
    "        for i in range(0, len(segment_lengths)):\n",
    "            line = Helpers.create_line_from_points(self.bottom_chord_points[i], self.bottom_chord_points[i+1])\n",
    "            self.bottom_chord_lines.append(line)\n",
    "\n",
    "\n",
    "    def create_top_chord_lines(self):\n",
    "        # Connect the points along the top chord\n",
    "        for i in range(0, len(segment_lengths)-1):\n",
    "            line = Helpers.create_line_from_points(self.top_chord_points[i], self.top_chord_points[i+1])\n",
    "            self.top_chord_lines.append(line)\n",
    "\n",
    "\n",
    "    def create_web_lines(self):\n",
    "\n",
    "        for i in range(0, len(segment_lengths)):\n",
    "            line = Helpers.create_line_from_points(self.bottom_chord_points[i], self.top_chord_points[i])\n",
    "            self.web_lines.append(line)\n",
    "\n",
    "        for i in range(0, len(segment_lengths)):\n",
    "            line = Helpers.create_line_from_points(self.top_chord_points[i], self.bottom_chord_points[i+1])\n",
    "            self.web_lines.append(line)"
   ]
  },
  {
   "cell_type": "code",
   "execution_count": null,
   "metadata": {},
   "outputs": [],
   "source": [
    "truss1 = WarrenTruss(0,0,0)\n",
    "truss1.create_bottom_chord_points()\n",
    "truss1.create_top_chord_points()\n",
    "\n",
    "truss2 = WarrenTruss(0, truss_width, 0)\n",
    "truss2.create_bottom_chord_points()\n",
    "truss2.create_top_chord_points()"
   ]
  },
  {
   "cell_type": "code",
   "execution_count": null,
   "metadata": {},
   "outputs": [],
   "source": [
    "# # Create the bottom chord lines. Set the default section for automatic assignment to the bottom chord\n",
    "db.setAsDefault(\"Line Geometric\", bot_chrd_geom_attr)\n",
    "\n",
    "truss1.create_bottom_chord_lines()\n",
    "truss2.create_bottom_chord_lines()"
   ]
  },
  {
   "cell_type": "code",
   "execution_count": null,
   "metadata": {},
   "outputs": [],
   "source": [
    "# Create the top chord lines. Set the default section for automatic assignment to the top chord\n",
    "db.setAsDefault(\"Line Geometric\", top_chrd_geom_attr)\n",
    "\n",
    "truss1.create_top_chord_lines()\n",
    "truss2.create_top_chord_lines()"
   ]
  },
  {
   "cell_type": "code",
   "execution_count": null,
   "metadata": {},
   "outputs": [],
   "source": [
    "# Create web lines. Set the default section for automatic assignment\n",
    "db.setAsDefault(\"Line Geometric\", web_geom_attr)\n",
    "\n",
    "truss1.create_web_lines()\n",
    "truss2.create_web_lines()"
   ]
  },
  {
   "cell_type": "code",
   "execution_count": null,
   "metadata": {},
   "outputs": [],
   "source": [
    "# Create bottom cross girder lines between the two truss section. Set the default section for automatic assignment\n",
    "db.setAsDefault(\"Line Geometric\", btm_crs_geom_attr)\n",
    "\n",
    "for i in range(0, len(segment_lengths)+1):\n",
    "    Helpers.create_line_from_points(truss1.bottom_chord_points[i], truss2.bottom_chord_points[i])"
   ]
  },
  {
   "cell_type": "code",
   "execution_count": null,
   "metadata": {},
   "outputs": [],
   "source": [
    "# Create bottom cross girder lines between the two truss section. Set the default section for automatic assignment\n",
    "db.setAsDefault(\"Line Geometric\", btm_brc_geom_attr)\n",
    "\n",
    "for i in range(0, len(segment_lengths)):\n",
    "    if i%2==0:\n",
    "        Helpers.create_line_from_points(truss1.bottom_chord_points[i], truss2.bottom_chord_points[i+1])\n",
    "    else:\n",
    "        Helpers.create_line_from_points(truss2.bottom_chord_points[i], truss1.bottom_chord_points[i+1])"
   ]
  },
  {
   "cell_type": "code",
   "execution_count": null,
   "metadata": {},
   "outputs": [],
   "source": [
    "# Create top cross girder lines between the two truss section. Set the default section for automatic assignment\n",
    "db.setAsDefault(\"Line Geometric\", top_crs_geom_attr)\n",
    "\n",
    "for i in range(0, len(segment_lengths)):\n",
    "    Helpers.create_line_from_points(truss1.top_chord_points[i], truss2.top_chord_points[i])"
   ]
  },
  {
   "cell_type": "code",
   "execution_count": null,
   "metadata": {},
   "outputs": [],
   "source": [
    "# Create top cross girder lines between the two truss section. Set the default section for automatic assignment\n",
    "db.setAsDefault(\"Line Geometric\", top_brc_geom_attr)\n",
    "\n",
    "for i in range(0, len(segment_lengths)-1):\n",
    "    if i%2==0:\n",
    "        Helpers.create_line_from_points(truss1.top_chord_points[i], truss2.top_chord_points[i+1])\n",
    "    else:\n",
    "        Helpers.create_line_from_points(truss2.top_chord_points[i], truss1.top_chord_points[i+1])"
   ]
  },
  {
   "cell_type": "markdown",
   "metadata": {},
   "source": [
    "Assign supports:\n",
    "\n",
    "(if you get a \"Can't visualise attributes without a mesh\" warning, just click OK. This can be avoided by assigning a mesh first.)"
   ]
  },
  {
   "cell_type": "code",
   "execution_count": null,
   "metadata": {},
   "outputs": [],
   "source": [
    "# Assign supports\n",
    "support_pinned_attr.assignTo(truss1.bottom_chord_points[0])\n",
    "support_pinned_attr.assignTo(truss2.bottom_chord_points[0])\n",
    "support_slide_attr.assignTo(truss1.bottom_chord_points[-1])\n",
    "support_slide_attr.assignTo(truss2.bottom_chord_points[-1])"
   ]
  },
  {
   "cell_type": "markdown",
   "metadata": {},
   "source": [
    "# Create loads"
   ]
  },
  {
   "cell_type": "code",
   "execution_count": null,
   "metadata": {},
   "outputs": [],
   "source": [
    "# Get the automatically created loadcase in analysis 1 and add automatic gravity to it\n",
    "gravity_loadcase : IFLoadcase = db.getLoadset(\"Loadcase 1\", 0)\n",
    "gravity_loadcase.setName(\"Gravity\")\n",
    "gravity_loadcase.addGravity(True)"
   ]
  },
  {
   "cell_type": "code",
   "execution_count": null,
   "metadata": {},
   "outputs": [],
   "source": [
    "# Create a loadcase for wind loading\n",
    "loadset = db.createLoadcase(\"Wind in Y\", \"Analysis 1\")\n",
    "\n",
    "# Create a projected pressure load for the wind in the Y direction\n",
    "wind_load_attr = db.createLoadingBeamProjectedPressure(\"Wind load Y\")\n",
    "wind_load_attr.setLoadDirection(\"globalY\")\n",
    "wind_load_attr.setLoading(\"10.0\")\n",
    "wind_load_attr.setLoadingWidth(\"factor\", 1.0)\n",
    "\n",
    "# Create the assignment settings\n",
    "assignment = lusas.assignment().setAllDefaults().setLoadset(loadset)\n",
    "\n",
    "# Assign to truss 1 lines\n",
    "wind_load_attr.assignTo(truss1.top_chord_lines, assignment)\n",
    "wind_load_attr.assignTo(truss1.web_lines, assignment)\n",
    "wind_load_attr.assignTo(truss1.bottom_chord_lines, assignment)"
   ]
  },
  {
   "cell_type": "code",
   "execution_count": null,
   "metadata": {},
   "outputs": [],
   "source": [
    "# Create a search area attribute to identify the members to be loaded by the rail load\n",
    "search_area_attr = db.createSearchArea(\"Deck\")\n",
    "\n",
    "# Create an object set containing all the lines with the bottom cross girder geometric assignment\n",
    "# The search area needs to form an enclosed area so it contains the bottom chords and cross girders\n",
    "deck_lines = lusas.newObjectSet()\n",
    "deck_lines.add(btm_crs_geom_attr)\n",
    "deck_lines.add(bot_chrd_geom_attr)\n",
    "\n",
    "# Assign the search area to them\n",
    "search_area_attr.assignTo(deck_lines, lusas.assignment().setAllDefaults())"
   ]
  },
  {
   "cell_type": "code",
   "execution_count": null,
   "metadata": {},
   "outputs": [],
   "source": [
    "# Create a single track definition \n",
    "rail_track = db.createRailTrackDefinition(\"TrackDefn1\")\n",
    "track_centreline = rail_track.getCentrelinePath()\n",
    "track_centreline.getDefn().deleteAllLines()\n",
    "track_centreline.getDefn().addStraightV(-10.0, truss_width/2, 0.0, sum(segment_lengths)+10, truss_width/2, 0.0)\n",
    "track_centreline.getDefn().setFacetData(20, 6, -1.0, 3.0, -1.0)\n",
    "track_centreline.getDefn().setSmoothing(False)\n",
    "track_centreline.getDefn().setFilletType(0, True)\n",
    "rail_track.setWidth(1.495)\n",
    "rail_track.closeEnd(False)\n",
    "rail_track.closeStart(False)\n",
    "\n",
    "# And add to the overall track layout arrangement\n",
    "railTrackLayout0 = db.createRailTrackLayout(\"TrackLayout1\").addTrackDefinition(rail_track)"
   ]
  },
  {
   "cell_type": "code",
   "execution_count": null,
   "metadata": {},
   "outputs": [],
   "source": [
    "# Create the mesh before generating the DMI Influence analysis\n",
    "db.setMeshLock(False)\n",
    "db.resetMesh()\n",
    "db.updateMesh()\n"
   ]
  },
  {
   "cell_type": "code",
   "execution_count": null,
   "metadata": {},
   "outputs": [],
   "source": [
    "# Create the rail Influence analysis\n",
    "rail_dmi_analysis = db.createAnalysisRailDMI(\"Rail DMI Analysis 1\")\n",
    "rail_dmi_analysis.setLoadDirection(\"Vertical\")\n",
    "rail_dmi_analysis.setLoadMagnitude(1.0E3)\n",
    "rail_dmi_analysis.setSearchArea(\"Deck\")\n",
    "rail_dmi_analysis.setSearchAssignType(\"area\")\n",
    "rail_dmi_analysis.setIsGrillageType(2)\n",
    "rail_dmi_analysis.setRailTrackLayouts([\"TrackLayout1\"])\n",
    "rail_dmi_analysis.setSelectedResultsGroup(\"assignments\")\n",
    "rail_dmi_analysis.setSelectedElementOutputGroup(\"all\")\n",
    "rail_dmi_analysis.setSelectedNodeOutputGroup(\"all\")"
   ]
  },
  {
   "cell_type": "code",
   "execution_count": null,
   "metadata": {},
   "outputs": [],
   "source": [
    "# Create the influence envelope attribute for member axial force\n",
    "inf_attr = db.createInfluenceEnvelope(\"Axial force influence envelope\")\n",
    "inf_attr.setResultsTransformElement()\n",
    "inf_attr.setEntity(\"Force/Moment - Thick 3D Beam\")\n",
    "inf_attr.addComponentNames([\"Fx\"])\n",
    "inf_attr.includeCoincident(True)\n",
    "\n",
    "# Create the assignment settings\n",
    "assignment = lusas.assignment().setAllDefaults().setAnalysis(\"Rail DMI Analysis 1\")\n",
    "\n",
    "# Assign the influence envelope attribute to the analysis\n",
    "inf_attr.assignTo(truss1.top_chord_lines, assignment)\n",
    "inf_attr.assignTo(truss1.web_lines, assignment)\n",
    "inf_attr.assignTo(truss1.bottom_chord_lines, assignment)"
   ]
  },
  {
   "cell_type": "markdown",
   "metadata": {},
   "source": [
    "# Solve Analyses"
   ]
  },
  {
   "cell_type": "code",
   "execution_count": null,
   "metadata": {},
   "outputs": [],
   "source": [
    "# Solve the analysis \n",
    "db.getAnalysis(\"Analysis 1\").solve(True)\n",
    "rail_dmi_analysis.solve(True)\n",
    "db.openAllResults(True, False)"
   ]
  },
  {
   "cell_type": "markdown",
   "metadata": {},
   "source": [
    "Currently the VLO Envelope Analysis must be defined through the user interface"
   ]
  }
 ],
 "metadata": {
  "kernelspec": {
   "display_name": "Python 3",
   "language": "python",
   "name": "python3"
  },
  "language_info": {
   "codemirror_mode": {
    "name": "ipython",
    "version": 3
   },
   "file_extension": ".py",
   "mimetype": "text/x-python",
   "name": "python",
   "nbconvert_exporter": "python",
   "pygments_lexer": "ipython3",
   "version": "3.13.5"
  }
 },
 "nbformat": 4,
 "nbformat_minor": 2
}
