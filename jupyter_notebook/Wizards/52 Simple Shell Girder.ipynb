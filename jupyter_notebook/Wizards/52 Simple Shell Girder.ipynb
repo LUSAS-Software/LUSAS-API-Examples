{
 "cells": [
  {
   "cell_type": "markdown",
   "metadata": {},
   "source": [
    "# #52 Simple I girder model in shell elements\n",
    "<i>Steel I girder modelled in shell elements with linear static analysis</i>\n",
    "***"
   ]
  },
  {
   "cell_type": "markdown",
   "metadata": {},
   "source": [
    "![Preview](../_img/jupyter_notebook_052.png)"
   ]
  },
  {
   "cell_type": "markdown",
   "metadata": {},
   "source": [
    "Define a list of segment lengths so the girder can have changes in sections"
   ]
  },
  {
   "cell_type": "code",
   "execution_count": 1,
   "metadata": {},
   "outputs": [],
   "source": [
    "''' Inputs (Units are N,mm)'''\n",
    "segments_lengths = [6000, 5000, 6000]  # Each segment of the girder has a different section, defined below\n",
    "mesh_size = 500"
   ]
  },
  {
   "cell_type": "markdown",
   "metadata": {},
   "source": [
    "Create a girder class to hold the section dimensions for each segment\n",
    "We'll create points in the LUSAS model for each section and then use the points to create surfaces joining them."
   ]
  },
  {
   "cell_type": "code",
   "execution_count": 2,
   "metadata": {},
   "outputs": [],
   "source": [
    "class GirderSection:\n",
    "    def __init__(self, tfb:float, tfthk:float, dw:float, tw:float, bfb:float, bfthk:float):\n",
    "        self.top_flange_breadth = tfb\n",
    "        self.top_flange_thk = tfthk\n",
    "        self.web_depth = dw\n",
    "        self.web_thk = tw\n",
    "        self.bottom_flange_breadth = bfb\n",
    "        self.bottom_flange_thk = bfthk\n",
    "        # We'll save the points created in the model in these lists so we can later use them to define surfaces\n",
    "        self.bf_points = []\n",
    "        self.tf_points = []\n"
   ]
  },
  {
   "cell_type": "markdown",
   "metadata": {},
   "source": [
    "Create a list of section definitions, we'll need one per segment + 1 for the end."
   ]
  },
  {
   "cell_type": "code",
   "execution_count": 3,
   "metadata": {},
   "outputs": [],
   "source": [
    "sections :list[GirderSection] = []\n",
    "sections.append(GirderSection(500, 30, 1500, 15, 600, 40))\n",
    "sections.append(GirderSection(500, 50, 1500, 10, 600, 60))\n",
    "sections.append(GirderSection(500, 30, 1500, 15, 600, 40))\n",
    "sections.append(GirderSection(500, 30, 1500, 15, 600, 40))\n",
    "# Check we have defined one more section then segment lengths\n",
    "assert(len(segments_lengths) == len(sections)-1)"
   ]
  },
  {
   "cell_type": "markdown",
   "metadata": {},
   "source": [
    "Create a list of stiffener thicknesses that will be positioned at each change in section. A zero thickness indicates no stiffener."
   ]
  },
  {
   "cell_type": "code",
   "execution_count": 4,
   "metadata": {},
   "outputs": [],
   "source": [
    "stiffener_thicknesses = [20, 10, 10, 20]\n",
    "\n",
    "# Ensure number of stiffener thicknesses matches the number of segments\n",
    "assert(len(sections) == len(stiffener_thicknesses))"
   ]
  },
  {
   "cell_type": "markdown",
   "metadata": {},
   "source": [
    "### Connect to LUSAS Modeller and create the model"
   ]
  },
  {
   "cell_type": "code",
   "execution_count": 5,
   "metadata": {},
   "outputs": [],
   "source": [
    "import sys; sys.path.append('../') # Reference modules in parent directory\n",
    "from shared.LPI import *\n",
    "lusas = get_lusas_modeller()\n",
    "if lusas.existsDatabase() and lusas.db().isModified():\n",
    "    raise Exception(\"This script will create a new model. Please save or close the current model and try again\")\n",
    "\n",
    "# Create a new model\n",
    "lusas.newProject(\"Structural\", \"Simple_I_Girder_Shell_Model.mdl\")\n",
    "# Get a reference to the model database\n",
    "db = lusas.getDatabase()\n",
    "# Set the analysis category & vertical axis\n",
    "db.setAnalysisCategory(\"3D\")\n",
    "db.setVerticalDir(\"Z\")\n",
    "# Set the unit system\n",
    "db.setModelUnits(\"N,mm,t,s,C\")"
   ]
  },
  {
   "cell_type": "markdown",
   "metadata": {},
   "source": [
    "Create a helper function to create a point in the model. The db.createPoint() function returns an IFObjectSet which can contain multiple objects. Since we have only created a single point we'll get a reference to the point and return it"
   ]
  },
  {
   "cell_type": "code",
   "execution_count": 6,
   "metadata": {},
   "outputs": [],
   "source": [
    "def create_point_in_modeller(x:float, y:float, z:float) -> 'IFPoint':\n",
    "    return db.createPoint(x, y, z).getObject(\"Point\")"
   ]
  },
  {
   "cell_type": "markdown",
   "metadata": {},
   "source": [
    "Create all the points for each section, saving the returned point in the Girder section definition"
   ]
  },
  {
   "cell_type": "code",
   "execution_count": 7,
   "metadata": {},
   "outputs": [],
   "source": [
    "s:GirderSection\n",
    "x = 0\n",
    "for i in range(0, len(sections)):\n",
    "    # Determine the longitudinal position (x coordinate) for each section\n",
    "    if i > 0 : x += segments_lengths[i-1]\n",
    "    # Determine the section to use at each longitudinal position\n",
    "    s = sections[i]\n",
    "    # Create the bottom flange points\n",
    "    s.bf_points.append(create_point_in_modeller(x, +s.bottom_flange_breadth/2, 0.0))\n",
    "    s.bf_points.append(create_point_in_modeller(x, 0.0,                        0.0))\n",
    "    s.bf_points.append(create_point_in_modeller(x, -s.bottom_flange_breadth/2, 0.0))\n",
    "    # Create the top flange points\n",
    "    s.tf_points.append(create_point_in_modeller(x, +s.top_flange_breadth/2, s.web_depth))\n",
    "    s.tf_points.append(create_point_in_modeller(x, 0.0,                     s.web_depth))\n",
    "    s.tf_points.append(create_point_in_modeller(x, -s.top_flange_breadth/2, s.web_depth))"
   ]
  },
  {
   "cell_type": "markdown",
   "metadata": {},
   "source": [
    "Now join up the segment points. First create helper function to create surfaces and assign a geometric thickness attribute"
   ]
  },
  {
   "cell_type": "code",
   "execution_count": 8,
   "metadata": {},
   "outputs": [],
   "source": [
    "def create_surface_in_lusas(pnts: list, thk:float, ecc:float, group:str):\n",
    "\n",
    "    geometryData = lusas.geometryData()\n",
    "    geometryData.setAllDefaults()\n",
    "    geometryData.setCreateMethod(\"coons\")\n",
    "    geometryData.setLowerOrderGeometryType(\"points\")\n",
    "\n",
    "    obs = lusas.newObjectSet()\n",
    "    for p in pnts:\n",
    "        obs.add(p)\n",
    "\n",
    "    objs = obs.createSurface(geometryData).getObjects(\"Surface\")\n",
    "    grp = db.getGroupByName(group)\n",
    "    grp.add(objs, \"Surfaces\")\n",
    "\n",
    "    name = f\"{group} ({thk:.1f}mm)\"\n",
    "\n",
    "    db.createGeometricSurface(name).setSurface(thk, ecc).assignTo(objs)\n"
   ]
  },
  {
   "cell_type": "markdown",
   "metadata": {},
   "source": [
    "Create groups to contain the girder surfaces"
   ]
  },
  {
   "cell_type": "code",
   "execution_count": 9,
   "metadata": {},
   "outputs": [
    {
     "data": {
      "text/plain": [
       "<COMObject createEmptyGroup>"
      ]
     },
     "execution_count": 9,
     "metadata": {},
     "output_type": "execute_result"
    }
   ],
   "source": [
    "db.createEmptyGroup(\"Top Flange\")\n",
    "db.createEmptyGroup(\"Web\")\n",
    "db.createEmptyGroup(\"Bottom Flange\")\n",
    "db.createEmptyGroup(\"Web Stiffeners\")"
   ]
  },
  {
   "cell_type": "markdown",
   "metadata": {},
   "source": [
    "Here we'll create the surfaces between each section definition using the points we created earlier"
   ]
  },
  {
   "cell_type": "code",
   "execution_count": 10,
   "metadata": {},
   "outputs": [],
   "source": [
    "for i in range(0, len(segments_lengths)):\n",
    "\n",
    "    s1:GirderSection = sections[i]   # Section definition at the start of the segment\n",
    "    s2:GirderSection = sections[i+1] # Section definition at the end of the segment\n",
    "\n",
    "    create_surface_in_lusas([ s1.bf_points[0], s2.bf_points[0], s2.bf_points[1], s1.bf_points[1] ], s1.bottom_flange_thk, 0.0, \"Bottom Flange\")\n",
    "    create_surface_in_lusas([ s1.bf_points[1], s2.bf_points[1], s2.bf_points[2], s1.bf_points[2] ], s1.bottom_flange_thk, 0.0, \"Bottom Flange\")\n",
    "    create_surface_in_lusas([ s1.bf_points[1], s1.tf_points[1], s2.tf_points[1], s2.bf_points[1] ], s1.web_thk,           0.0, \"Web\")\n",
    "    create_surface_in_lusas([ s1.tf_points[0], s2.tf_points[0], s2.tf_points[1], s1.tf_points[1] ], s1.top_flange_thk,    0.0, \"Top Flange\")\n",
    "    create_surface_in_lusas([ s1.tf_points[1], s2.tf_points[1], s2.tf_points[2], s1.tf_points[2] ], s1.top_flange_thk,    0.0, \"Top Flange\")"
   ]
  },
  {
   "cell_type": "markdown",
   "metadata": {},
   "source": [
    "Create bearing stiffeners at the end sections"
   ]
  },
  {
   "cell_type": "code",
   "execution_count": 11,
   "metadata": {},
   "outputs": [],
   "source": [
    "for i, thk in enumerate(stiffener_thicknesses):\n",
    "\n",
    "    if thk > 0:\n",
    "\n",
    "        s:GirderSection = sections[i]   # Section definition at the start of the segment\n",
    "        create_surface_in_lusas([ s.bf_points[0], s.tf_points[0], s.tf_points[1], s.bf_points[1] ], thk, 0.0, \"Web Stiffeners\")\n",
    "        create_surface_in_lusas([ s.bf_points[1], s.tf_points[1], s.tf_points[2], s.bf_points[2] ], thk, 0.0, \"Web Stiffeners\")\n"
   ]
  },
  {
   "cell_type": "markdown",
   "metadata": {},
   "source": [
    "We'll need to create and assign a shell mesh attribute"
   ]
  },
  {
   "cell_type": "code",
   "execution_count": 12,
   "metadata": {},
   "outputs": [
    {
     "data": {
      "text/plain": [
       "<COMObject updateMesh>"
      ]
     },
     "execution_count": 12,
     "metadata": {},
     "output_type": "execute_result"
    }
   ],
   "source": [
    "# Create the mesh attribute\n",
    "mesh_attr = db.createMeshSurface(\"SMsh1\")\n",
    "mesh_attr.setRegularSize(\"QTS4\", mesh_size, True)\n",
    "\n",
    "# Assign to all \n",
    "assignment = lusas.assignment().setAllDefaults().setLoadset(1)\n",
    "mesh_attr.assignToAll(assignment)\n",
    "\n",
    "# Mesh the model\n",
    "db.resetMesh()\n",
    "db.updateMesh()"
   ]
  },
  {
   "cell_type": "markdown",
   "metadata": {},
   "source": [
    "And a material attribute"
   ]
  },
  {
   "cell_type": "code",
   "execution_count": 13,
   "metadata": {},
   "outputs": [
    {
     "data": {
      "text/plain": [
       "<COMObject assignToAll>"
      ]
     },
     "execution_count": 13,
     "metadata": {},
     "output_type": "execute_result"
    }
   ],
   "source": [
    "# Create and assign the steel material attribute, we'll do this all inline so we dont hold onto any references\n",
    "db.createIsotropicMaterial(\"Steel\", 200_000, 0.3, 7.8e-9, 10e-6).assignToAll(lusas.assignment().setAllDefaults().setLoadset(1))"
   ]
  },
  {
   "cell_type": "markdown",
   "metadata": {},
   "source": [
    "Support attributes"
   ]
  },
  {
   "cell_type": "code",
   "execution_count": 14,
   "metadata": {},
   "outputs": [],
   "source": [
    "pinned = db.createSupportStructural(\"Fixed in XYZ\").setStructural(\"R\", \"R\", \"R\", \"F\", \"F\", \"F\", \"F\", \"F\", \"C\", \"F\")\n",
    "slide = db.createSupportStructural(\"Fixed in YZ\").setStructural(\"F\", \"R\", \"R\", \"F\", \"F\", \"F\", \"F\", \"F\", \"C\", \"F\")\n",
    "\n",
    "# To assign these support attributes we'll need to get hold of the lines. We can do this via the points that have created for each section\n",
    "\n",
    "# Do this for the start and end sections\n",
    "for i, section in enumerate([sections[0], sections[-1]]):\n",
    "\n",
    "    p0 = section.bf_points[0] # point at the +ve flange edge\n",
    "    p1 = section.bf_points[1] # point at the centre of the web.\n",
    "    p2 = section.bf_points[2] # point at the -ve flange edge\n",
    "\n",
    "    # Loop through connected lines \n",
    "    for line in p1.getHOFs():\n",
    "        # Points of the connected line\n",
    "        ps1 = line.getStartPoint()\n",
    "        ps2 = line.getEndPoint()\n",
    "        # Check if the connected line points are those defining the bottom flange\n",
    "        # If so then we can assign the relevant support attribute\n",
    "        if ps1 == p0 or ps1 == p2 or ps2 == p0 or ps2 == p2:\n",
    "            pinned.assignTo(line) if i == 0 else slide.assignTo(line)\n"
   ]
  },
  {
   "cell_type": "markdown",
   "metadata": {},
   "source": [
    "Set the model to display the assigned plate thicknesses and supports in an isometric orientation"
   ]
  },
  {
   "cell_type": "code",
   "execution_count": 15,
   "metadata": {},
   "outputs": [],
   "source": [
    "lusas.view().insertGeometryLayer() # Make sure the drawing layers exist before accessing them\n",
    "lusas.view().insertAttributesLayer()\n",
    "\n",
    "lusas.view().geometry().autoColourByAttributes(\"Geometric\", True)\n",
    "lusas.view().attributes().visualiseAll(\"Supports\")\n",
    "lusas.view().setIsometric()"
   ]
  }
 ],
 "metadata": {
  "kernelspec": {
   "display_name": "Python 3",
   "language": "python",
   "name": "python3"
  },
  "language_info": {
   "codemirror_mode": {
    "name": "ipython",
    "version": 3
   },
   "file_extension": ".py",
   "mimetype": "text/x-python",
   "name": "python",
   "nbconvert_exporter": "python",
   "pygments_lexer": "ipython3",
   "version": "3.13.2"
  }
 },
 "nbformat": 4,
 "nbformat_minor": 2
}
