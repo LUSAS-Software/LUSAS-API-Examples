{
 "cells": [
  {
   "cell_type": "markdown",
   "metadata": {},
   "source": [
    "# #60 RC Design checking of Tee beam\n",
    "<i>Creates a multispan Tee beam with reinforcement ready for RC Design checks</i>\n",
    "***"
   ]
  },
  {
   "cell_type": "markdown",
   "metadata": {},
   "source": [
    "![Preview](../_img/jupyter_notebook_060.png)"
   ]
  },
  {
   "cell_type": "code",
   "execution_count": null,
   "metadata": {},
   "outputs": [],
   "source": [
    "# Input Params\n",
    "spans_lengths = [5, 10, 5] #m\n",
    "tee_section_width = 1.0\n",
    "tee_section_depth = 1.0\n",
    "tee_section_thk_flange = 0.2\n",
    "tee_section_thk_web = 0.2\n",
    "\n",
    "loading = 100"
   ]
  },
  {
   "cell_type": "markdown",
   "metadata": {},
   "source": [
    "#### Connect to LUSAS and create a new model database"
   ]
  },
  {
   "cell_type": "code",
   "execution_count": null,
   "metadata": {},
   "outputs": [],
   "source": [
    "import sys; sys.path.append('../') # Reference modules in parent directory\n",
    "from shared.LPI_21_1 import *\n",
    "lusas = get_lusas_modeller()\n",
    "if lusas.existsDatabase() and lusas.db().isModified():\n",
    "    raise Exception(\"This script will create a new model. Please save or close the current model and try again\")\n",
    "\n",
    "# Create a new model\n",
    "lusas.newProject(\"Structural\", \"RC Beam Design.mdl\")\n",
    "# Get a reference to the model database\n",
    "db = lusas.getDatabase()\n",
    "# Set the analysis category & vertical axis\n",
    "db.setAnalysisCategory(\"3D\")\n",
    "db.setVerticalDir(\"Z\")\n",
    "# Set the unit system\n",
    "db.setModelUnits(\"kN,m,t,s,C\")"
   ]
  },
  {
   "cell_type": "markdown",
   "metadata": {},
   "source": [
    "#### Create model attributes\n",
    "\n",
    "Create the mesh attribute:"
   ]
  },
  {
   "cell_type": "code",
   "execution_count": null,
   "metadata": {},
   "outputs": [],
   "source": [
    "''' Create a mesh attribute'''\n",
    "# Beam mesh with BMI21 (2 Noded Linear) Elements at 1m lengths\n",
    "mesh_attr = db.createMeshLine(\"Beam Mesh\").setSize(\"BMI21\", 1)"
   ]
  },
  {
   "cell_type": "markdown",
   "metadata": {},
   "source": [
    "Create the geometric attribute using a parametric section:"
   ]
  },
  {
   "cell_type": "code",
   "execution_count": null,
   "metadata": {},
   "outputs": [],
   "source": [
    "''' Create a geometric attribute'''\n",
    "# Create a parametric section utility\n",
    "util = db.createParametricSection('Tee Section Utility')\n",
    "util.setType(\"T\")\n",
    "util.setDimensions(['B', 'D', 'tf', 'tw', 'r'], [tee_section_width, tee_section_depth, tee_section_thk_flange, tee_section_thk_web, 0.0])\n",
    "\n",
    "# Now create the attribute which is based on the utility but provides additional transformations such as eccentricity and tapering\n",
    "geom_section_attr = db.createGeometricLine('Tee Section')\n",
    "geom_section_attr.setFromLibrary(\"Utilities\", \"\", 'Tee Section Utility', 0, 0, 0)"
   ]
  },
  {
   "cell_type": "markdown",
   "metadata": {},
   "source": [
    "Create a function for easier rebar definition:"
   ]
  },
  {
   "cell_type": "code",
   "execution_count": null,
   "metadata": {},
   "outputs": [],
   "source": [
    "def add_rebar(attr:IFReinforcementSection, row:int, faceIndex:int, layerIndex:int, barsCount:int, start:int, end:int, gap:float, dia:float):\n",
    "    attr.setReinforcementValue(\"rebar\", row, \"faceIndex\", faceIndex)\n",
    "    attr.setReinforcementValue(\"rebar\", row, \"layerIndex\", layerIndex)\n",
    "    attr.setReinforcementValue(\"rebar\", row, \"barsCount\", barsCount)\n",
    "    attr.setReinforcementValue(\"rebar\", row, \"start\", start)\n",
    "    attr.setReinforcementValue(\"rebar\", row, \"end\", end)\n",
    "    attr.setReinforcementValue(\"rebar\", row, \"gap\", gap)\n",
    "    attr.setReinforcementValue(\"rebar\", row, \"barsDiameter\", dia)\n",
    "    attr.setReinforcementValue(\"rebar\", row, \"altBarsDiameter\", -1.0)\n",
    "    attr.setReinforcementValue(\"rebar\", row, \"endBarsDiameter\", -1.0)\n",
    "    attr.setReinforcementValue(\"rebar\", row, \"materialRef\", \"R1\")"
   ]
  },
  {
   "cell_type": "markdown",
   "metadata": {},
   "source": [
    "Create the reinforcement attribute:"
   ]
  },
  {
   "cell_type": "code",
   "execution_count": null,
   "metadata": {},
   "outputs": [],
   "source": [
    "''' Create a Reinforcement attribute'''\n",
    "attr = db.createReinforcementSection(\"RnfSct1\")\n",
    "attr.setGeometricAttribute(geom_section_attr)\n",
    "#attr.setValue(\"calculateCrackWidths\", True)\n",
    "attr.setReinforcementValue(\"face\", 0, \"faceIndex\", \"All\")\n",
    "attr.setReinforcementValue(\"face\", 0, \"actualCover\", 0.03)\n",
    "attr.setReinforcementValue(\"face\", 0, \"linkAllowance\", 0.0)\n",
    "attr.setReinforcementValue(\"face\", 0, \"allowableCrackWidth\", 0.0)\n",
    "attr.setReinforcementValue(\"face\", 0, \"nominalCover\", -1.0)\n",
    "\n",
    "add_rebar(attr, row=0, faceIndex=1, layerIndex=1, barsCount=3, start=-1, end=-1, gap=0.0, dia=0.025)\n",
    "add_rebar(attr, row=1, faceIndex=1, layerIndex=2, barsCount=2, start=-1, end=-1, gap=0.0, dia=0.025)\n",
    "add_rebar(attr, row=2, faceIndex=5, layerIndex=1, barsCount=10, start=-1, end=-1, gap=0.0, dia=0.025)\n",
    "\n",
    "\n",
    "rebar_line_attr = db.createReinforcementLine(\"RnfLn2\")\n",
    "rebar_line_attr.setSegmentValue(\"Longitudinal\", 0, \"reinforcementSection\", \"RnfSct1\")\n",
    "rebar_line_attr.setSegmentValue(\"Longitudinal\", 0, \"stretch\", True)\n",
    "\n",
    "# Link the geometric attribute with the associated reinforcement\n",
    "geom_section_attr.setReinforcement(rebar_line_attr)\n"
   ]
  },
  {
   "cell_type": "code",
   "execution_count": null,
   "metadata": {},
   "outputs": [],
   "source": [
    "attr = db.createIsotropicMaterial(\"Iso1\", 35.0E6, 0.2, 2.54842, 10.0E-6)\n",
    "attr.setDefinitionMenuID(1, \"None\" , True)\n",
    "attr.setDescription(\"C40/50 | Concrete | EN1992-1-1:2004/2014\")\n",
    "attr.createValue(\"Grade\", 0, 0, 0, 0, 0, 0, 0)\n",
    "attr.setValue(\"Grade\", \"C40/50\")\n",
    "attr.createValue(\"Region\", 0, 0, 0, 0, 0, 0, 0)\n",
    "attr.setValue(\"Region\", \"Europe\")\n",
    "attr.createValue(\"Standard\", 0, 0, 0, 0, 0, 0, 0)\n",
    "attr.setValue(\"Standard\", \"EN1992-1-1:2004/2014\")\n",
    "attr.createValue(\"Material\", 0, 0, 0, 0, 0, 0, 0)\n",
    "attr.setValue(\"Material\", \"Concrete\")\n",
    "attr.createValue(\"ec3\", 0, 0, 0, 0, 0, 0, 0)\n",
    "attr.setValueDescription(\"ec3\", \"Compressive strain limit 3\", False)\n",
    "attr.setValue(\"ec3\", 1.75E-3)\n",
    "attr.createValue(\"fcd3\", 0, 1, -2, 0, 0, 0, 0)\n",
    "attr.setValueDescription(\"fcd3\", \"Design compressive strength 3\", False)\n",
    "attr.setValue(\"fcd3\", 26.66666667E3)\n",
    "attr.createValue(\"fck\", 0, 1, -2, 0, 0, 0, 0)\n",
    "attr.setValueDescription(\"fck\", \"Characteristic compressive cylinder strength of concrete at 28 days\", False)\n",
    "attr.setValue(\"fck\", 40.0E3)\n",
    "attr.createValue(\"fctm\", 0, 1, -2, 0, 0, 0, 0)\n",
    "attr.setValueDescription(\"fctm\", \"Mean value of axial tensile strength of concrete\", False)\n",
    "attr.setValue(\"fctm\", 3.5E3)\n",
    "attr.createValue(\"ecu3\", 0, 0, 0, 0, 0, 0, 0)\n",
    "attr.setValueDescription(\"ecu3\", \"Ultimate compressive strain limit 3\", False)\n",
    "attr.setValue(\"ecu3\", 3.5E-3)\n",
    "attr.createValue(\"E3\", 0, 1, -2, 0, 0, 0, 0)\n",
    "attr.setValueDescription(\"E3\", \"Modulus of elasticity 3\", False)\n",
    "attr.setValue(\"E3\", 15.238095238E6)\n",
    "\n",
    "\n",
    "attr = db.createIsotropicMaterial(\"Iso2\", 200.0E6, 0.3, 7.85, 12.0E-6)\n",
    "attr.setDefinitionMenuID(1, None , True)\n",
    "attr.setDescription(\"500B | Steel - Reinforcing bar | EN1992-1-1:2004/2014\")\n",
    "attr.createValue(\"Region\", 0, 0, 0, 0, 0, 0, 0)\n",
    "attr.setValue(\"Region\", \"Europe\")\n",
    "attr.createValue(\"Standard\", 0, 0, 0, 0, 0, 0, 0)\n",
    "attr.setValue(\"Standard\", \"EN1992-1-1:2004/2014\")\n",
    "attr.createValue(\"Grade\", 0, 0, 0, 0, 0, 0, 0)\n",
    "attr.setValue(\"Grade\", \"500B\")\n",
    "attr.createValue(\"Material\", 0, 0, 0, 0, 0, 0, 0)\n",
    "attr.setValue(\"Material\", \"Steel - Reinforcing bar\")\n",
    "attr.createValue(\"fy\", 0, 1, -2, 0, 0, 0, 0)\n",
    "attr.setValueDescription(\"fy\", \"Characteristic yield strength of reinforcement\", False)\n",
    "attr.setValue(\"fy\", 500.0E3)\n",
    "attr.createValue(\"epu\", 0, 0, 0, 0, 0, 0, 0)\n",
    "attr.setValueDescription(\"epu\", \"Characteristic ultimate strain limit\", False)\n",
    "attr.setValue(\"epu\", 0.05)\n",
    "\n",
    "\n",
    "material_attr = db.createCompoundMaterial(\"Mat3\").setReinforcedConcrete()\n",
    "material = db.getAttribute(\"Isotropic Material\", \"Iso1\")\n",
    "material_attr.addMaterial(material, \"S1\")\n",
    "material = db.getAttribute(\"Isotropic Material\", \"Iso2\")\n",
    "material_attr.addMaterial(material, \"R1\")\n",
    "material_attr.setActiveMaterial(0)\n",
    "material_attr.setDefinitionMenuID(214, None , True)\n",
    "material_attr.setDescription(\"EN1992\")\n",
    "material_attr.createValue(\"Design code\", 0, 0, 0, 0, 0, 0, 0)\n",
    "material_attr.setValue(\"Design code\", \"EN1992\")"
   ]
  },
  {
   "cell_type": "code",
   "execution_count": null,
   "metadata": {},
   "outputs": [],
   "source": [
    "''' Create a support attribute '''\n",
    "fixed_support_attr = db.createSupportStructural(\"Fixed\")\n",
    "fixed_support_attr.setStructural(\"R\", \"R\", \"R\", \"F\", \"F\", \"F\", \"F\", \"F\", \"F\")\n",
    "\n",
    "''' Create a support attribute '''\n",
    "pinned_support_attr = db.createSupportStructural(\"Pinned\")\n",
    "pinned_support_attr.setStructural(\"F\", \"R\", \"R\", \"F\", \"F\", \"F\", \"F\", \"F\", \"F\")"
   ]
  },
  {
   "cell_type": "markdown",
   "metadata": {},
   "source": [
    "#### Create the model geometry"
   ]
  },
  {
   "cell_type": "code",
   "execution_count": null,
   "metadata": {},
   "outputs": [],
   "source": [
    "''' Create deck lines'''\n",
    "deck_lines:list[IFLine] = []\n",
    "\n",
    "cur_x = 0\n",
    "for length in spans_lengths:\n",
    "    # Get the geometry data object\n",
    "    geomData = lusas.geometryData().setAllDefaults()\n",
    "    # set the options for creating points from coordinates\n",
    "    geomData.setLowerOrderGeometryType(\"coordinates\")\n",
    "    # Set the coordinates of the first point\n",
    "    geomData.addCoords(cur_x, 0, 0)\n",
    "    # Set the coordinates of the second point\n",
    "    geomData.addCoords(cur_x + length, 0, 0)\n",
    "    # Create the line object from the geometry data\n",
    "    objs = db.createLine(geomData) # Modeller returns an object set containing all the lines created, in this case we only have 1.\n",
    "    # Get the line\n",
    "    deck_lines.append(win32.CastTo(objs.getObject(\"Lines\"), \"IFLine\"))\n",
    "    # Increment the current x position\n",
    "    cur_x += length\n"
   ]
  },
  {
   "cell_type": "markdown",
   "metadata": {},
   "source": [
    "#### Assign attributes to the model geometry"
   ]
  },
  {
   "cell_type": "code",
   "execution_count": null,
   "metadata": {},
   "outputs": [],
   "source": [
    "''' Assign the attributes to the deck_lines '''\n",
    "# get the assignment object\n",
    "assignment = lusas.assignment().setAllDefaults()\n",
    "# Assign the mesh\n",
    "mesh_attr.assignTo(deck_lines, assignment)\n",
    "# Assign the geometry\n",
    "geom_section_attr.assignTo(deck_lines, assignment)\n",
    "# Assign the material\n",
    "material_attr.assignTo(deck_lines, assignment)\n",
    "\n",
    "''' Assign the supports to the points of the line '''\n",
    "# Assign the fixed support to the first point\n",
    "fixed_support_attr.assignTo(deck_lines[0].getStartPoint(), assignment)\n",
    "# Assign the pinned support to the remaining points\n",
    "pinned_support_attr.assignTo([p.getEndPoint() for p in deck_lines], assignment)"
   ]
  },
  {
   "cell_type": "code",
   "execution_count": null,
   "metadata": {},
   "outputs": [],
   "source": [
    "db.updateMesh()"
   ]
  },
  {
   "cell_type": "markdown",
   "metadata": {},
   "source": [
    "#### Create load cases and load attributes and assign the attributes to the model geometry"
   ]
  },
  {
   "cell_type": "code",
   "execution_count": null,
   "metadata": {},
   "outputs": [],
   "source": [
    "# Get the automatically created loadcase in analysis 1 and add automatic gravity to it\n",
    "# NOTE: getLoadset and setName function returns a reference to the IFLoadset baseclass and must be cast to IFLoadcase to access the addGravity function\n",
    "gravity_loadcase : IFLoadcase = win32.CastTo(db.getLoadset(\"Loadcase 1\", 0).setName(\"Gravity\"), \"IFLoadcase\")\n",
    "gravity_loadcase.addGravity(True)"
   ]
  },
  {
   "cell_type": "code",
   "execution_count": null,
   "metadata": {},
   "outputs": [],
   "source": [
    "# Create a beam load attribute\n",
    "uniform_load_attr = db.createLoadingBeamDistributed(\"UDL\")\n",
    "uniform_load_attr.setBeamDistributed(\"Parametric\", \"Global\", \"beam\")\n",
    "uniform_load_attr.addRow(0.0, 0.0, 0.0, -loading, 0.0, 0.0, 0.0, 1.0, 0.0, 0.0, -loading, 0.0, 0.0, 0.0)\n",
    "\n",
    "# Create a loadcase for loading to be applied to each span\n",
    "live_load_loadcases = [db.createLoadcase(f\"Live Load {i+1}\") for i in range(len(deck_lines))]\n",
    "\n",
    "# Assign live loads to each span\n",
    "for i, loadcase in enumerate(live_load_loadcases):\n",
    "    assign = lusas.assignment().setAllDefaults().setLoadset(loadcase)\n",
    "    uniform_load_attr.assignTo(deck_lines[i], assign)"
   ]
  },
  {
   "cell_type": "markdown",
   "metadata": {},
   "source": [
    "#### Create design combinations"
   ]
  },
  {
   "cell_type": "code",
   "execution_count": null,
   "metadata": {},
   "outputs": [],
   "source": [
    "# Smart Combination for permanent effects\n",
    "combination_qp = db.createCombinationSmart(\"SLS QP\")\n",
    "combination_qp.addEntry(1,1, gravity_loadcase)\n",
    "for loadcase in live_load_loadcases:\n",
    "    combination_qp.addEntry(0,0.5,loadcase)"
   ]
  },
  {
   "cell_type": "code",
   "execution_count": null,
   "metadata": {},
   "outputs": [],
   "source": [
    "# Smart Combination for service effects\n",
    "combination_char = db.createCombinationSmart(\"SLS Char\")\n",
    "combination_char.addEntry(1,1, gravity_loadcase)\n",
    "for loadcase in live_load_loadcases:\n",
    "    combination_char.addEntry(0,1.0,loadcase)"
   ]
  },
  {
   "cell_type": "code",
   "execution_count": null,
   "metadata": {},
   "outputs": [],
   "source": [
    "# Smart Combination for Ultimate effects\n",
    "combination_uls = db.createCombinationSmart(\"ULS\")\n",
    "combination_uls.addEntry(1,1, gravity_loadcase)\n",
    "for loadcase in live_load_loadcases:\n",
    "    combination_uls.addEntry(0,1.5,loadcase)"
   ]
  },
  {
   "cell_type": "markdown",
   "metadata": {},
   "source": [
    "<H2>Solving the Analysis</H2>"
   ]
  },
  {
   "cell_type": "code",
   "execution_count": null,
   "metadata": {},
   "outputs": [],
   "source": [
    "db.getAnalysis(\"Analysis 1\").solve(True)\n",
    "db.openAllResults(False)"
   ]
  },
  {
   "cell_type": "code",
   "execution_count": null,
   "metadata": {},
   "outputs": [],
   "source": [
    "lusas.view().insertDiagramsLayer()\n",
    "lusas.view().diagrams().setResultsTransformNone()\n",
    "lusas.view().diagrams().setResults(\"Force/Moment - Thick 3D Beam\", \"My\")\n",
    "lusas.view().setFromAxis(\"+X+Z\")"
   ]
  },
  {
   "cell_type": "markdown",
   "metadata": {},
   "source": [
    "<div class=\"alert alert-block alert-info\">\n",
    "<b>Note:</b> The RC Design results can now be obtained using the Modeller user interface as follows:\n",
    "<dl>\n",
    "<i><b>Set the design code</i></b>\n",
    "<dd><b>1.</b> Design > RC Frame Design</dd>\n",
    "<i><b>Specify and assign member design attributes</i></b>\n",
    "<dd><b>2.</b> Attributes > Design > RC Frame Design</dd>\n",
    "<i><b>Create a design results loadset which carries out design checks</i></b>\n",
    "<dd><b>3.</b> Design > RC Frame Design Results</dd>\n",
    "<dl>\n",
    "</div>"
   ]
  }
 ],
 "metadata": {
  "kernelspec": {
   "display_name": "Python 3",
   "language": "python",
   "name": "python3"
  },
  "language_info": {
   "codemirror_mode": {
    "name": "ipython",
    "version": 3
   },
   "file_extension": ".py",
   "mimetype": "text/x-python",
   "name": "python",
   "nbconvert_exporter": "python",
   "pygments_lexer": "ipython3",
   "version": "3.13.3"
  }
 },
 "nbformat": 4,
 "nbformat_minor": 2
}
