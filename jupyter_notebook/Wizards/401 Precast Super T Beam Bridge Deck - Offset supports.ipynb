{
 "cells": [
  {
   "cell_type": "markdown",
   "metadata": {},
   "source": [
    "# #401 Single span bridge deck - Precast Super T Beams and slab (Eccentric bearings)\n",
    "<i>Beams are modelled with beam elements and the deck slab is modelled with shell elements. The bearings are offset with rigid links to the underside of the concrete beams.</i>\n",
    "***"
   ]
  },
  {
   "cell_type": "markdown",
   "metadata": {},
   "source": [
    "<i>Please note this is an example of how to use the LPI functionality to create a bridge model demonstrating the use of multiple load types. <br/>It is not an example of how to model such structures</i>"
   ]
  },
  {
   "cell_type": "markdown",
   "metadata": {},
   "source": [
    "![Preview](../_img/jupyter_notebook_401.png)"
   ]
  },
  {
   "cell_type": "code",
   "execution_count": null,
   "metadata": {},
   "outputs": [],
   "source": [
    "solve_analyses = False # Run the analysis at the end of the script"
   ]
  },
  {
   "cell_type": "markdown",
   "metadata": {},
   "source": [
    "Define model parameters"
   ]
  },
  {
   "cell_type": "code",
   "execution_count": null,
   "metadata": {},
   "outputs": [],
   "source": [
    "# Geometric\n",
    "deck_width = 18\n",
    "deck_length = 25\n",
    "no_beams = 4\n",
    "deck_overhang = 1.5\n",
    "skew_angle = 0\n",
    "deck_thk = 0.2\n",
    "support_offset = 1\n",
    "# Meshing\n",
    "mesh_size = 1\n",
    "\n",
    "# Loading area\n",
    "carriageway_width = deck_width - 4\n",
    "\n",
    "# Loads\n",
    "waterproofing_load = -0.5\n",
    "surf_load_edge = -2\n",
    "surf_load_centre = -4\n",
    "footpath_surface_load_intensity = -1\n",
    "parapet_uniform_load = -10\n",
    "# Differential shrinkage strain applied to deck slab only\n",
    "shrinkage_strain = -0.369764E-3\n",
    "# Temperatures\n",
    "temperature_increase = 20\n",
    "temperature_decrease = -20\n",
    "# Live loads\n",
    "pedestrian_live_load = -5\n",
    "breaking_load_intensity = 5\n",
    "\n",
    "create_dmi = False"
   ]
  },
  {
   "cell_type": "markdown",
   "metadata": {},
   "source": [
    "Connect to LUSAS and either create a new model or delete the contents of the existing one - be careful if you have a model already loaded"
   ]
  },
  {
   "cell_type": "code",
   "execution_count": null,
   "metadata": {},
   "outputs": [],
   "source": [
    "import numpy as np\n",
    "import math\n",
    "import sys; sys.path.append('../') # Reference modules in parent directory\n",
    "from shared.LPI import *\n",
    "lusas = get_lusas_modeller()\n",
    "\n",
    "if lusas.existsDatabase() and lusas.db().isModified():\n",
    "    raise Exception(\"This script will create a new model. Please save or close the current model and try again\")\n",
    "\n",
    "# Create a new model\n",
    "lusas.newProject(\"Structural\", \"Precast_T_Beam_Deck_Eccentric_Supports\")\n",
    "# Reference to the model database for convenience\n",
    "db = lusas.database() \n",
    "# 3D model with Z vertical\n",
    "db.setAnalysisCategory(\"3D\")\n",
    "db.setVerticalDir(\"Z\")\n",
    "# Set the unit system\n",
    "db.setModelUnits(\"kN,m,t,s,C\")"
   ]
  },
  {
   "cell_type": "markdown",
   "metadata": {},
   "source": [
    "Create the attributes to be assigned to the geometric features. Mesh, Geometric and Material."
   ]
  },
  {
   "cell_type": "code",
   "execution_count": null,
   "metadata": {},
   "outputs": [],
   "source": [
    "# Beam mesh attributes\n",
    "beam_mesh_attr = db.createMeshLine(\"LMsh2\").setSize(\"BMI21\", mesh_size)\n",
    "# Beam geometric attribute\n",
    "beam_geom_attr = db.createGeometricLine(\"LGeo2\").setFromLibrary(\"Australian Sections\", \"Precast Super T (Open)\", \"T3 (100)\", 0, 0, 0)\n",
    "beam_geom_attr.setValue(\"elementType\", \"3D Thick Beam\")\n",
    "beam_geom_attr.setEccentricityOrigin(\"Centroid\", \"Fibre\", \"\", \"A1\")\n",
    "# Beam material attributes for short and long term\n",
    "beam_mat_attr = db.createIsotropicMaterial(\"Concrete beam\", 34.8E6, 0.2, 2.4, 10.0E-6)\n",
    "beam_mat_attr_creep = db.createIsotropicMaterial(\"Concrete beam long term\", 34.8E6/3, 0.2, 2.4, 10.0E-6)\n",
    "\n",
    "# Deck mesh attribute, thick shell elements\n",
    "deck_mesh_attr    = db.createMeshSurface(\"SMsh1\").setRegularSize(\"QTS4\", mesh_size, True)\n",
    "# Deck surface thickness attribute\n",
    "deck_surface_attr = db.createGeometricSurface(\"Deck Slab\").setSurface(deck_thk, 0.0)\n",
    "# Deck surface material attributes for short and long term\n",
    "deck_mat_attr     = db.createIsotropicMaterial(\"Concrete deck\", 34.8E6, 0.2, 2.4, 10.0E-6)\n",
    "deck_mat_attr_creep = db.createIsotropicMaterial(\"Concrete deck long term\", 34.8E6/3, 0.2, 2.4, 10.0E-6)\n",
    "\n",
    "# Support attribute\n",
    "support_fixed_attr = db.createSupportStructural(\"Fixed\").setStructural(\"R\", \"R\", \"R\", \"F\", \"F\", \"F\", \"F\", \"F\", \"C\", \"F\") # F=Free, R=Restrained\n",
    "\n"
   ]
  },
  {
   "cell_type": "markdown",
   "metadata": {},
   "source": [
    "In order to assign any attributes we need a loadcase to assign them to. <br>We'll create a base analysis with a single loadcase"
   ]
  },
  {
   "cell_type": "code",
   "execution_count": null,
   "metadata": {},
   "outputs": [],
   "source": [
    "base_analysis = db.createAnalysisStructural(\"Base\")\n",
    "# Get the automatically created loadcase in the base analysis and add automatic gravity to it\n",
    "gravity_loadcase : IFLoadcase = db.getLoadset(\"Loadcase 1\", 0)\n",
    "gravity_loadcase.setName(\"Model Test Gravity\")\n",
    "gravity_loadcase.addGravity(True)"
   ]
  },
  {
   "cell_type": "markdown",
   "metadata": {},
   "source": [
    "Define some useful helper functions for creating lines and points. This keeps the code clean and avoids duplication"
   ]
  },
  {
   "cell_type": "code",
   "execution_count": null,
   "metadata": {},
   "outputs": [],
   "source": [
    "# Define a useful helper function to create a line from two point coordinates\n",
    "def create_line(p1:list, p2:list) -> 'IFLine':\n",
    "    # geometryData object contains all the settings to perform a geometry creation\n",
    "    geom_data = lusas.geometryData().setAllDefaults()  \n",
    "    # set the options for creating straight lines from coordinates\n",
    "    geom_data.setCreateMethod(\"straight\")        \n",
    "    geom_data.setLowerOrderGeometryType(\"coordinates\")        \n",
    "    # Add the coordinates, lines directions will follow the order of the coordinates\n",
    "    geom_data.addCoords(p1[0], p1[1], p1[2])    # Set the coordinates of the first point X,Y,Z\n",
    "    geom_data.addCoords(p2[0], p2[1], p2[2])    # Set the coordinates of the second point X,Y,Z\n",
    "    # Create the line, get the line object from the returned object set and return the 1 and only line\n",
    "    return db.createLine(geom_data).getObject(\"Line\")\n",
    "    \n",
    "# Define a useful helper function to create a line from two point objects\n",
    "# Note that we expect two IFPoint objects, these are references to points already created in the model\n",
    "def create_line_from_points(p1:'IFPoint', p2:'IFPoint') -> 'IFLine':\n",
    "    # geometryData object contains all the settings to perform a geometry creation\n",
    "    geom_data = lusas.geometryData().setAllDefaults()         \n",
    "    # set the options for creating straight lines from points\n",
    "    geom_data.setCreateMethod(\"straight\")        \n",
    "    geom_data.setLowerOrderGeometryType(\"points\")\n",
    "    # Create an object set to contain the points and use this set to create the line\n",
    "    obs = lusas.newObjectSet()                 \n",
    "    obs.add(p1)\n",
    "    obs.add(p2)\n",
    "    # Create the line, get the line object from the returned object set and return the 1 and only line\n",
    "    return obs.createLine(geom_data).getObject(\"Line\")\n",
    "\n",
    "\n",
    "# Define a useful helper function to create a point from coordinates\n",
    "def create_point(x:float, y:float, z:float) -> 'IFPoint':\n",
    "    # geometryData object contains all the settings to perform a geometry creation\n",
    "    geom_data = lusas.geometryData().setAllDefaults() \n",
    "    # set the options for creating points from coordinates\n",
    "    geom_data.setLowerOrderGeometryType(\"coordinates\")\n",
    "    # Add the coordinates\n",
    "    geom_data.addCoords(x, y, z)\n",
    "    # Create the point and return it. \n",
    "    # Note that createPoint returns and IFObjectSet from which we can get the point. (this allows multiple points to be created at once, here we only have 1)\n",
    "    return db.createPoint(geom_data).getObject(\"Point\")"
   ]
  },
  {
   "cell_type": "markdown",
   "metadata": {},
   "source": [
    "Helper function to calculate beam coordinates accounting for the skew angle"
   ]
  },
  {
   "cell_type": "code",
   "execution_count": null,
   "metadata": {},
   "outputs": [],
   "source": [
    "def get_x(y:float)->float:\n",
    "    return y * math.tan(math.radians(skew_angle))"
   ]
  },
  {
   "cell_type": "markdown",
   "metadata": {},
   "source": [
    "Create the model geometry and assign the mesh, geometric and material attributes"
   ]
  },
  {
   "cell_type": "code",
   "execution_count": null,
   "metadata": {},
   "outputs": [],
   "source": [
    "# Calculate the beam spacing \n",
    "beam_spacing = (deck_width - 2*deck_overhang) / (no_beams-1)\n",
    "print(f\"Beam Spacing = {beam_spacing}\")\n",
    "assert beam_spacing > 0, \"Cant have a negative beam spacing\"\n",
    "\n",
    "# Y coordinates of longitudinal lines. \n",
    "# Note the surfaces between the beams are split evenly between the beams\n",
    "long_ys = [0.0, deck_overhang]\n",
    "for i in range(0, no_beams-1):\n",
    "    long_ys.append(long_ys[-1] + beam_spacing/2)\n",
    "    long_ys.append(long_ys[-2] + beam_spacing)\n",
    "long_ys.append(deck_width)\n",
    "print(f\"long line y coordinates = {long_ys}\")\n",
    "\n",
    "# Create the longitudinal lines storing them in two lists for reference\n",
    "# One list containing all lines and one list containing just the beam lines\n",
    "longitudinal_lines:list[IFLine] = []\n",
    "beam_lines        :list[IFLine] = []\n",
    "\n",
    "# Create the longitudinal lines. ALternate lines are beam lines so we'll assign the beam attributes only to those\n",
    "for i, y in enumerate(long_ys):\n",
    "    line = create_line([get_x(y), y, 0], [get_x(y) + deck_length, y, 0])\n",
    "    if i%2 != 0:\n",
    "        beam_mesh_attr.assignTo(line)\n",
    "        beam_geom_attr.assignTo(line)\n",
    "        beam_mat_attr.assignTo(line)\n",
    "        beam_lines.append(line)\n",
    "    longitudinal_lines.append(line)\n",
    "\n",
    "# Now the start end support lines\n",
    "end1_lines:list[IFLine] = []\n",
    "for i in range(0, len(longitudinal_lines)-1):\n",
    "    end1_lines.append(create_line_from_points(longitudinal_lines[i].getStartPoint(), longitudinal_lines[i+1].getStartPoint()))\n",
    "\n",
    "# And opposite end support lines\n",
    "end2_lines:list[IFLine] = []\n",
    "for i in range(0, len(longitudinal_lines)-1):\n",
    "    end2_lines.append(create_line_from_points(longitudinal_lines[i].getEndPoint(), longitudinal_lines[i+1].getEndPoint()))\n"
   ]
  },
  {
   "cell_type": "markdown",
   "metadata": {},
   "source": [
    "Define helper function for creating deck surfaces with assigned mesh, geometry and material attributes"
   ]
  },
  {
   "cell_type": "code",
   "execution_count": null,
   "metadata": {},
   "outputs": [],
   "source": [
    "def create_deck_surface_from_lines(lines: list):\n",
    "    # Set the options for creating surfaces from lines\n",
    "    geom_data = lusas.geometryData().setAllDefaults()\n",
    "    geom_data.setLowerOrderGeometryType(\"lines\")\n",
    "\n",
    "    # Add the lines being used to define the surface to an object set\n",
    "    obs = lusas.newObjectSet()\n",
    "    for p in lines:\n",
    "        obs.add(p)\n",
    "\n",
    "    # Use the object set to create the surface and then get the created features as an array. (in this case an array of 1) \n",
    "    objs = obs.createSurface(geom_data).getObjects(\"Surface\")\n",
    "\n",
    "    # Assign the mesh attribute to the created surfaces\n",
    "    deck_mesh_attr.assignTo(objs)\n",
    "    # Assign the geometric thickness attribute to the created surfaces\n",
    "    deck_surface_attr.assignTo(objs)\n",
    "    # Assign the material attribute to the created surfaces\n",
    "    deck_mat_attr.assignTo(objs)"
   ]
  },
  {
   "cell_type": "markdown",
   "metadata": {},
   "source": [
    "Create surfaces between the deck lines and assign the mesh and thickness attributes"
   ]
  },
  {
   "cell_type": "code",
   "execution_count": null,
   "metadata": {},
   "outputs": [],
   "source": [
    "for i in range(0, len(longitudinal_lines)-1):\n",
    "    # Create a list of lines in clock-wise order from which to create the surface\n",
    "    lines=[]\n",
    "    lines.append(longitudinal_lines[i])\n",
    "    lines.append(end1_lines[i])\n",
    "    lines.append(end2_lines[i])\n",
    "    lines.append(longitudinal_lines[i+1])\n",
    "    create_deck_surface_from_lines(lines)"
   ]
  },
  {
   "cell_type": "markdown",
   "metadata": {},
   "source": [
    "Supports will be modelled correctly at the underside of the precast beams. To do this a joint element is defined represtning the stiffness of the bearing. One end is connceted to the support and the other is connected via a rigid constraint to the plane of the deck"
   ]
  },
  {
   "cell_type": "code",
   "execution_count": null,
   "metadata": {},
   "outputs": [],
   "source": [
    "# Get the points at the ends of each beam to be supported\n",
    "end1_points:list[IFPoint] = []\n",
    "end2_points:list[IFPoint] = []\n",
    "\n",
    "for beam_line in beam_lines:\n",
    "    end1_points.append(beam_line.getStartPoint())\n",
    "    end2_points.append(beam_line.getEndPoint())"
   ]
  },
  {
   "cell_type": "markdown",
   "metadata": {},
   "source": [
    "Create two points at the same location between which the bearing joint element will act. Prevent the points from being merged before creating them"
   ]
  },
  {
   "cell_type": "code",
   "execution_count": null,
   "metadata": {},
   "outputs": [],
   "source": [
    "db.getOptions().setBoolean(\"newFeaturesMergeable\", False)\n",
    "\n",
    "end1_support_points:list[IFPoint] = []\n",
    "end1_constraint_points:list[IFPoint] = []\n",
    "for point in end1_points:\n",
    "    end1_support_points.append(create_point(point.getX(), point.getY(), point.getZ() - support_offset))\n",
    "    end1_constraint_points.append(create_point(point.getX(), point.getY(), point.getZ() - support_offset))\n",
    "\n",
    "end2_support_points:list[IFPoint] = []\n",
    "end2_constraint_points:list[IFPoint] = []\n",
    "for point in end2_points:\n",
    "    end2_support_points.append(create_point(point.getX(), point.getY(), point.getZ() - support_offset))\n",
    "    end2_constraint_points.append(create_point(point.getX(), point.getY(), point.getZ() - support_offset))\n",
    "\n",
    "db.getOptions().setBoolean(\"newFeaturesMergeable\", True)"
   ]
  },
  {
   "cell_type": "markdown",
   "metadata": {},
   "source": [
    "Assign a rigid constraint between the upper bearing point and the corresponding deck point"
   ]
  },
  {
   "cell_type": "code",
   "execution_count": null,
   "metadata": {},
   "outputs": [],
   "source": [
    "for i in range(0, len(end1_constraint_points)):\n",
    "    # Create a new attribute for each connection\n",
    "    rigid_link_attr = db.createRigidLinkConstraint(f\"Rigid Link End 1 Support {i+1}\")\n",
    "    # Add the point offset at the support and the corresponding deck point\n",
    "    objs = lusas.newObjectSet().add(end1_constraint_points[i]).add(end1_points[i])\n",
    "    # Get the default assignment object\n",
    "    assignment = lusas.assignment().setAllDefaults()\n",
    "    # Specify the rigid constraints to apply to all loadcases in Analysis 1\n",
    "    assignment.setLoadsetAll(\"Base\")\n",
    "    assignment.setLcDependentConstraintsOn()\n",
    "    # Assign the rigid links\n",
    "    rigid_link_attr.assignTo(objs)\n",
    "\n",
    "for i in range(0, len(end2_constraint_points)):\n",
    "    # Create a new attribute for each connection\n",
    "    rigid_link_attr = db.createRigidLinkConstraint(f\"Rigid Link End 2 Support {i+1}\")\n",
    "    # Add the point offset at the support and the corresponding deck point\n",
    "    objs = lusas.newObjectSet().add(end2_constraint_points[i]).add(end2_points[i])\n",
    "    # Get the default assignment object\n",
    "    assignment = lusas.assignment().setAllDefaults()\n",
    "    # Specify the rigid constraints to apply to all loadcases in Analysis 1\n",
    "    assignment.setLoadsetAll(\"Base\")\n",
    "    assignment.setLcDependentConstraintsOn()\n",
    "    # Assign the rigid links\n",
    "    rigid_link_attr.assignTo(objs)"
   ]
  },
  {
   "cell_type": "markdown",
   "metadata": {},
   "source": [
    "Assign joint mesh and material attributes between the two coincident points to represent the bearing stiffness and assign the fixed support to the lower bearing point"
   ]
  },
  {
   "cell_type": "code",
   "execution_count": null,
   "metadata": {},
   "outputs": [],
   "source": [
    "joint_mesh_attr = db.createPointMeshElementAttr(\"Bearing Joint Mesh\", \"JNT4\")\n",
    "pinned_joint_support_attr = db.createSpringJointMaterial(\"Fixed Support Stiffness\", [1e9, 1e9, 1e9])\n",
    "pinned_joint_support_attr.setValue(\"Assignment\", \"Point\")\n",
    "slide_joint_support_attr = db.createSpringJointMaterial(\"Slide Support Stiffness\", [1, 1e9, 1e9]) # Slide in x direction\n",
    "slide_joint_support_attr.setValue(\"Assignment\", \"Point\")\n",
    "\n",
    "# Default assignments for supports\n",
    "lusas.assignment().setAllDefaults()\n",
    "\n",
    "# Specify a local coordinate system that matches the global system to define the joint axes\n",
    "local_coordinate_attr = db.createLocalCartesianXYAttr(\"LCrd1\", 0.0, [0,0,0]).setAxesType(\"Cartesian\")\n",
    "assign_local = lusas.newAssignment().setLocalCoord(local_coordinate_attr)\n",
    "\n",
    "for i in range(0, len(end1_support_points)):\n",
    "    # Add the point offset at the support and the corresponding deck point\n",
    "    objs = lusas.newObjectSet().add(end1_support_points[i]).add(end1_constraint_points[i])\n",
    "    # Assign the joint mesh acting between the primary and secondary nodes\n",
    "    joint_mesh_attr.assignTo(objs, assign_local)\n",
    "    # Assign the joint material to the primary node\n",
    "    pinned_joint_support_attr.assignTo(end1_support_points[i])\n",
    "    # Assign the support to the primary node\n",
    "    support_fixed_attr.assignTo(end1_support_points[i])\n",
    "\n",
    "for i in range(0, len(end2_support_points)):\n",
    "    # Add the point offset at the support and the corresponding deck point\n",
    "    objs = lusas.newObjectSet().add(end2_support_points[i]).add(end2_constraint_points[i])\n",
    "    # Assign the joint mesh acting between the primary and secondary nodes\n",
    "    joint_mesh_attr.assignTo(objs, assign_local)\n",
    "    # Assign the joint material to the primary node\n",
    "    slide_joint_support_attr.assignTo(end2_support_points[i])\n",
    "    # Assign the support to the primary node\n",
    "    support_fixed_attr.assignTo(end2_support_points[i])\n"
   ]
  },
  {
   "cell_type": "markdown",
   "metadata": {},
   "source": [
    "Generate the mesh from the assignments"
   ]
  },
  {
   "cell_type": "code",
   "execution_count": null,
   "metadata": {},
   "outputs": [],
   "source": [
    "db.resetMesh()\n",
    "db.updateMesh()"
   ]
  },
  {
   "cell_type": "markdown",
   "metadata": {},
   "source": [
    "Create a group for each of the beams with the associated deck surfaces"
   ]
  },
  {
   "cell_type": "code",
   "execution_count": null,
   "metadata": {},
   "outputs": [],
   "source": [
    "for i, line in enumerate(beam_lines):\n",
    "    # Create a group for the current beam\n",
    "    group = db.createGroup(f\"Beam {i+1}\")\n",
    "    # Add the line\n",
    "    group.add(line)\n",
    "    # Add the Higher Order Features of the line, which are the surfaces\n",
    "    group.add(line.getHOFs())"
   ]
  },
  {
   "cell_type": "markdown",
   "metadata": {},
   "source": [
    "Create 3 separate analyses, 1st stage is for the beams, 2nd stage is long term and the 3rd stage is short term"
   ]
  },
  {
   "cell_type": "code",
   "execution_count": null,
   "metadata": {},
   "outputs": [],
   "source": [
    "# Deactivate attribute disables elements to which its assigned\n",
    "deactive_attr = db.createDeactivate(\"Deact1\").setDeactivate(\"activeMesh\", 100.0, 1.0E-6)\n",
    "# Activate attribute reactivates attributes in the loadcase to which it's assigned\n",
    "activate_attr = db.createActivate(\"Act1\")\n",
    "\n",
    "# Create 3 separate analyses, 1st stage is for the beams, 2nd stage is long term and the 3rd stage is short term\n",
    "stage1_analysis = db.createAnalysisStructural(\"Phase 1\", False)\n",
    "stage2_analysis = db.createAnalysisStructural(\"Phase 2\", False)\n",
    "stage3_analysis = db.createAnalysisStructural(\"Phase 3\", False)\n"
   ]
  },
  {
   "cell_type": "markdown",
   "metadata": {},
   "source": [
    "# Loads in Phase 1"
   ]
  },
  {
   "cell_type": "code",
   "execution_count": null,
   "metadata": {},
   "outputs": [],
   "source": [
    "# We'll deactivate the deck in Phase 1 only.\n",
    "# The deactiavte attribute must be assigned to the first loadcase in the analysis, so we'll create that first\n",
    "beam_sw_loadcase = db.createLoadcase(\"Beam Self Weight\", \"Phase 1\")\n",
    "# To assign the attribute to the correct loadcase we need to provide additional information\n",
    "# We do this with the assignment object\n",
    "assignment = lusas.assignment().setAllDefaults()\n",
    "assignment.setLoadset(beam_sw_loadcase)\n",
    "# Now we need to get the objects to assign to. In this case we know that all surfaces are to be deactivated\n",
    "surface_set = db.getObjects(\"Surfaces\")\n",
    "# Now assign the attribute to the surfaces with the additional assignment object\n",
    "deactive_attr.assignTo(surface_set, assignment)\n",
    "# Set gravity on the beams only loadcase\n",
    "beam_sw_loadcase.addGravity(True)"
   ]
  },
  {
   "cell_type": "markdown",
   "metadata": {},
   "source": [
    "Calculate and assign loads for the wet concrete of the deck in Phase 1"
   ]
  },
  {
   "cell_type": "code",
   "execution_count": null,
   "metadata": {},
   "outputs": [],
   "source": [
    "# Helper function to get the area of all surfaces attached to the given line\n",
    "def get_attached_surface_area(line) -> float:\n",
    "    surface_area = 0\n",
    "    for obj in line.getHOFs():\n",
    "        if obj.getTypeCode() == 4: # Surface\n",
    "                surface_area += obj.getArea()\n",
    "    return surface_area"
   ]
  },
  {
   "cell_type": "code",
   "execution_count": null,
   "metadata": {},
   "outputs": [],
   "source": [
    "# Create a loadcase for the wet concrete loads to be applied to the beams in Phase 1\n",
    "wet_conc_loadcase = db.createLoadcase(\"Wet Concrete\", \"Phase 1\")\n",
    "# Set the loadcase in the default assignment object\n",
    "assignment = lusas.assignment().setAllDefaults().setLoadset(wet_conc_loadcase)\n",
    "\n",
    "# Now calculate the deck area for each beam based on the attached surfaces\n",
    "for i, line in enumerate(beam_lines):\n",
    "    deck_area = get_attached_surface_area(line)\n",
    "    beam_load = (deck_area * deck_thk * 2.4)/line.getLineLength()\n",
    "    # And create a load attribute for each beam.\n",
    "    carriageway_surf_load_attr = db.createLoadingBeamDistributed(f\"Wet Concrete - Beam {i+1}\")\n",
    "    carriageway_surf_load_attr.setBeamDistributed(\"Parametric\", \"Global\", \"beam\")\n",
    "    carriageway_surf_load_attr.addRow(0.0, 0.0, 0.0, -beam_load, 0.0, 0.0, 0.0, 1.0, 0.0, 0.0, -beam_load, 0.0, 0.0, 0.0)\n",
    "    # and assign the load\n",
    "    carriageway_surf_load_attr.assignTo(line, assignment)\n",
    "\n",
    "# A similar approach can be followed for all construction and other loads affecting only Phase 1"
   ]
  },
  {
   "cell_type": "markdown",
   "metadata": {},
   "source": [
    "# Loads in Phase 2"
   ]
  },
  {
   "cell_type": "markdown",
   "metadata": {},
   "source": [
    "Create loads and loadcases in phase 2 in which the deck elements are activated and materials are considered \"long term\""
   ]
  },
  {
   "cell_type": "code",
   "execution_count": null,
   "metadata": {},
   "outputs": [],
   "source": [
    "# Create a loadcase for the parapet loads to be applied to the deck edges in Phase 2\n",
    "parapet_loads_loadcase = db.createLoadcase(\"Parapet\", \"Phase 2\")\n",
    "# Set the loadcase in the assignment object\n",
    "assignment = lusas.assignment().setAllDefaults().setLoadset(parapet_loads_loadcase)\n",
    "# Create a globally distributed load for parapet loads\n",
    "parapet_load_attr = db.createLoadingGlobalDistributed(\"Parapet Loads\")\n",
    "parapet_load_attr.setGlobalDistributed(\"Length\", 0.0, 0.0, parapet_uniform_load, 0.0, 0.0, 0.0, 0.0, 0.0, False, 0.0)\n",
    "# and assign to the two edge longitudinal lines\n",
    "parapet_load_attr.assignTo(longitudinal_lines[0], assignment)\n",
    "parapet_load_attr.assignTo(longitudinal_lines[-1], assignment)\n"
   ]
  },
  {
   "cell_type": "code",
   "execution_count": null,
   "metadata": {},
   "outputs": [],
   "source": [
    "# Create a loadcase for the Waterproofing loads to be applied to the entire deck surface in Phase 2\n",
    "waterproofing_loadcase = db.createLoadcase(\"Waterproofing\", \"Phase 2\")\n",
    "# Set the loadcase in the assignment object\n",
    "assignment = lusas.assignment().setAllDefaults().setLoadset(waterproofing_loadcase)\n",
    "# Create a locally distributed load for Waterproofing loads\n",
    "wp_load_attr = db.createLoadingLocalDistributed(\"Waterproofing\").setLocalDistributed(0.0, 0.0, waterproofing_load, \"surface\")\n",
    "# and assign the deck surfaces (using the surfaces set created early)\n",
    "wp_load_attr.assignTo(surface_set, assignment)\n"
   ]
  },
  {
   "cell_type": "markdown",
   "metadata": {},
   "source": [
    "Represent the variation of carriageway surfacing as a discrete load which is projected onto the geometry and therefore is not restricted to the shape of the geometry features"
   ]
  },
  {
   "cell_type": "code",
   "execution_count": null,
   "metadata": {},
   "outputs": [],
   "source": [
    "# Calculate the maximum x coordinate of the deck accounting for the skew\n",
    "max_x = deck_length+get_x(deck_width)\n",
    "# Y coordinate of the first footpath (this will be the width since the deck is positioned at 0,0,0)\n",
    "footway1_y = (deck_width - carriageway_width)/2\n",
    "# Y coordinate of the second footpath\n",
    "footway2_y = deck_width - footway1_y\n",
    "# Y cordinate of the deck centreline\n",
    "centre_y = footway1_y+(footway2_y - footway1_y)/2\n",
    "\n",
    "# Create a Discrete 8 node patch load to model the variation in surfacing thickness from the centre to the edge of the carriageway\n",
    "carriageway_surf_load_attr = db.createLoadingDiscretePatch(\"Carriageway Surface\").setDiscretePatch(\"surf8\", \"Z\")\n",
    "# Add the points of an 8 node patch load in which the load intensity varies for the edges to the centre\n",
    "# Set the z coordinate to be the top of the deck slab for better visualisation\n",
    "carriageway_surf_load_attr.addRow(0.0,     footway1_y,   deck_thk, surf_load_edge)\n",
    "carriageway_surf_load_attr.addRow(0.0,     deck_width/2, deck_thk, surf_load_centre)\n",
    "carriageway_surf_load_attr.addRow(0.0,     footway2_y,   deck_thk, surf_load_edge)\n",
    "carriageway_surf_load_attr.addRow(max_x/2, footway2_y,   deck_thk, surf_load_edge)\n",
    "carriageway_surf_load_attr.addRow(max_x,   footway2_y,   deck_thk, surf_load_edge)\n",
    "carriageway_surf_load_attr.addRow(max_x,   deck_width/2, deck_thk, surf_load_centre)\n",
    "carriageway_surf_load_attr.addRow(max_x,   footway1_y,   deck_thk, surf_load_edge)\n",
    "carriageway_surf_load_attr.addRow(max_x/2, footway1_y,   deck_thk, surf_load_edge)\n",
    "\n",
    "# Create a loadcase for the Surfacing loads to be applied to the carriageway area of the deck\n",
    "surfacing_loadcase = db.createLoadcase(\"Surfacing\", \"Phase 2\")\n",
    "# Set the loadcase in the assignment object\n",
    "assignment = lusas.assignment().setAllDefaults().setLoadset(surfacing_loadcase)\n",
    "# For discrete loads we specify some additional settings\n",
    "# For loads that extend beyond the structure, tell LUSAS to ignore them\n",
    "assignment.setLoadMoving(\"Exclude All Load\")\n",
    "# The type of model we want to project onto is an area, this is the deck slab surface area\n",
    "assignment.setSearchAssignType(\"area\")\n",
    "\n",
    "# Now assign the load attribute to the point at the origin, which is at the start of first longitudinal line\n",
    "point1 = longitudinal_lines[0].getStartPoint()\n",
    "carriageway_surf_load_attr.assignTo(point1, assignment)\n"
   ]
  },
  {
   "cell_type": "code",
   "execution_count": null,
   "metadata": {},
   "outputs": [],
   "source": [
    "# Create lines to represent the carriageway kerbs that can be used for the Vehicle Load Optimiser\n",
    "curb_line1 = create_line([-10, footway1_y, 0.5], [10 + deck_length+get_x(deck_width), footway1_y, 0.5])\n",
    "curb_line2 = create_line([-10, footway2_y, 0.5], [10 + deck_length+get_x(deck_width), footway2_y, 0.5])\n",
    "# Set the colour to distinguish them from model lines\n",
    "curb_line1.setPen(2)\n",
    "curb_line2.setPen(2)"
   ]
  },
  {
   "cell_type": "markdown",
   "metadata": {},
   "source": [
    "Discrete loads can be be re-used in the model and assigned to a different origin. We'll do that for the footpath loads.<br/>\n",
    "We'll make a generic function to create a 4 noded discrete patch load the size of the footpath."
   ]
  },
  {
   "cell_type": "code",
   "execution_count": null,
   "metadata": {},
   "outputs": [],
   "source": [
    "def create_footpath_load(name:str, load1:float, load2:float)->'IFLoadingDiscretePatch':\n",
    "    attr = db.createLoadingDiscretePatch(name).setDiscretePatch(\"surf4\", \"Z\")\n",
    "    # Add the points of an 4 node patch load in which the load intensity varies across the width\n",
    "    # The x coordinates are increased by 1 because we'll assign these loads to points created at x=-1 to hold these loads\n",
    "    attr.addRow(1.0,     0.0,        deck_thk, load1)\n",
    "    attr.addRow(1.0,     footway1_y, deck_thk, load2)\n",
    "    attr.addRow(max_x+1, footway1_y, deck_thk, load2)\n",
    "    attr.addRow(max_x+1, 0.0,        deck_thk, load1)\n",
    "    # Explicitly specify how the patch load should be divided up.\n",
    "    # We know the width of the footway is small so we dont need so many divisions\n",
    "    # Limiting the divisions speeds up the time to resolve the patch load into nodal loads\n",
    "    attr.setDivisions(math.ceil(footway1_y), 40)\n",
    "\n",
    "    return attr"
   ]
  },
  {
   "cell_type": "code",
   "execution_count": null,
   "metadata": {},
   "outputs": [],
   "source": [
    "# Create a surfacing load using the generic function\n",
    "footpath_surf_load_attr = create_footpath_load(\"Footpath Surface\", footpath_surface_load_intensity, footpath_surface_load_intensity)\n",
    "\n",
    "# Assign this to a new point using the assignment object set up for the deck surfacing loads\n",
    "footpath_point1 = create_point(-1, 0.0, 0.0)\n",
    "footpath_point1.setPen(2)\n",
    "footpath_surf_load_attr.assignTo(footpath_point1, assignment)\n",
    "# And again to a 2nd new point\n",
    "footpath_point2 = create_point(-1, footway2_y, 0.0)\n",
    "footpath_point2.setPen(2)\n",
    "footpath_surf_load_attr.assignTo(footpath_point2, assignment)\n",
    "\n",
    "# Note that we set the colour of the new points to blue so we can identify that they are not part of the model and only used to locate the discrete loads"
   ]
  },
  {
   "cell_type": "markdown",
   "metadata": {},
   "source": [
    "Create a differential shrinkage strain load acting only on the deck elements"
   ]
  },
  {
   "cell_type": "code",
   "execution_count": null,
   "metadata": {},
   "outputs": [],
   "source": [
    "# Create an initial stress/strain attribute and populate only the strains Ex,Ey at the top middle and bottom of the shell\n",
    "# The indices of these components are specified in the list, all other values are zero\n",
    "strain_array = [0]*30\n",
    "for i in [5,6,15,16,25,26]:\n",
    "    strain_array[i] = shrinkage_strain\n",
    "\n",
    "# Create the attribute\n",
    "shrink_attr = db.createLoadingStressStrain(\"Shrinkage strain\").setStressStrain(\"Initial\", strain_array, \"Surface\", \"Thick shell\", 3)\n",
    "\n",
    "# Create a loadcase for the shrinkage loads to be applied to the deck in Phase 2\n",
    "shrink_loadcase = db.createLoadcase(\"Deck Shrinkage\", \"Phase 2\")\n",
    "# Set the loadcase in the assignment object\n",
    "assignment = lusas.assignment().setAllDefaults().setLoadset(shrink_loadcase)\n",
    "# Use the surface set defined early to assign the load to all deck surfaces\n",
    "shrink_attr.assignTo(surface_set, assignment)"
   ]
  },
  {
   "cell_type": "markdown",
   "metadata": {},
   "source": [
    "Phase 2 represents a long term stage so in this analysis we'll consider creep adjusted materials.<br/>Materials must be assigned to the first loadcase in a linear analysis"
   ]
  },
  {
   "cell_type": "code",
   "execution_count": null,
   "metadata": {},
   "outputs": [],
   "source": [
    "# Find the first loadcase in Analysis \"Phase 2\"\n",
    "first_stage_2_loadcase = None\n",
    "for loadcase in db.getLoadsets(\"Loadcase\"):\n",
    "    if loadcase.getAnalysis().getName() == \"Phase 2\":\n",
    "        first_stage_2_loadcase = loadcase\n",
    "        break\n",
    "\n",
    "# Assign the materials to the first loadcase\n",
    "if first_stage_2_loadcase is not None:\n",
    "    assignment = lusas.assignment().setAllDefaults().setLoadset(first_stage_2_loadcase)\n",
    "    beam_mat_attr_creep.assignTo(beam_lines, assignment)\n",
    "    deck_mat_attr_creep.assignTo(surface_set, assignment)"
   ]
  },
  {
   "cell_type": "markdown",
   "metadata": {},
   "source": [
    "# Loads in Phase 3<br/>"
   ]
  },
  {
   "cell_type": "markdown",
   "metadata": {},
   "source": [
    "Create temperature loads"
   ]
  },
  {
   "cell_type": "code",
   "execution_count": null,
   "metadata": {},
   "outputs": [],
   "source": [
    "# Create a loadcases for temperature\n",
    "temp_warm_loadcase = db.createLoadcase(\"Temperature Warming\", \"Phase 3\")\n",
    "temp_cool_loadcase = db.createLoadcase(\"Temperature Cooling\", \"Phase 3\")\n",
    "# Temperature loading warming \n",
    "temp_warm_attr = db.createLoadingTemperature(\"Warming\").setTemperature(\"element\", temperature_increase, 0.0, 0.0, 0.0, 0.0, 0.0, 0.0, 0.0)\n",
    "# Temperature loading cooling \n",
    "temp_cool_attr = db.createLoadingTemperature(\"Cooling\").setTemperature(\"element\", temperature_decrease, 0.0, 0.0, 0.0, 0.0, 0.0, 0.0, 0.0)\n",
    "# Assign the temperature warming load\n",
    "assignment = lusas.assignment().setAllDefaults().setLoadset(temp_warm_loadcase)\n",
    "temp_warm_attr.assignTo(surface_set, assignment)\n",
    "# Assign the temperature cooling load\n",
    "assignment = lusas.assignment().setAllDefaults().setLoadset(temp_cool_loadcase)\n",
    "temp_cool_attr.assignTo(surface_set, assignment)"
   ]
  },
  {
   "cell_type": "markdown",
   "metadata": {},
   "source": [
    "Pedestrian live loads"
   ]
  },
  {
   "cell_type": "code",
   "execution_count": null,
   "metadata": {},
   "outputs": [],
   "source": [
    "# We can reuse the discrete patch load function to create pedestrian live loads \n",
    "ped_live_load_attr = create_footpath_load(\"Pedestrian Live load\", pedestrian_live_load, pedestrian_live_load)\n",
    "\n",
    "# Create a loadcase for the pedestrian live loads\n",
    "ped_loads_loadcase = db.createLoadcase(\"Pedestrian live loads\", \"Phase 3\")\n",
    "\n",
    "# Redefine the assignment object for the discrete load assignment as we did for the surfacing loads\n",
    "assignment = lusas.assignment().setAllDefaults().setLoadset(ped_loads_loadcase)\n",
    "assignment.setLoadMoving(\"Exclude All Load\")\n",
    "assignment.setSearchAssignType(\"area\")\n",
    "\n",
    "# Again, assign the same load to the two dedicated points\n",
    "ped_live_load_attr.assignTo(footpath_point1, assignment)\n",
    "ped_live_load_attr.assignTo(footpath_point2, assignment)"
   ]
  },
  {
   "cell_type": "markdown",
   "metadata": {},
   "source": [
    "Breaking load"
   ]
  },
  {
   "cell_type": "code",
   "execution_count": null,
   "metadata": {},
   "outputs": [],
   "source": [
    "# Create a discrete patch load with the loads acting in the X direction.\n",
    "# Patch loads are projected onto the structure in the direction of their normal. Which will be the Z axis in this case.\n",
    "breaking_load_attr = db.createLoadingDiscretePatch(\"Breaking load 1\").setDiscretePatch(\"surf4\", \"X\")\n",
    "# Add the points of an 4 node patch load (note assume lane width = 3.5m)\n",
    "breaking_load_attr.addRow(0.0,   footway1_y,       deck_thk, breaking_load_intensity)\n",
    "breaking_load_attr.addRow(0.0,   footway1_y + 3.5, deck_thk, breaking_load_intensity)\n",
    "breaking_load_attr.addRow(max_x, footway1_y + 3.5, deck_thk, breaking_load_intensity)\n",
    "breaking_load_attr.addRow(max_x, footway1_y,       deck_thk, breaking_load_intensity)\n",
    "\n",
    "# Create a loadcase for the braking loads\n",
    "breaking_loads_loadcase = db.createLoadcase(\"Breaking load lane 1\", \"Phase 3\")\n",
    "\n",
    "# Redefine the assignment object for the discrete load assignment as we did for the surfacing loads\n",
    "assignment = lusas.assignment().setAllDefaults().setLoadset(breaking_loads_loadcase)\n",
    "assignment.setLoadMoving(\"Exclude All Load\")\n",
    "assignment.setSearchAssignType(\"area\")\n",
    "\n",
    "# Assign to the point at the origin\n",
    "breaking_load_attr.assignTo(point1, assignment)\n"
   ]
  },
  {
   "cell_type": "markdown",
   "metadata": {},
   "source": [
    "Create reference paths for moving loads"
   ]
  },
  {
   "cell_type": "code",
   "execution_count": null,
   "metadata": {},
   "outputs": [],
   "source": [
    "y = 2*deck_width/8\n",
    "ref_path = db.createReferencePath(\"Lane 1\")\n",
    "ref_path.getDefn().addStraightV(0.0, y, 0.0, deck_length+get_x(deck_width), y, 0.0)\n",
    "ref_path.getDefn().setFacetData(20, 6, -1.0, 3.0, -1.0)\n",
    "ref_path.getDefn().setSmoothing(False)\n",
    "ref_path.getDefn().setFilletType(0, True)\n",
    "ref_path.setDistanceStartOfPath(0.0)\n",
    "ref_path.setTransverseDirection(\"Perpendicular\")\n",
    "ref_path.updateDefinition()\n",
    "\n",
    "y = 6*deck_width/8\n",
    "ref_path = db.createReferencePath(\"Lane 2\")\n",
    "ref_path.getDefn().addStraightV(0.0, y, 0.0, deck_length+get_x(deck_width), y, 0.0)\n",
    "ref_path.getDefn().setFacetData(20, 6, -1.0, 3.0, -1.0)\n",
    "ref_path.getDefn().setSmoothing(False)\n",
    "ref_path.getDefn().setFilletType(0, True)\n",
    "ref_path.setDistanceStartOfPath(0.0)\n",
    "ref_path.setTransverseDirection(\"Perpendicular\")\n",
    "ref_path.updateDefinition()\n",
    "\n"
   ]
  },
  {
   "cell_type": "code",
   "execution_count": null,
   "metadata": {},
   "outputs": [],
   "source": [
    "# Create a search area attribute for just the nodes in the deck slab\n",
    "search_area_attr = db.createSearchArea(\"Deck Slab\")\n",
    "# Create a set of objects with the deck surface geometric attribute assigned to them\n",
    "surfaces = lusas.newObjectSet().add(deck_surface_attr)\n",
    "# Assign the search area attribute to the same surfaces\n",
    "search_area_attr.assignTo(surfaces, lusas.assignment().setAllDefaults())"
   ]
  },
  {
   "cell_type": "markdown",
   "metadata": {},
   "source": [
    "Create a discrete load attribute to represent the axle loads of a T44 vehicle"
   ]
  },
  {
   "cell_type": "code",
   "execution_count": null,
   "metadata": {},
   "outputs": [],
   "source": [
    "#Create a discrete load attribute which defines a group of point loads\n",
    "vehicle_attr = db.createLoadingDiscretePoint(\"T44\")\n",
    "# Specify the load direction (Z), the projection vector (Z)\n",
    "vehicle_attr.setDiscrete(\"Z\", [0,0,1])\n",
    "# Add point loads for each wheel of the vehicle\n",
    "vehicle_attr.addRow(-4.55, -0.9, 0.0, -24.0)\n",
    "vehicle_attr.addRow(-4.55, 0.9, 0.0, -24.0)\n",
    "vehicle_attr.addRow(-0.85, -1.0, 0.0, -24.0)\n",
    "vehicle_attr.addRow(-0.85, -0.8, 0.0, -24.0)\n",
    "vehicle_attr.addRow(-0.85, 0.8, 0.0, -24.0)\n",
    "vehicle_attr.addRow(-0.85, 1.0, 0.0, -24.0)\n",
    "vehicle_attr.addRow(0.35, -1.0, 0.0, -24.0)\n",
    "vehicle_attr.addRow(0.35, -0.8, 0.0, -24.0)\n",
    "vehicle_attr.addRow(0.35, 0.8, 0.0, -24.0)\n",
    "vehicle_attr.addRow(0.35, 1.0, 0.0, -24.0)\n",
    "vehicle_attr.addRow(3.35, -1.0, 0.0, -24.0)\n",
    "vehicle_attr.addRow(3.35, -0.8, 0.0, -24.0)\n",
    "vehicle_attr.addRow(3.35, 0.8, 0.0, -24.0)\n",
    "vehicle_attr.addRow(3.35, 1.0, 0.0, -24.0)\n",
    "vehicle_attr.addRow(4.55, -1.0, 0.0, -24.0)\n",
    "vehicle_attr.addRow(4.55, -0.8, 0.0, -24.0)\n",
    "vehicle_attr.addRow(4.55, 0.8, 0.0, -24.0)\n",
    "vehicle_attr.addRow(4.55, 1.0, 0.0, -24.0)\n"
   ]
  },
  {
   "cell_type": "markdown",
   "metadata": {},
   "source": [
    "Create a moving load analysis for the vehicle"
   ]
  },
  {
   "cell_type": "code",
   "execution_count": null,
   "metadata": {},
   "outputs": [],
   "source": [
    "# Create a moving load analysis which uses the T44 Vehicle defined above\n",
    "analysis = db.createAnalysisStaticMovingLoad(\"Phase 3 - Moving load lane 1\")\n",
    "# The moving load with follow the reference path named \"Lane 1\"\n",
    "analysis.setStaticMovingLoadAnalysis(\"T44\", \"Lane 1\", \"Deck Slab\", \"area\", \"All\", \"3D\", \"horizontal\", \"Exclude All Load\", \"Division number\", 10, 0.0, \"Reverse\", True)\n",
    "analysis.setDefinitionMenuID(837, None ,True)"
   ]
  },
  {
   "cell_type": "markdown",
   "metadata": {},
   "source": [
    "Create beam/shell slicing to compute equivalent beam results. Slices are positioned at 2m increments for demo"
   ]
  },
  {
   "cell_type": "code",
   "execution_count": null,
   "metadata": {},
   "outputs": [],
   "source": [
    "slice_type = 4      # Constant spacing\n",
    "slice_distances = \"2\"\n",
    "include_points = False\n",
    "start_distance = 0\n",
    "about_neutral_axis = True\n",
    "use_effective_width = False         # Use groups instead\n",
    "effective_width = beam_spacing\n",
    "whole_elements = False\n",
    "smooth_corners = True\n",
    "extent = 2 # Group\n",
    "rotation = 0\n",
    "\n",
    "# Create a beam/shell slice utility for each beam\n",
    "for i, line in enumerate(beam_lines):\n",
    "    slice = db.createBeamShellSlice(f\"Beam {i+1}\")\n",
    "    slice.setBeamShellSlice(slice_type, slice_distances, include_points, start_distance, about_neutral_axis, use_effective_width, \n",
    "                            effective_width, whole_elements, smooth_corners, \"Slice\", extent, f\"Beam {i+1}\", str(beam_lines[i].getID()), rotation)\n",
    "\n",
    "# Turn of display of the beam/shell slice planes\n",
    "lusas.view().utilities().setBeamShellSliceOptions(False, False, False, False)\n"
   ]
  },
  {
   "cell_type": "markdown",
   "metadata": {},
   "source": [
    "Influence analysis"
   ]
  },
  {
   "cell_type": "code",
   "execution_count": null,
   "metadata": {},
   "outputs": [],
   "source": [
    "if create_dmi:\n",
    "    # Create a Direct Method Influence Analysis\n",
    "    dmi_analysis = db.createAnalysisDirectMethodInf(\"Phase 3 - DMI\")\n",
    "    # dmi_analysis.setLoadDirection(\"Vertical\")\n",
    "    # dmi_analysis.setLoadMagnitude(1.0E3)\n",
    "    # Specify the elements in the search area deck slab\n",
    "    dmi_analysis.setSearchArea(\"Deck Slab\")\n",
    "    dmi_analysis.setSearchAssignType(\"area\")\n",
    "    dmi_analysis.setIsGrillageType(1)\n",
    "    dmi_analysis.setGridCentreline(\"\")\n",
    "    dmi_analysis.setIncludeMidSideNodes(False)\n",
    "    dmi_analysis.createElements()\n",
    "    dmi_analysis.setSelectedResultsGroup(\"assignments\")\n",
    "    dmi_analysis.setSelectedElementOutputGroup(\"all\")\n",
    "    dmi_analysis.setSelectedNodeOutputGroup(\"all\")\n"
   ]
  },
  {
   "cell_type": "code",
   "execution_count": null,
   "metadata": {},
   "outputs": [],
   "source": [
    "if create_dmi:\n",
    "    # Create an influence attribute to envelope all locations\n",
    "    attr = db.createInfluenceEnvelope(\"DMI Influence for Bending\")\n",
    "    # The influence shapes will be based on the integrated slices resultants of beams and shells \n",
    "    attr.setEntity(\"Beam/Shell Slice Resultants\")\n",
    "    # Consider the major axis bending moment\n",
    "    attr.addComponentNames([\"My\"])\n",
    "    # And include coincident effects\n",
    "    attr.includeCoincident(True)\n",
    "\n",
    "    # Assign the influence attribute to all beam shell slices\n",
    "    attr.assignToBeamShellSlice(\"Beam 1\", \"Phase 3 - DMI\")\n",
    "    attr.assignToBeamShellSlice(\"Beam 2\", \"Phase 3 - DMI\")\n",
    "    attr.assignToBeamShellSlice(\"Beam 3\", \"Phase 3 - DMI\")\n",
    "    attr.assignToBeamShellSlice(\"Beam 4\", \"Phase 3 - DMI\")\n"
   ]
  },
  {
   "cell_type": "markdown",
   "metadata": {},
   "source": [
    "Create some simple post-processing combinations and envelopes"
   ]
  },
  {
   "cell_type": "code",
   "execution_count": null,
   "metadata": {},
   "outputs": [],
   "source": [
    "# Create a basic combination for dead loads\n",
    "dl_combination = db.createCombinationBasic(\"DL\", \"Structural\", 0)\n",
    "dl_combination.addEntry(1.0, beam_sw_loadcase)\n",
    "dl_combination.addEntry(1.0, wet_conc_loadcase)\n",
    "\n",
    "# Another combination for super-imposed dead loads\n",
    "sdl_combination = db.createCombinationBasic(\"SDL\", \"Structural\", 0)\n",
    "sdl_combination.addEntry(1.0, parapet_loads_loadcase)\n",
    "sdl_combination.addEntry(1.0, waterproofing_loadcase)\n",
    "sdl_combination.addEntry(1.0, surfacing_loadcase)"
   ]
  },
  {
   "cell_type": "code",
   "execution_count": null,
   "metadata": {},
   "outputs": [],
   "source": [
    "# Create an envelope of the warming and cooling temperature loadcases\n",
    "envelope = db.createEnvelope(\"Thermal\", \"Structural\", 0, 0)\n",
    "envelope.addEntry(temp_warm_loadcase)\n",
    "envelope.addEntry(temp_cool_loadcase)"
   ]
  },
  {
   "cell_type": "code",
   "execution_count": null,
   "metadata": {},
   "outputs": [],
   "source": [
    "combination = db.createCombinationSmart(\"ULS\", \"Structural\", 0, 0)\n",
    "# The DL and SDL loads are already factored \n",
    "combination.addEntry(1.0, 0.0, dl_combination)\n",
    "combination.addEntry(1.0, 0.0, sdl_combination)\n",
    "combination.addEntry(0.0, 1.0, shrink_loadcase)\n",
    "# For envelopes add both the min and max versions of the loadset. \n",
    "# The program will consider the correct max or min loadset corresponding to the active parent loadset\n",
    "combination.addEntry(0.0, 1.0, envelope)\n",
    "combination.addEntry(0.0, 1.0, envelope.getAssocLoadset())\n"
   ]
  },
  {
   "cell_type": "markdown",
   "metadata": {},
   "source": [
    "# Getting and viewing analysis results (load effects)"
   ]
  },
  {
   "cell_type": "markdown",
   "metadata": {},
   "source": [
    "Solve the analyses"
   ]
  },
  {
   "cell_type": "code",
   "execution_count": null,
   "metadata": {},
   "outputs": [],
   "source": [
    "# Solve each analysis and open all the available results files\n",
    "if solve_analyses:\n",
    "    db.getAnalysis(\"Base\").solve(True)\n",
    "    db.getAnalysis(\"Phase 1\").solve(True)\n",
    "    db.getAnalysis(\"Phase 2\").solve(True)\n",
    "    db.getAnalysis(\"Phase 3\").solve(True)\n",
    "    db.getAnalysis(\"Phase 3 - Moving load lane 1\").solve(True)\n",
    "    if create_dmi:\n",
    "        db.getAnalysis(\"Phase 3 - DMI\").solve(True)\n",
    "    db.openAllResults(False)"
   ]
  },
  {
   "cell_type": "markdown",
   "metadata": {},
   "source": [
    "Plot diagrams of the beam shell resultants"
   ]
  },
  {
   "cell_type": "code",
   "execution_count": null,
   "metadata": {},
   "outputs": [],
   "source": [
    "if solve_analyses:\n",
    "    lusas.view().insertDiagramsLayer()\n",
    "    diagrams_layer = lusas.view().diagrams()\n",
    "    diagrams_layer.setResultsTransformNone()\n",
    "    diagrams_layer.setResults(\"Beam/Shell Slice Resultants\", \"My\")\n",
    "    diagrams_layer.setLocation(\"BeamShellSlice\")\n",
    "    diagrams_layer.setAssocOption(\"Single\")\n"
   ]
  },
  {
   "cell_type": "markdown",
   "metadata": {},
   "source": [
    "Show the reactions in the values layer"
   ]
  },
  {
   "cell_type": "code",
   "execution_count": null,
   "metadata": {},
   "outputs": [],
   "source": [
    "lusas.view().insertValuesLayer()\n",
    "lusas.view().values().setResultsTransformNone()\n",
    "lusas.view().values().setResults(\"Reaction\", \"FZ\")"
   ]
  },
  {
   "cell_type": "markdown",
   "metadata": {},
   "source": [
    "Set the view to be perspective mode"
   ]
  },
  {
   "cell_type": "code",
   "execution_count": null,
   "metadata": {},
   "outputs": [],
   "source": [
    "lusas.view().setProjection(1)\n",
    "lusas.view().setRotationMatrix(0.5, 0.25, -0.8, 0.0, -0.8, 0.2, -0.5, 0.0, 0.0, 0.9, 0.3, 0.0, 0.0, 0.0, 0.0, 1.0)\n",
    "lusas.view().setScaledToFit(True)\n",
    "\n",
    "# set the pedestrian live load loadcase active\n",
    "lusas.view().setActiveLoadset(10)"
   ]
  },
  {
   "cell_type": "markdown",
   "metadata": {},
   "source": [
    "Set the view to display the assigned loading in the attributes layers as well as the geometric \"fleshing\""
   ]
  },
  {
   "cell_type": "code",
   "execution_count": null,
   "metadata": {},
   "outputs": [],
   "source": [
    "lusas.view().insertAttributesLayer()\n",
    "lusas.view().attributes().drawPatchByDefinition(True)\n",
    "lusas.view().attributes().visualiseAll(\"Loading\")\n",
    "lusas.view().attributes().visualiseAll(\"Geometric\")\n",
    "#lusas.view().attributes().visualiseAllTransparent(\"Geometric\")\n"
   ]
  },
  {
   "cell_type": "markdown",
   "metadata": {},
   "source": [
    "Create results tables known as \"Print Results Wizards\""
   ]
  },
  {
   "cell_type": "code",
   "execution_count": null,
   "metadata": {},
   "outputs": [],
   "source": [
    "results_wizard_utility = db.createPrintResultsWizard(\"Beam Resultants\")\n",
    "\n",
    "results_wizard_utility.setResultsContent(\"Tabular\")                       # Tabular results only, summary not required\n",
    "results_wizard_utility.setResultsEntity(\"Beam/Shell Slice Resultants\")\n",
    "results_wizard_utility.setResultsLocation(\"BeamShellSlice\")\n",
    "\n",
    "# Specify the loadcases required.\n",
    "results_wizard_utility.setLoadcasesOption(\"Selected\")\n",
    "lcIDs = [1]\n",
    "# We need to pass corresponding array of results ids\n",
    "lcResFileIDs = [0] *len(lcIDs)\n",
    "lcEigenvalueIDs = [-1] *len(lcIDs) # No eigenvalues hence -1\n",
    "lcHarmonicIDs = [-1] *len(lcIDs)   # No harmonic loadcases hence -1\n",
    "results_wizard_utility.setLoadcases(lcIDs, lcResFileIDs, lcEigenvalueIDs, lcHarmonicIDs)\n",
    "\n",
    "# Results components to report\n",
    "results_wizard_utility.setComponents([\"Fx\", \"Fy\", \"Fz\", \"Mx\", \"My\", \"Mz\"])\n",
    " # Add the coordinates of each slice location for use with design checks, plots etc\n",
    "results_wizard_utility.showCoordinates(True)"
   ]
  }
 ],
 "metadata": {
  "kernelspec": {
   "display_name": "Python 3",
   "language": "python",
   "name": "python3"
  },
  "language_info": {
   "codemirror_mode": {
    "name": "ipython",
    "version": 3
   },
   "file_extension": ".py",
   "mimetype": "text/x-python",
   "name": "python",
   "nbconvert_exporter": "python",
   "pygments_lexer": "ipython3",
   "version": "3.13.2"
  }
 },
 "nbformat": 4,
 "nbformat_minor": 2
}
