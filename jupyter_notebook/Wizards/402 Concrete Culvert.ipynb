{
 "cells": [
  {
   "cell_type": "markdown",
   "metadata": {},
   "source": [
    "# #402 Concrete Culvert - 3D Thick Shell\n",
    "<i>Basic box culvert on spring foundations</i>\n",
    "***"
   ]
  },
  {
   "attachments": {
    "image-2.png": {
     "image/png": "[encoded data removed]"
    }
   },
   "cell_type": "markdown",
   "metadata": {},
   "source": [
    "![Preview](../_img/jupyter_notebook_402.png)\n",
    "![image-2.png](attachment:image-2.png)"
   ]
  },
  {
   "cell_type": "code",
   "execution_count": null,
   "metadata": {},
   "outputs": [],
   "source": [
    "wall_height = 2.5\n",
    "wall_thk = 0.3\n",
    "slab_length = 2.5\n",
    "slab_thickness = 0.45\n",
    "haunch_length = 1\n",
    "haunch_thk = 0.65\n",
    "\n",
    "culvert_length = 10\n",
    "\n",
    "base_width = 1.4\n",
    "base_thickness = 0.5\n",
    "#cover = 0.05\n",
    "\n",
    "mesh_size = 1"
   ]
  },
  {
   "cell_type": "code",
   "execution_count": null,
   "metadata": {},
   "outputs": [],
   "source": [
    "import sys; sys.path.append('../') # Reference modules in parent directory\n",
    "from shared.LPI_21_1 import *\n",
    "lusas = get_lusas_modeller()\n",
    "\n",
    "import shared.Helpers as Helpers\n",
    "Helpers.initialise(lusas)\n",
    "\n",
    "if lusas.existsDatabase() and lusas.db().isModified():\n",
    "    raise Exception(\"This script will create a new model. Please save or close the current model and try again\")\n",
    "\n",
    "# Create a new model\n",
    "lusas.newProject(\"Structural\",\"Concrete Culvert\")\n",
    "# Get the database\n",
    "db = lusas.database()\n",
    "# 3D model with Z vertical\n",
    "db.setAnalysisCategory(\"3D\")\n",
    "db.setVerticalDir(\"Z\")\n",
    "# Units\n",
    "db.setModelUnits(\"kN,m,t,s,C\")\n",
    "\n",
    "lusas.view().setIsometric()\n",
    "\n"
   ]
  },
  {
   "cell_type": "markdown",
   "metadata": {},
   "source": [
    "Create the attributes"
   ]
  },
  {
   "cell_type": "code",
   "execution_count": null,
   "metadata": {},
   "outputs": [],
   "source": [
    "# # Beam mesh attributes\n",
    "# beam_mesh_attr = db.createMeshLine(\"LMsh2\").setSize(\"BMI21\", mesh_size)\n",
    "# # Beam geometric attribute\n",
    "# beam_geom_attr = db.createGeometricLine(\"LGeo2\").setFromLibrary(\"Australian Sections\", \"Precast Super T (Open)\", \"T3 (100)\", 0, 0, 0)\n",
    "# beam_geom_attr.setValue(\"elementType\", \"3D Thick Beam\")\n",
    "# beam_geom_attr.setEccentricityOrigin(\"Centroid\", \"Fibre\", \"\", \"A1\")\n",
    "# # Beam material attributes for short and long term\n",
    "# beam_mat_attr = db.createIsotropicMaterial(\"Concrete beam\", 34.8E6, 0.2, 2.4)\n",
    "# beam_mat_attr_creep = db.createIsotropicMaterial(\"Concrete beam long term\", 34.8E6/3, 0.2, 2.4)\n",
    "\n",
    "# Shell mesh attribute, thick shell elements\n",
    "shell_mesh_attr    = db.createMeshSurface(\"SMsh1\").setRegularSize(\"QTS4\", mesh_size, True)\n",
    "\n",
    "\n",
    "# # Deck surface thickness attribute\n",
    "# wall_surface_attr = db.createGeometricSurface(\"Walls\").setSurface(wall_thickness, 0.0)\n",
    "# slab_surface_attr = db.createGeometricSurface(\"Slab\").setSurface(slab_thickness, 0.0)\n",
    "\n",
    "# Concrete material attribute\n",
    "concrete_mat_attr = db.createIsotropicMaterial(\"Concrete\", 34.8E6, 0.2, 2.4, 12e-6)\n",
    "\n",
    "\n",
    "# Support attributes\n",
    "ground_spring_attr = db.createSupportStructural(\"Ground Spring\").setStructural(\"F\", \"F\", \"S\", \"F\", \"F\", \"F\", \"F\", \"F\", \"C\", \"F\") # F=Free, R=Restrained\n",
    "ground_spring_attr.setSpring(\"Area\", 0,0,200,0,0,0,0,0,0)\n",
    "\n",
    "# support_slide_attr  = db.createSupportStructural(\"Slide\").setStructural(\"F\", \"R\", \"R\", \"F\", \"F\", \"F\", \"F\", \"F\", \"C\", \"F\")\n",
    "\n",
    "\n"
   ]
  },
  {
   "cell_type": "code",
   "execution_count": null,
   "metadata": {},
   "outputs": [],
   "source": [
    "portal1_points = []\n",
    "portal2_points = []\n",
    "\n",
    "\n",
    "for y, points in [(0.0, portal1_points), (culvert_length, portal2_points)]:\n",
    "\n",
    "    points.append( Helpers.create_point(0, y, 0) )\n",
    "    points.append( Helpers.create_point(haunch_length, y, 0) )\n",
    "    points.append( Helpers.create_point(haunch_length + slab_length, y, 0) )\n",
    "    points.append( Helpers.create_point(haunch_length + slab_length + haunch_length, y, 0) )\n",
    "    points.append( Helpers.create_point(haunch_length + slab_length + haunch_length, y, wall_height) )\n",
    "    points.append( Helpers.create_point(haunch_length + slab_length, y, wall_height) )\n",
    "    points.append( Helpers.create_point(haunch_length, y, wall_height) )\n",
    "    points.append( Helpers.create_point(0, y, wall_height) )\n",
    "\n",
    "portal1_lines = []\n",
    "for i in range(len(portal1_points)-1):\n",
    "    portal1_lines.append(Helpers.create_line_from_points(portal1_points[i], portal1_points[i+1]))\n",
    "portal1_lines.append(Helpers.create_line_from_points(portal1_points[-1], portal1_points[0]))\n",
    "\n",
    "portal2_lines = []\n",
    "for i in range(len(portal2_points)-1):\n",
    "    portal2_lines.append(Helpers.create_line_from_points(portal2_points[i], portal2_points[i+1]))\n",
    "portal2_lines.append(Helpers.create_line_from_points(portal2_points[-1], portal2_points[0]))\n",
    "\n",
    "\n"
   ]
  },
  {
   "cell_type": "code",
   "execution_count": null,
   "metadata": {},
   "outputs": [],
   "source": [
    "surfaces = []\n",
    "geom_data = lusas.geometryData().setAllDefaults().setMaximumDimension(2)\n",
    "\n",
    "for i in range(len(portal1_lines)):\n",
    "    obs = lusas.newObjectSet()\n",
    "    obs.add(portal1_lines[i]).add(portal2_lines[i])\n",
    "    surfaces.append(obs.join(geom_data).getObject(\"Surface\"))\n",
    "\n",
    "shell_mesh_attr.assignTo(surfaces)\n",
    "\n",
    "db.updateMesh()"
   ]
  },
  {
   "cell_type": "code",
   "execution_count": null,
   "metadata": {},
   "outputs": [],
   "source": [
    "var_w2s_thk_attr = db.createVariationGrid(\"Wall to slab thickness\").setGrid([[haunch_thk],[slab_thickness]], \"Linear\", \"Constant\")\n",
    "var_s2w_thk_attr = db.createVariationGrid(\"Slab to wall thickness\").setGrid([[slab_thickness],[haunch_thk]], \"Linear\", \"Constant\")\n",
    "var_w2s_ecc_attr = db.createVariationGrid(\"Wall to slab eccentricity\").setGrid([[(slab_thickness-haunch_thk)/2],[0]], \"Linear\", \"Constant\")\n",
    "var_s2w_ecc_attr = db.createVariationGrid(\"Slab to wall eccentricity\").setGrid([[0],[(slab_thickness-haunch_thk)/2]], \"Linear\", \"Constant\")"
   ]
  },
  {
   "cell_type": "code",
   "execution_count": null,
   "metadata": {},
   "outputs": [],
   "source": [
    "geom_attr = []\n",
    "geom_attr.append(db.createGeometricSurface(\"Bottom Haunch Left\").setSurface(var_w2s_thk_attr, var_w2s_ecc_attr))\n",
    "geom_attr.append(db.createGeometricSurface(\"Bottom Slab\").setSurface(slab_thickness, 0))\n",
    "geom_attr.append(db.createGeometricSurface(\"Bottom Haunch Right\").setSurface(var_s2w_thk_attr, var_s2w_ecc_attr))\n",
    "geom_attr.append(db.createGeometricSurface(\"Wall\").setSurface(wall_thk, 0))\n",
    "geom_attr.append(db.createGeometricSurface(\"Top Haunch Right\").setSurface(var_w2s_thk_attr, var_w2s_ecc_attr))\n",
    "geom_attr.append(db.createGeometricSurface(\"Top Slab\").setSurface(slab_thickness, 0))\n",
    "geom_attr.append(db.createGeometricSurface(\"Top Haunch Left\").setSurface(var_s2w_thk_attr, var_s2w_ecc_attr))\n",
    "geom_attr.append(db.createGeometricSurface(\"Wall\").setSurface(wall_thk, 0))\n",
    "\n",
    "for i in range(len(geom_attr)):\n",
    "    geom_attr[i].assignTo(surfaces[i])"
   ]
  },
  {
   "cell_type": "code",
   "execution_count": null,
   "metadata": {},
   "outputs": [],
   "source": [
    "concrete_mat_attr.assignTo(surfaces)"
   ]
  },
  {
   "cell_type": "markdown",
   "metadata": {},
   "source": [
    "### Supports"
   ]
  },
  {
   "cell_type": "code",
   "execution_count": null,
   "metadata": {},
   "outputs": [],
   "source": [
    "ground_spring_attr.assignTo(surfaces[:3])"
   ]
  },
  {
   "cell_type": "markdown",
   "metadata": {},
   "source": [
    "### Search areas"
   ]
  },
  {
   "cell_type": "code",
   "execution_count": null,
   "metadata": {},
   "outputs": [],
   "source": [
    "left_wall_search = db.createSearchArea(\"Left Wall\")\n",
    "right_wall_search = db.createSearchArea(\"Right Wall\")\n",
    "\n",
    "left_wall_search.assignTo(surfaces[-1])\n",
    "right_wall_search.assignTo(surfaces[3])"
   ]
  },
  {
   "cell_type": "markdown",
   "metadata": {},
   "source": [
    "# Loading"
   ]
  },
  {
   "cell_type": "code",
   "execution_count": null,
   "metadata": {},
   "outputs": [],
   "source": [
    "# Gravity loadcase\n",
    "gravity_loadcase = win32.CastTo(db.getLoadset(1), \"IFLoadcase\")\n",
    "gravity_loadcase.setName(\"Self Weight\")\n",
    "gravity_loadcase.addGravity(True)"
   ]
  },
  {
   "cell_type": "code",
   "execution_count": null,
   "metadata": {},
   "outputs": [],
   "source": [
    "earth_pressure_horiz_loadcase = db.createLoadcase(\"Earth Pressure Horizontal\")\n",
    "\n"
   ]
  },
  {
   "cell_type": "code",
   "execution_count": null,
   "metadata": {},
   "outputs": [],
   "source": [
    "horiz_ep_left_attr = db.createLoadingDiscretePatch(\"Horizontal Left Wall\")\n",
    "horiz_ep_left_attr.setDiscretePatch(\"surf4\", \"X\")\n",
    "horiz_ep_left_attr.addRow(0.0, 0.0, 0.0, 100.0)\n",
    "horiz_ep_left_attr.addRow(0.0, culvert_length, 0.0, 100.0)\n",
    "horiz_ep_left_attr.addRow(0.0, culvert_length, wall_height, 0.0)\n",
    "horiz_ep_left_attr.addRow(0.0, 0.0, wall_height, 0.0)\n",
    "horiz_ep_left_attr.setDivisions(0, 0)\n",
    "assign = lusas.assignment().setAllDefaults().setLoadset(earth_pressure_horiz_loadcase).setSearchArea(left_wall_search)\n",
    "horiz_ep_left_attr.assignTo(portal1_points[0], assign)\n",
    "\n",
    "\n",
    "horiz_ep_right_attr = db.createLoadingDiscretePatch(\"Horizontal Right Wall\")\n",
    "horiz_ep_right_attr.setDiscretePatch(\"surf4\", \"X\")\n",
    "horiz_ep_right_attr.addRow(0.0, 0.0, 0.0, -100.0)\n",
    "horiz_ep_right_attr.addRow(0.0, culvert_length, 0.0, -100.0)\n",
    "horiz_ep_right_attr.addRow(0.0, culvert_length, wall_height, -0.0)\n",
    "horiz_ep_right_attr.addRow(0.0, 0.0, wall_height, -0.0)\n",
    "horiz_ep_right_attr.setDivisions(0, 0)\n",
    "assign = lusas.assignment().setAllDefaults().setLoadset(earth_pressure_horiz_loadcase).setSearchArea(right_wall_search)\n",
    "horiz_ep_right_attr.assignTo(portal1_points[3], assign)"
   ]
  },
  {
   "cell_type": "code",
   "execution_count": null,
   "metadata": {},
   "outputs": [],
   "source": [
    "surcharge_loadcase = db.createLoadcase(\"Surcharge\")\n",
    "assign = lusas.assignment().setAllDefaults().setLoadset(surcharge_loadcase)\n",
    "\n",
    "surcharge_left_attr = db.createLoadingLocalDistributed(\"Surcharge Left\")\n",
    "surcharge_left_attr.setLocalDistributed(0.0, 0.0, 10.0, \"surface\")\n",
    "surcharge_right_attr = db.createLoadingLocalDistributed(\"Surcharge Right\")\n",
    "surcharge_right_attr.setLocalDistributed(0.0, 0.0, 10.0, \"surface\")\n",
    "\n",
    "surcharge_left_attr.assignTo(surfaces[-1], assign)\n",
    "surcharge_right_attr.assignTo(surfaces[3], assign)"
   ]
  },
  {
   "cell_type": "code",
   "execution_count": null,
   "metadata": {},
   "outputs": [],
   "source": [
    "# hydrostatic_loadcase = db.createLoadcase(\"Water Flow\")"
   ]
  },
  {
   "cell_type": "markdown",
   "metadata": {},
   "source": [
    "Transformation Attributes"
   ]
  },
  {
   "cell_type": "code",
   "execution_count": null,
   "metadata": {},
   "outputs": [],
   "source": []
  },
  {
   "cell_type": "markdown",
   "metadata": {},
   "source": [
    "# Solve"
   ]
  },
  {
   "cell_type": "code",
   "execution_count": null,
   "metadata": {},
   "outputs": [],
   "source": [
    "# db.getAnalysis(\"Analysis 1\").solve(True)\n",
    "# db.openAllResults()"
   ]
  },
  {
   "cell_type": "code",
   "execution_count": null,
   "metadata": {},
   "outputs": [],
   "source": [
    "# lusas.view().insertContoursLayer()\n",
    "# lusas.view().contours().setResultsTransformNone()\n",
    "# lusas.view().contours().setResults(\"Force/Moment - Thick 3D Shell\", \"My\")\n",
    "# lusas.view().contours().setDisplayType(\"ElementNodal\")"
   ]
  }
 ],
 "metadata": {
  "kernelspec": {
   "display_name": "Python 3",
   "language": "python",
   "name": "python3"
  },
  "language_info": {
   "codemirror_mode": {
    "name": "ipython",
    "version": 3
   },
   "file_extension": ".py",
   "mimetype": "text/x-python",
   "name": "python",
   "nbconvert_exporter": "python",
   "pygments_lexer": "ipython3",
   "version": "3.13.3"
  }
 },
 "nbformat": 4,
 "nbformat_minor": 2
}
