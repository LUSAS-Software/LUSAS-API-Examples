{
 "cells": [
  {
   "cell_type": "markdown",
   "metadata": {},
   "source": [
    "# #04 Get Geometries, Groups, Selection and ObjectSets\n",
    "<i>Guide on how to use ObjectSets (Database, Groups, Selection etc) to filter features (points, lines, surface, nodes, elements etc)</i>\n",
    "***"
   ]
  },
  {
   "cell_type": "markdown",
   "metadata": {},
   "source": [
    "In LUSAS, a set of features (i.e. Nodes, Elements, Points, Lines, etc) can be contained in an IFObjectSet object. Many database operations (i.e. geometry creation) will return an ObjectSet containing all the created or modified features. The model database is a special type of IFObjectSet, which contains all geometric features and mesh objects."
   ]
  },
  {
   "cell_type": "markdown",
   "metadata": {},
   "source": [
    "Connect to LUSAS and check if a model is open"
   ]
  },
  {
   "cell_type": "code",
   "execution_count": null,
   "metadata": {},
   "outputs": [],
   "source": [
    "from shared.LPI import *\n",
    "lusas = get_lusas_modeller()\n",
    "\n",
    "if not lusas.existsDatabase():\n",
    "    raise Exception(\"A model must be open before running this code\")\n",
    "\n",
    "# Import and initialise Helpers\n",
    "from shared.Helpers import *\n",
    "initialise(lusas)"
   ]
  },
  {
   "cell_type": "markdown",
   "metadata": {},
   "source": [
    "## 1. Get model objects by type"
   ]
  },
  {
   "cell_type": "code",
   "execution_count": null,
   "metadata": {},
   "outputs": [],
   "source": [
    "# Create some geometries\n",
    "create_point(2.0, 1.0, 0.0)\n",
    "create_line_by_coordinates(0, 0, -1, 1, 0, -1)\n",
    "surf = create_surface_by_coordinates([0,1,1,0], [0,0,1,1], [0,0,0,0])\n",
    "sweep_surfaces([surf], [0, 0, 1])\n",
    "\n",
    "# Get model database (which is a special type of IFObjectSet)\n",
    "object_set = lusas.db()\n",
    "\n",
    "# Get all nodes\n",
    "nodes : list[IFNode] = object_set.getObjects(\"Nodes\")\n",
    "\n",
    "# Get all elements\n",
    "elements : list[IFElement] = object_set.getObjects(\"Elements\")\n",
    "\n",
    "# Get all points\n",
    "points : list[IFPoint] = object_set.getObjects(\"Points\")\n",
    "\n",
    "# Get all lines\n",
    "lines : list[IFLine] = object_set.getObjects(\"Lines\")\n",
    "\n",
    "# Get all surface\n",
    "surfaces : list[IFSurface] = object_set.getObjects(\"Surfaces\")\n",
    "\n",
    "# Get all volumes\n",
    "volumes : list[IFVolume] = object_set.getObjects(\"Volumes\")\n",
    "\n",
    "# Print number of objects of each type\n",
    "print(f\"The model contains:\")\n",
    "print(f\" - {object_set.count(\"Nodes\")} Nodes\")\n",
    "print(f\" - {object_set.count(\"Elements\")} Elements\")\n",
    "print(f\" - {object_set.count(\"Points\")} Points\")\n",
    "print(f\" - {object_set.count(\"Lines\")} Lines\")\n",
    "print(f\" - {object_set.count(\"Surfaces\")} Surfaces\")\n",
    "print(f\" - {object_set.count(\"Volumes\")} Volumes\")\n",
    "\n",
    "# Get features by ID\n",
    "if lusas.db().exists(\"point\", 1):\n",
    "    print(f\"Point 1 exists!\")\n",
    "    point1 = lusas.db().getObject(\"point\", 1)\n",
    "else:\n",
    "    print(f\"Point 1 does not exist!\")"
   ]
  },
  {
   "cell_type": "markdown",
   "metadata": {},
   "source": [
    "## 2. Add and remove objects from sets"
   ]
  },
  {
   "cell_type": "code",
   "execution_count": null,
   "metadata": {},
   "outputs": [],
   "source": [
    "# Create a new object set\n",
    "new_object_set = lusas.newObjectSet()\n",
    "\n",
    "if len(points) > 0:\n",
    "    # Add points in the object set\n",
    "    new_object_set.add(points)\n",
    "    # But remove the first\n",
    "    new_object_set.remove(points[0])\n",
    "\n",
    "print(f\"The new object set now contains {new_object_set.count(\"Points\")} / {len(points)} Points\")"
   ]
  },
  {
   "cell_type": "markdown",
   "metadata": {},
   "source": [
    "Object sets can also be used to access lower or higher order features (e.g. the lines of a surface, or the volumes that contain the included surfaces)."
   ]
  },
  {
   "cell_type": "code",
   "execution_count": null,
   "metadata": {},
   "outputs": [],
   "source": [
    "# Add higher order Line feature (the lines using the object set contained points)\n",
    "new_object_set.addHOF(\"Lines\")\n",
    "\n",
    "print(f\"The new object set now contains {new_object_set.count(\"Points\")} Points and {new_object_set.count(\"Lines\")}  Lines\")\n",
    "\n",
    "# Keep only the lines\n",
    "new_object_set.keep(\"Lines\")\n",
    "print(f\"The new object set now contains {new_object_set.count(\"Points\")} Points and {new_object_set.count(\"Lines\")}  Lines\")\n",
    "\n",
    "# Add lower order Point features (points of included lines)\n",
    "new_object_set.addLOF(\"Points\")\n",
    "print(f\"The new object set now contains {new_object_set.count(\"Points\")} Points and {new_object_set.count(\"Lines\")}  Lines\")"
   ]
  },
  {
   "cell_type": "markdown",
   "metadata": {},
   "source": [
    "## 3. Groups"
   ]
  },
  {
   "cell_type": "code",
   "execution_count": null,
   "metadata": {},
   "outputs": [],
   "source": [
    "# Create an empty group\n",
    "groupVlms = lusas.db().createEmptyGroup(\"Volumes\")\n",
    "\n",
    "# Add volumes in the group (groups are special types of object sets, so they share the same methods)\n",
    "groupVlms.add(volumes)\n",
    "print(f\"Group Volumes now contains {groupVlms.count(\"all\")} feature(s)\")\n",
    "\n",
    "# Create group with features in one line\n",
    "groupSurfaces = lusas.db().createGroup(\"Surfaces\", surfaces)\n",
    "print(f\"Group Surfaces now contains {groupSurfaces.count(\"all\")} feature(s)\")\n",
    "\n",
    "# Add relevant points in the surfaces group\n",
    "groupSurfaces.addLOF(\"Points\")\n",
    "print(f\"Group Surfaces now contains {groupSurfaces.count(\"all\")} feature(s)\")\n",
    "\n",
    "# Now remove all points from the Surfaces group\n",
    "groupSurfaces.remove(\"Points\")\n",
    "print(f\"Group Surfaces now contains {groupSurfaces.count(\"all\")} feature(s)\")"
   ]
  },
  {
   "cell_type": "markdown",
   "metadata": {},
   "source": [
    "## 4. Selection"
   ]
  },
  {
   "cell_type": "code",
   "execution_count": null,
   "metadata": {},
   "outputs": [],
   "source": [
    "# Ensure selection is empty (which is also an object set!)\n",
    "lusas.selection().remove(\"all\")\n",
    "\n",
    "# Add all points to selection\n",
    "lusas.selection().add(lusas.db().getObjects(\"Points\"))\n",
    "\n",
    "# Print number of selected features\n",
    "print(f\"Selection contains {lusas.selection().count(\"all\")} feature(s)\")"
   ]
  },
  {
   "cell_type": "markdown",
   "metadata": {},
   "source": [
    "## 5. Geometry filtering"
   ]
  },
  {
   "cell_type": "markdown",
   "metadata": {},
   "source": [
    "Get volume top points"
   ]
  },
  {
   "cell_type": "code",
   "execution_count": null,
   "metadata": {},
   "outputs": [],
   "source": [
    "# 1. Get all volume points by adding it in an objectset\n",
    "t_object_set = lusas.newObjectSet().add(volumes[0]).addLOF(\"Points\")\n",
    "volumePoints : list[IFPoint] = t_object_set.getObjects(\"Points\")\n",
    "\n",
    "# 2. Print points info\n",
    "print(\"Volume points:\")\n",
    "for point in volumePoints:\n",
    "    print(f\" - ID: {point.getID()}, x: {point.getX()}, y: {point.getY()}, z: {point.getZ()}\")\n",
    "\n",
    "# 3. Get max Z coordinate\n",
    "zs = [p.getZ() for p in volumePoints]\n",
    "maxZ = max(zs)\n",
    "print(f\"Max Z: {maxZ}\")\n",
    "\n",
    "# 4. Get all points close to max Z (geometric comparison should always consider a tolerance)\n",
    "tolerance = 0.000001\n",
    "topPoints = []\n",
    "print(\"Top volume points:\")\n",
    "for point in volumePoints:\n",
    "    # Check if close to top\n",
    "    if abs(point.getZ() - maxZ) > tolerance:\n",
    "        continue\n",
    "    # Add point in the list\n",
    "    topPoints.append(point)\n",
    "    print(f\" - ID: {point.getID()}, x: {point.getX()}, y: {point.getY()}, z: {point.getZ()}\")\n",
    "\n",
    "# 5. Select top points\n",
    "lusas.selection().remove(\"all\")\n",
    "if len(topPoints) > 0:\n",
    "    lusas.selection().add(topPoints)\n"
   ]
  }
 ],
 "metadata": {
  "kernelspec": {
   "display_name": "Python 3",
   "language": "python",
   "name": "python3"
  },
  "language_info": {
   "codemirror_mode": {
    "name": "ipython",
    "version": 3
   },
   "file_extension": ".py",
   "mimetype": "text/x-python",
   "name": "python",
   "nbconvert_exporter": "python",
   "pygments_lexer": "ipython3",
   "version": "3.13.2"
  }
 },
 "nbformat": 4,
 "nbformat_minor": 2
}
