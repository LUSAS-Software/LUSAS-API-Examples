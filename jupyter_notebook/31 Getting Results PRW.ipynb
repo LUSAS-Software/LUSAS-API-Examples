{
 "cells": [
  {
   "cell_type": "markdown",
   "metadata": {},
   "source": [
    "# #31 Results (Print Results Wizard)\n",
    "<i>Guide on how access results using Print Results Wizard (PRW)</i>\n",
    "***"
   ]
  },
  {
   "cell_type": "markdown",
   "metadata": {},
   "source": [
    "Connect to LUSAS Modeller and check if a model is open"
   ]
  },
  {
   "cell_type": "code",
   "execution_count": null,
   "metadata": {},
   "outputs": [],
   "source": [
    "from shared.LPI import *\n",
    "lusas = get_lusas_modeller()\n",
    "if not lusas.existsDatabase():\n",
    "    raise Exception(\"A model must be open before running this code\")\n",
    "\n",
    "database = lusas.database() # get a reference to the current model database for convenience"
   ]
  },
  {
   "cell_type": "markdown",
   "metadata": {},
   "source": [
    "Create a print results wizard for thick shell element results"
   ]
  },
  {
   "cell_type": "code",
   "execution_count": null,
   "metadata": {},
   "outputs": [],
   "source": [
    "# Shell Results\n",
    "attr = database.createPrintResultsWizard(\"Shell Results With Global Transform\")\n",
    "\n",
    "attr.setResultsType(\"Components\")\n",
    "attr.setResultsOrder(\"Mesh\")\n",
    "attr.setResultsContent(\"Tabular\")\n",
    "attr.setResultsEntity(\"Force/Moment - Thick Shell\")\n",
    "attr.setExtent(\"Elements showing results\", \"\")\n",
    "attr.setResultsLocation(\"ElementNodal\")\n",
    "attr.setLoadcasesOption(\"Active\") # Active loadset only\n",
    "\n",
    "# Specify the components to display\n",
    "components = [\"Nx\",\"Ny\",\"Nxy\",\"Mx\",\"My\",\"Mxy\",\"Sx\",\"Sy\"]\n",
    "attr.setComponents(components)\n",
    "\n",
    "attr.setResultsTransformGlobal()\n",
    "attr.showCoordinates(True)\n",
    "attr.showExtremeResults(False)\n",
    "attr.setSlice(False)\n",
    "attr.setAllowDerived(False)\n",
    "attr.setDisplayNow(False)\n",
    "attr.setDecimalPlaces(3)\n",
    "attr.setThreshold(1e-6) # Show small numbers as zero"
   ]
  },
  {
   "cell_type": "markdown",
   "metadata": {},
   "source": [
    "Export the results defined by the Print Results Wizard to a specified file format"
   ]
  },
  {
   "cell_type": "code",
   "execution_count": null,
   "metadata": {},
   "outputs": [],
   "source": [
    "# First display the table of results\n",
    "table = attr.showResults()\n",
    "print(f\"Saving file at model directory: {lusas.getCWD()}\")\n",
    "# Extract in excel format (takes a couple of minutes)\n",
    "#table.saveAs(f\"{lusas.getCWD()}\\\\{attr.getName()}_results.xls\", \"Microsoft Excel\")\n",
    "# Extract as txt\n",
    "table.saveAs(f\"{lusas.getCWD()}\\\\{attr.getName()}_results.txt\", \"Text\")\n",
    "table.close()"
   ]
  },
  {
   "cell_type": "markdown",
   "metadata": {},
   "source": [
    "And similar for beam elements"
   ]
  },
  {
   "cell_type": "code",
   "execution_count": null,
   "metadata": {},
   "outputs": [],
   "source": [
    "# Beam Results\n",
    "attr = database.createPrintResultsWizard(\"Beam Results\")\n",
    "\n",
    "attr.setResultsType(\"Components\")\n",
    "attr.setResultsOrder(\"Mesh\")\n",
    "attr.setResultsContent(\"Tabular\")\n",
    "attr.setResultsEntity(\"Force/Moment - Thick 3D Beam\")\n",
    "attr.setExtent(\"Full Model\", \"\")\n",
    "attr.setResultsLocation(\"ElementNodal\")\n",
    "attr.setLoadcasesOption(\"Active\") # Active loadset only\n",
    "\n",
    "# Specify the components to display\n",
    "components = [\"Fx\",\"Fy\",\"Fz\",\"Mx\",\"My\",\"Mz\"]\n",
    "attr.setComponents(components)\n",
    "\n",
    "attr.showCoordinates(True)\n",
    "attr.showExtremeResults(False)\n",
    "attr.setSlice(False)\n",
    "attr.setAllowDerived(False)\n",
    "attr.setDisplayNow(False)\n",
    "attr.setDecimalPlaces(3)\n",
    "attr.setThreshold(1e-6) # Show small numbers as zero"
   ]
  },
  {
   "cell_type": "code",
   "execution_count": null,
   "metadata": {},
   "outputs": [],
   "source": [
    "# First display the table of results\n",
    "table = attr.showResults()\n",
    "print(f\"Saving file at model directory: {lusas.getCWD()}\")\n",
    "# Extract in excel format (takes a couple of minutes)\n",
    "#table.saveAs(f\"{lusas.getCWD()}\\\\{attr.getName()}_results.xls\", \"Microsoft Excel\")\n",
    "# Extract as txt\n",
    "table.saveAs(f\"{lusas.getCWD()}\\\\{attr.getName()}_results.txt\", \"Text\")\n",
    "table.close()"
   ]
  }
 ],
 "metadata": {
  "kernelspec": {
   "display_name": "Python 3",
   "language": "python",
   "name": "python3"
  },
  "language_info": {
   "codemirror_mode": {
    "name": "ipython",
    "version": 3
   },
   "file_extension": ".py",
   "mimetype": "text/x-python",
   "name": "python",
   "nbconvert_exporter": "python",
   "pygments_lexer": "ipython3",
   "version": "3.13.2"
  }
 },
 "nbformat": 4,
 "nbformat_minor": 2
}
