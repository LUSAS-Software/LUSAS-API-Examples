{
 "cells": [
  {
   "cell_type": "markdown",
   "metadata": {},
   "source": [
    "# #31 Results (Print Results Wizard)\n",
    "<i>Guide on how access results using Print Results Wizard (PRW)</i>\n",
    "***"
   ]
  },
  {
   "cell_type": "markdown",
   "metadata": {},
   "source": [
    "Connect to LUSAS Modeller and check if a model is open"
   ]
  },
  {
   "cell_type": "code",
   "execution_count": null,
   "metadata": {},
   "outputs": [],
   "source": [
    "from shared.LPI_21_1 import *\n",
    "lusas = get_lusas_modeller()\n",
    "if not lusas.existsDatabase():\n",
    "    raise Exception(\"A model must be open before running this code\")\n",
    "\n",
    "database = lusas.database() # get a reference to the current model database for convenience"
   ]
  },
  {
   "cell_type": "markdown",
   "metadata": {},
   "source": [
    "Create a print results wizard for thick shell element results"
   ]
  },
  {
   "cell_type": "code",
   "execution_count": null,
   "metadata": {},
   "outputs": [],
   "source": [
    "# Shell Results\n",
    "prw_name = \"Shell Results With Global Transform\"\n",
    "attr = database.createPrintResultsWizard(prw_name)\n",
    "\n",
    "attr.setResultsType(\"Components\")\n",
    "attr.setResultsOrder(\"Mesh\")\n",
    "attr.setResultsContent(\"Tabular\")\n",
    "attr.setResultsEntity(\"Force/Moment - Thick Shell\")\n",
    "attr.setExtent(\"Elements showing results\", \"\")\n",
    "attr.setResultsLocation(\"ElementNodal\")\n",
    "attr.setLoadcasesOption(\"Active\") # Active loadset only\n",
    "\n",
    "components = [\"Nx\",\"Ny\",\"Nxy\",\"Mx\",\"My\",\"Mxy\",\"Sx\",\"Sy\"]\n",
    "attr.setComponents(components)\n",
    "\n",
    "attr.setResultsTransformGlobal()\n",
    "attr.showCoordinates(True)\n",
    "attr.showExtremeResults(False)\n",
    "attr.setSlice(False)\n",
    "attr.setAllowDerived(False)\n",
    "attr.setDisplayNow(False)\n",
    "attr.setDecimalPlaces(3)\n",
    "attr.setThreshold(1e-6)\n",
    "\n",
    "attr = None"
   ]
  },
  {
   "cell_type": "markdown",
   "metadata": {},
   "source": [
    "Export the results defined by the Print Results Wizard. Note the getAttribute function returns the IFAttribute base class and so we need to cast this to the IFResultsWizard type in order to call the showResults() function"
   ]
  },
  {
   "cell_type": "code",
   "execution_count": null,
   "metadata": {},
   "outputs": [],
   "source": [
    "attr : IFPrintResultsWizard = win32.CastTo(database.getAttribute(\"Print Results Wizard\", prw_name), \"IFPrintResultsWizard\")\n",
    "\n",
    "# First display the table of results\n",
    "table = attr.showResults()\n",
    "print(f\"Saving file at model directory: {lusas.getCWD()}\")\n",
    "# Extract in excel format (takes a couple of minutes)\n",
    "#table.saveAs(f\"{lusas.getCWD()}\\\\{prw_name}_results.xls\", \"Microsoft Excel\")\n",
    "# Extract as txt\n",
    "table.saveAs(f\"{lusas.getCWD()}\\\\{prw_name}_results.txt\", \"Text\")\n",
    "table.close()"
   ]
  }
 ],
 "metadata": {
  "kernelspec": {
   "display_name": "Python 3",
   "language": "python",
   "name": "python3"
  },
  "language_info": {
   "codemirror_mode": {
    "name": "ipython",
    "version": 3
   },
   "file_extension": ".py",
   "mimetype": "text/x-python",
   "name": "python",
   "nbconvert_exporter": "python",
   "pygments_lexer": "ipython3",
   "version": "3.13.2"
  }
 },
 "nbformat": 4,
 "nbformat_minor": 2
}
