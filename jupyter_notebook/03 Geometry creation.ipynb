{
 "cells": [
  {
   "cell_type": "markdown",
   "metadata": {},
   "source": [
    "# #03 Geometry Creation\n",
    "<i>Guide on how to create features (points, lines, surfaces and volumes)</i>\n",
    "***"
   ]
  },
  {
   "cell_type": "markdown",
   "metadata": {},
   "source": [
    "Connect to LUSAS and check if a model is open"
   ]
  },
  {
   "cell_type": "code",
   "execution_count": null,
   "metadata": {},
   "outputs": [],
   "source": [
    "from shared.LPI import *\n",
    "lusas = get_lusas_modeller()\n",
    "\n",
    "if not lusas.existsDatabase():\n",
    "    raise Exception(\"A model must be open before running this code\")"
   ]
  },
  {
   "cell_type": "markdown",
   "metadata": {},
   "source": [
    "## 1. Creating Points"
   ]
  },
  {
   "cell_type": "code",
   "execution_count": null,
   "metadata": {},
   "outputs": [],
   "source": [
    "# The options and settings for creating all geometry in LUSAS is defined in the IFGeometryData object.\n",
    "# To start any geometry creation, get the geometryData object and set all the defaults\n",
    "geometry_data = lusas.geometryData().setAllDefaults()\n",
    "# Here we are creating points by specifying the coordinates, we set the option in setLowerOrderGeometryType\n",
    "geometry_data.setLowerOrderGeometryType(\"coordinates\")\n",
    "\n",
    "# Now we add the coordinates\n",
    "geometry_data.addCoords(1.0, 1.0, 0.0)\n",
    "geometry_data.addCoords(2.0, 2.0, 0.0)\n",
    "\n",
    "# Now we instruct the database to the create the line. It will return an IFObject set containing the newly created points\n",
    "object_set:'IFObjectSet' = lusas.database().createPoint(geometry_data)\n",
    "# Get all points from the returned object set\n",
    "points:list[IFPoint] = object_set.getObjects(\"Point\")\n",
    "\n",
    "# Loop through the points and print their ids and coordinates\n",
    "for point in points:\n",
    "    print(f\"Point:{point.getID()} at coordinates ({point.getX()},{point.getY()},{point.getZ()}) \")"
   ]
  },
  {
   "cell_type": "markdown",
   "metadata": {},
   "source": [
    "It is often useful to create a small helper function to wrap these settings as follows:"
   ]
  },
  {
   "cell_type": "code",
   "execution_count": null,
   "metadata": {},
   "outputs": [],
   "source": [
    "def create_point(x:float, y:float, z:float) -> 'IFPoint':\n",
    "    geometry_data = lusas.geometryData().setAllDefaults()\n",
    "    geometry_data.setLowerOrderGeometryType(\"coordinates\")\n",
    "    geometry_data.addCoords(x, y, z)\n",
    "    # Return the point object from the object set containing the newly created objects\n",
    "    return win32.CastTo(lusas.database().createPoint(geometry_data).getObject(\"Point\"), \"IFPoint\")\n",
    "\n",
    "# Call the function to create a points\n",
    "point1 = create_point(2.0, 1.0, 0.0)\n",
    "point2 = create_point(3.0, 2.0, 0.0)"
   ]
  },
  {
   "cell_type": "markdown",
   "metadata": {},
   "source": [
    "## 2. Creating Lines"
   ]
  },
  {
   "cell_type": "markdown",
   "metadata": {},
   "source": [
    "### 2.1 Straight line By Coordinates"
   ]
  },
  {
   "cell_type": "code",
   "execution_count": null,
   "metadata": {},
   "outputs": [],
   "source": [
    "# The options and settings for creating all geometry in LUSAS is defined in the IFGeometryData object.\n",
    "# To start any geometry creation, get the geometryData object and set all the defaults\n",
    "geometry_data = lusas.geometryData().setAllDefaults()\n",
    "# Here we are creating a line by specifying the coordinates, we set the option in setLowerOrderGeometryType\n",
    "geometry_data.setLowerOrderGeometryType(\"coordinates\")\n",
    "# We want a straight line\n",
    "geometry_data.setCreateMethod(\"straight\")\n",
    "# Now we add the start and end coordinates\n",
    "geometry_data.addCoords(0.0, 3.0, 0.0)\n",
    "geometry_data.addCoords(3.0, 3.0, 0.0)\n",
    "# Now we instruct the database to the create the line. It will return an IFObject set containing the newly created line\n",
    "object_set:'IFObjectSet' = lusas.database().createLine(geometry_data)\n",
    "# Get all points from the returned object set\n",
    "lines:list[IFLine] = object_set.getObjects(\"Line\")\n",
    "# Loop through the lines and print their ids and coordinates\n",
    "for line in lines:\n",
    "    p1 = line.getStartPoint()\n",
    "    p2 = line.getEndPoint()\n",
    "    print(f\"Line:{line.getID()} between points ({p1.getX()},{p1.getY()},{p1.getZ()}) to ({p2.getX()},{p2.getY()},{p2.getZ()}) \")"
   ]
  },
  {
   "cell_type": "markdown",
   "metadata": {},
   "source": [
    "Create a helper function that can be re-used later"
   ]
  },
  {
   "cell_type": "code",
   "execution_count": null,
   "metadata": {},
   "outputs": [],
   "source": [
    "def create_line_by_coordinates(x1:float, y1:float, z1:float, x2:float, y2:float, z2:float,) -> 'IFLine':\n",
    "    geometry_data = lusas.geometryData().setAllDefaults()\n",
    "    geometry_data.setLowerOrderGeometryType(\"coordinates\")\n",
    "    geometry_data.setCreateMethod(\"straight\")\n",
    "    geometry_data.addCoords(x1, y1, z1)\n",
    "    geometry_data.addCoords(x2, y2, z2)\n",
    "    newLine:IFLine = lusas.database().createLine(geometry_data).getObjects(\"Line\")[0]\n",
    "    return newLine"
   ]
  },
  {
   "cell_type": "markdown",
   "metadata": {},
   "source": [
    "### 2.2 Arc line by cooordinates"
   ]
  },
  {
   "cell_type": "code",
   "execution_count": null,
   "metadata": {},
   "outputs": [],
   "source": [
    "# The options and settings for creating all geometry in LUSAS is defined in the IFGeometryData object.\n",
    "# To start any geometry creation, get the geometryData object and set all the defaults\n",
    "geometry_data = lusas.geometryData().setAllDefaults()\n",
    "# Here we are creating a line by specifying the coordinates, we set the option in setLowerOrderGeometryType\n",
    "geometry_data.setLowerOrderGeometryType(\"coordinates\")\n",
    "# We want an arc\n",
    "geometry_data.setCreateMethod(\"arc\")\n",
    "# Specify how we are supplying the coordinates, i.e Start->Middle->End\n",
    "geometry_data.setStartMiddleEnd()\n",
    "# Now we add the start middle end coordinates\n",
    "geometry_data.addCoords(0.0, 4.0, 0.0)\n",
    "geometry_data.addCoords(2, 5.0, 0.0)\n",
    "geometry_data.addCoords(4.0, 4.0, 0.0)\n",
    "\n",
    "# Now we instruct the database to the create the line. It will return an IFObject set containing the newly created line\n",
    "object_set:'IFObjectSet' = lusas.database().createLine(geometry_data)\n",
    "# Get all points from the returned object set\n",
    "lines:list[IFLine] = object_set.getObjects(\"Line\")\n",
    "# Loop through the lines and print their ids and coordinates\n",
    "for line in lines:\n",
    "    p1 = line.getStartPoint()\n",
    "    p2 = line.getEndPoint()\n",
    "    print(f\"Line:{line.getID()}, length:{line.getLineLength()} between points ({p1.getX()},{p1.getY()},{p1.getZ()}) to ({p2.getX()},{p2.getY()},{p2.getZ()}) \")"
   ]
  },
  {
   "cell_type": "markdown",
   "metadata": {},
   "source": [
    "### 2.3 Circle"
   ]
  },
  {
   "cell_type": "code",
   "execution_count": null,
   "metadata": {},
   "outputs": [],
   "source": [
    "radius = 6\n",
    "z = 3.5\n",
    "# The options and settings for creating all geometry in LUSAS is defined in the IFGeometryData object.\n",
    "# To start any geometry creation, get the geometryData object and set all the defaults\n",
    "geometry_data = lusas.geometryData().setAllDefaults()\n",
    "# Specify the line by coordinate input\n",
    "geometry_data.setLowerOrderGeometryType(\"coordinates\")\n",
    "# Specify defining a circle\n",
    "geometry_data.makeCircle()\n",
    "# Specify the meaning of the following coordinates \n",
    "geometry_data.setStartEndCentre()\n",
    "# Start point at X=radius\n",
    "geometry_data.addCoords(radius, 0.0, z)\n",
    "# Specify the plane (X/Y)\n",
    "geometry_data.addCoords(0.0, 1.0, z)\n",
    "# Centre of the circle at the origin\n",
    "geometry_data.addCoords(0.0, 0.0, z)\n",
    "# Create the line in the database with the settings specified.\n",
    "object_set:'IFObjectSet' = lusas.database().createLine(geometry_data)\n"
   ]
  },
  {
   "cell_type": "markdown",
   "metadata": {},
   "source": [
    "### 2.4 Line from points"
   ]
  },
  {
   "cell_type": "markdown",
   "metadata": {},
   "source": [
    "Existing points can also be used to create lines. This can be done adding the start and end points in an IFObjectSet. You can do so either by using each IFPoint object or by using each point's id:"
   ]
  },
  {
   "cell_type": "code",
   "execution_count": null,
   "metadata": {},
   "outputs": [],
   "source": [
    "# Get id of second point\n",
    "point2_id = point2.getID()\n",
    "print(f\"Point2 ID is {point2_id}\")\n",
    "\n",
    "# geometryData object contains all the settings to perform a geometry creation\n",
    "geometry_data = lusas.geometryData().setAllDefaults()        \n",
    "# set the options for creating straight lines from points\n",
    "geometry_data.setCreateMethod(\"straight\")\n",
    "geometry_data.setLowerOrderGeometryType(\"points\")\n",
    "# Create an object set to contain the points and use this set to create the line\n",
    "obs = lusas.newObjectSet()\n",
    "\n",
    "# Add existing points to the object set\n",
    "obs.add(point1) # Add first point IFPoint object\n",
    "obs.add(\"point\", point2_id) # Add second point using the ID\n",
    "\n",
    "# Create the line, get the line objects array from the returned object set and return the 1 and only line\n",
    "new_line:IFLine = obs.createLine(geometry_data).getObjects(\"Line\")"
   ]
  },
  {
   "cell_type": "markdown",
   "metadata": {},
   "source": [
    "Create a helper function that can be re-used later"
   ]
  },
  {
   "cell_type": "code",
   "execution_count": null,
   "metadata": {},
   "outputs": [],
   "source": [
    "def create_line_from_points(p1:'IFPoint', p2:'IFPoint') -> 'IFLine':\n",
    "     # geometryData object contains all the settings to perform a geometry creation\n",
    "     geometry_data = lusas.geometryData().setAllDefaults()         \n",
    "     # set the options for creating straight lines from points\n",
    "     geometry_data.setCreateMethod(\"straight\")        \n",
    "     geometry_data.setLowerOrderGeometryType(\"points\")\n",
    "     # Create an object set to contain the points and use this set to create the line\n",
    "     obs = lusas.newObjectSet()                 \n",
    "     obs.add(p1)\n",
    "     obs.add(p2)\n",
    "     # Create the line, get the line objects array from the returned object set and return the 1 and only line\n",
    "     return win32.CastTo(obs.createLine(geometry_data).getObject(\"Line\"), \"IFLine\")"
   ]
  },
  {
   "cell_type": "markdown",
   "metadata": {},
   "source": [
    "### 2.5 Line from Point translational sweep"
   ]
  },
  {
   "cell_type": "code",
   "execution_count": null,
   "metadata": {},
   "outputs": [],
   "source": [
    "# Create a point\n",
    "point1 = create_point(2.0, 1.0, 10.0)\n",
    "point2 = create_point(3.0, 2.0, 10.0)\n",
    "\n",
    "vector = [1, 0, 0] # sweep vector x, y, z\n",
    "\n",
    "\n",
    "# Create a translation attribute\n",
    "attr = lusas.db().createTranslationTransAttr(\"Temp_SweepTranslation\", vector)\n",
    "attr.setSweepType(\"straight\")\n",
    "attr.setHofType(\"Line\") # Set target geometry\n",
    "\n",
    "geom_data = lusas.newGeometryData()\n",
    "geom_data.setMaximumDimension(1) # Target geometries (0: Points, 1: Lines, 2: Surfaces)\n",
    "geom_data.setTransformation(attr)\n",
    "geom_data.sweptArcType(\"straight\")\n",
    "\n",
    "# Create an object set to contain the points and be swept\n",
    "obs = lusas.newObjectSet()                 \n",
    "obs.add(point1)\n",
    "obs.add(point2)\n",
    "\n",
    "# Perform the sweep, the returned object set will contain the created lines\n",
    "objSet = obs.sweep(geom_data)\n",
    "\n",
    "# Delete the translation attribute\n",
    "lusas.db().deleteAttribute(attr)\n",
    "\n",
    "# Print new line IDs\n",
    "newLines : list[IFLine] = objSet.getObjects(\"Lines\")\n",
    "for line in newLines:\n",
    "    print(f\"Line {line.getID()} created from sweep.\")"
   ]
  },
  {
   "cell_type": "markdown",
   "metadata": {},
   "source": [
    "The `Helpers.py` library contains functions for easier geometric sweeps.<br>For example the above block can be simplified to:\n",
    "`sweep_points([point1, point2], [1, 0, 0])`<br>Similarly, for rotational sweep, the `sweep_points_rotationally([point1, point2], degrees)` function can be used."
   ]
  },
  {
   "cell_type": "markdown",
   "metadata": {},
   "source": [
    "### 2.6 Multiple Lines example"
   ]
  },
  {
   "cell_type": "markdown",
   "metadata": {},
   "source": [
    "Create a circle of points and connect them with straight lines"
   ]
  },
  {
   "cell_type": "code",
   "execution_count": null,
   "metadata": {},
   "outputs": [],
   "source": [
    "import math\n",
    "\n",
    "radius = 10\n",
    "intersections = 10 # Number of straight segments to approximate circle\n",
    "z = 2\n",
    "\n",
    "# Loop and create points\n",
    "points = []\n",
    "for i in range(0, intersections):\n",
    "    theta = i * math.radians(360/intersections)\n",
    "    x = radius * math.cos(theta)\n",
    "    y = radius * math.sin(theta)\n",
    "    point = create_point(x, y, z)\n",
    "    # Store points in the list\n",
    "    points.append(point)\n",
    "\n",
    "# Create lines between each of the created points\n",
    "for i in range(0, len(points)-1):\n",
    "    create_line_from_points(points[i], points[i+1])\n",
    "create_line_from_points(points[-1], points[0])\n",
    "\n",
    "print(f\"Created {len(points)} points and lines\")"
   ]
  },
  {
   "attachments": {
    "image.png": {
     "image/png": "[encoded data removed]"
    }
   },
   "cell_type": "markdown",
   "metadata": {},
   "source": [
    "The previous block of code can be expanded to create a circular truss:<br><br>\n",
    "![image.png](attachment:image.png)"
   ]
  },
  {
   "cell_type": "code",
   "execution_count": null,
   "metadata": {},
   "outputs": [],
   "source": [
    "import math\n",
    "\n",
    "radius = 12\n",
    "intersections = 10  # Number of straight segments to approximate circle\n",
    "height = 10\n",
    "\n",
    "start_angle = 0.0\n",
    "\n",
    "points = []\n",
    "for i in range(0, intersections):\n",
    "    theta = i * math.radians(360/intersections)\n",
    "    x = radius * math.cos(theta + start_angle)\n",
    "    y = radius * math.sin(theta + start_angle)\n",
    "    point = create_point(x, y, 0.0)\n",
    "    points.append(point)\n",
    "\n",
    "for i in range(0, len(points)-1):\n",
    "    create_line_from_points(points[i], points[i+1])\n",
    "create_line_from_points(points[-1], points[0])\n",
    "\n",
    "start_angle = math.radians(360/intersections)/2\n",
    "points2 = []\n",
    "for i in range(0, intersections):\n",
    "    theta = i * math.radians(360/intersections)\n",
    "    x = radius * math.cos(theta + start_angle)\n",
    "    y = radius * math.sin(theta + start_angle)\n",
    "    point = create_point(x, y, height)\n",
    "    points2.append(point)\n",
    "\n",
    "for i in range(0, len(points2)-1):\n",
    "    create_line_from_points(points2[i], points2[i+1])\n",
    "create_line_from_points(points2[-1], points2[0])\n",
    "\n",
    "\n",
    "for i in range(0, len(points)):\n",
    "    create_line_from_points(points[i], points2[i])\n",
    "\n",
    "for i in range(0, len(points2)-1):\n",
    "    create_line_from_points(points2[i], points[i+1])\n",
    "\n",
    "# Set isometric view (top side view point)\n",
    "lusas.view().setIsometric()"
   ]
  },
  {
   "cell_type": "markdown",
   "metadata": {},
   "source": [
    "## 3 Create Surfaces"
   ]
  },
  {
   "cell_type": "markdown",
   "metadata": {},
   "source": [
    "### 3.1 Create a Surface by coordinates"
   ]
  },
  {
   "cell_type": "code",
   "execution_count": null,
   "metadata": {},
   "outputs": [],
   "source": [
    "# Create a geometryData object to contain all the settings for the geometry creation\n",
    "geometry_data = lusas.newGeometryData()\n",
    "# set the options for creating geometries from coordinates\n",
    "geometry_data.setCreateMethod(\"coons\")\n",
    "geometry_data.setLowerOrderGeometryType(\"coordinates\")\n",
    "\n",
    "# Specify surface coordinates\n",
    "geometry_data.addCoords(0, 0, -5)\n",
    "geometry_data.addCoords(1, 0, -5)\n",
    "geometry_data.addCoords(1, 1, -5)\n",
    "geometry_data.addCoords(0, 1, -5)\n",
    "\n",
    "surface1 : IFSurface = lusas.db().createSurface(geometry_data).getObjects(\"Surface\")[0]"
   ]
  },
  {
   "cell_type": "markdown",
   "metadata": {},
   "source": [
    "Create a helper function that can be re-used later"
   ]
  },
  {
   "cell_type": "code",
   "execution_count": null,
   "metadata": {},
   "outputs": [],
   "source": [
    "def create_surface_by_coordinates(x:list[float], y:list[float], z:list[float]) -> IFSurface:\n",
    "    geometry_data = lusas.newGeometryData()\n",
    "    geometry_data.setCreateMethod(\"coons\")\n",
    "    geometry_data.setLowerOrderGeometryType(\"coordinates\")\n",
    "    for i in range(len(x)):\n",
    "        geometry_data.addCoords(x[i], y[i], z[i])\n",
    "    surf : IFSurface = lusas.db().createSurface(geometry_data).getObjects(\"Surface\")[0]\n",
    "    return surf\n",
    "\n",
    "# Create a surface using the function\n",
    "xs = [0, 1, 1, 0]\n",
    "ys = [0, 0, 1, 1]\n",
    "zs = [-4, -4, -4, -4]\n",
    "surface2 = create_surface_by_coordinates(xs, ys, zs)"
   ]
  },
  {
   "cell_type": "markdown",
   "metadata": {},
   "source": [
    "### 3.2 Create a Surface by Lines"
   ]
  },
  {
   "cell_type": "code",
   "execution_count": null,
   "metadata": {},
   "outputs": [],
   "source": [
    "# Create the perimeter lines\n",
    "lines = [\n",
    "    create_line_by_coordinates(0, 0, -1, 1, 0, -1),\n",
    "    create_line_by_coordinates(1, 0, -1, 1, 1, -1),\n",
    "    create_line_by_coordinates(1, 1, -1, 0, 1, -1),\n",
    "    create_line_by_coordinates(0, 1, -1, 0, 0, -1),\n",
    "]\n",
    "\n",
    "# Create a geometryData object to contain all the settings for the geometry creation\n",
    "geometry_data = lusas.geometryData().setAllDefaults()\n",
    "# set the options for creating geometries from lines\n",
    "geometry_data.setCreateMethod(\"coons\")\n",
    "geometry_data.setLowerOrderGeometryType(\"lines\")\n",
    "# Create an object set to contain the lines and use this set to create the surface\n",
    "linesObj = lusas.newObjectSet()\n",
    "linesObj.add(lines)\n",
    "# Create the surface using the lines\n",
    "new_surface : IFSurface = linesObj.createSurface(geometry_data).getObjects(\"Surface\")[0]"
   ]
  },
  {
   "cell_type": "markdown",
   "metadata": {},
   "source": [
    "### 3.4 Surface from Line translational sweep"
   ]
  },
  {
   "cell_type": "code",
   "execution_count": null,
   "metadata": {},
   "outputs": [],
   "source": [
    "# Create a line\n",
    "line = create_line_by_coordinates(0, 0, 5, 1, 0, 5)\n",
    "\n",
    "vector = [0, 0, 1] # sweep vector x, y, z\n",
    "\n",
    "# Create a translation attribute\n",
    "attr = lusas.db().createTranslationTransAttr(\"Temp_SweepTranslation\", vector)\n",
    "attr.setSweepType(\"straight\")\n",
    "attr.setHofType(\"Surface\") # Set target geometry\n",
    "\n",
    "geom_data = lusas.newGeometryData()\n",
    "geom_data.setMaximumDimension(2) # Target geometries (0: Points, 1: Lines, 2: Surfaces)\n",
    "geom_data.setTransformation(attr)\n",
    "geom_data.sweptArcType(\"straight\")\n",
    "\n",
    "# Create an object set to contain the points and be swept\n",
    "obs = lusas.newObjectSet().add(line)\n",
    "\n",
    "# Perform the sweep, the returned object set will contain the created surfaces\n",
    "objSet = obs.sweep(geom_data)\n",
    "\n",
    "# Delete the translation attribute\n",
    "lusas.db().deleteAttribute(attr)\n",
    "\n",
    "# Print new line IDs\n",
    "newSurfaces : list[IFSurface] = objSet.getObjects(\"Surface\")\n",
    "for surface in newSurfaces:\n",
    "    print(f\"Surface {surface.getID()} created from sweep.\")"
   ]
  },
  {
   "cell_type": "markdown",
   "metadata": {},
   "source": [
    "The `Helpers.py` library contains functions for easier geometric sweeps.<br>For example the above block can be simplified to:\n",
    "`sweep_lines([line], [0, 0, 1])`<br>Similarly, for rotational sweep, the `sweep_lines_rotationally([line], degrees)` function can be used."
   ]
  },
  {
   "cell_type": "markdown",
   "metadata": {},
   "source": [
    "## 4 Create Volumes"
   ]
  },
  {
   "cell_type": "markdown",
   "metadata": {},
   "source": [
    "### 4.1 Create a Volumes from Surfaces"
   ]
  },
  {
   "cell_type": "code",
   "execution_count": null,
   "metadata": {},
   "outputs": [],
   "source": [
    "# Create a list of surfaces to be used in the volume creation\n",
    "surfaces = [\n",
    "    create_surface_by_coordinates([0,1,1,0], [0,0,1,1], [0,0,0,0]), #Bottom Surface (z=0)\n",
    "    create_surface_by_coordinates([0,1,1,0], [0,0,1,1], [1,1,1,1]), #Top Surface (z=1)\n",
    "    create_surface_by_coordinates([0,1,1,0], [0,0,0,0], [0,0,1,1]), #Front Surface (y=0)\n",
    "    create_surface_by_coordinates([0,1,1,0], [1,1,1,1], [0,0,1,1]), #Back Surface (y=1)\n",
    "    create_surface_by_coordinates([0,0,0,0], [0,1,1,0], [0,0,1,1]), #Left Surface (x=0)\n",
    "    create_surface_by_coordinates([1,1,1,1], [0,1,1,0], [0,0,1,1]), #Right Surface (x=1)\n",
    "]\n",
    "\n",
    "# Create a geometryData object to contain all the settings for the geometry creation\n",
    "geom_data = lusas.newGeometryData()\n",
    "# set the options for creating geometries from surfaces\n",
    "geom_data.setCreateMethod(\"solidVolume\")\n",
    "geom_data.setExtractAllVolumes()\n",
    "# create an object set to contain the surfaces and use this set to create the volume\n",
    "surfsObj = lusas.newObjectSet()\n",
    "surfsObj.add(surfaces)\n",
    "# Create the volume using the surfaces\n",
    "vlm : IFVolume = lusas.db().createVolume(geom_data).getObjects(\"Volume\")[0]"
   ]
  },
  {
   "cell_type": "markdown",
   "metadata": {},
   "source": [
    "### 4.2 Volume from Surface translational sweep"
   ]
  },
  {
   "cell_type": "code",
   "execution_count": null,
   "metadata": {},
   "outputs": [],
   "source": [
    "# Create a surface\n",
    "surface = create_surface_by_coordinates([0,1,1,0], [0,0,1,1], [4,4,4,4])\n",
    "\n",
    "vector = [0, 0, 1] # sweep vector x, y, z\n",
    "\n",
    "\n",
    "# Create a translation attribute\n",
    "attr = lusas.db().createTranslationTransAttr(\"Temp_SweepTranslation\", vector)\n",
    "attr.setSweepType(\"straight\")\n",
    "attr.setHofType(\"Volume\") # Set target geometry\n",
    "\n",
    "geom_data = lusas.newGeometryData()\n",
    "geom_data.setMaximumDimension(3) # Target geometries (0: Points, 1: Lines, 2: Surfaces)\n",
    "geom_data.setTransformation(attr)\n",
    "geom_data.sweptArcType(\"straight\")\n",
    "\n",
    "# Create an object set to contain the points and be swept\n",
    "obs = lusas.newObjectSet().add(surface)\n",
    "\n",
    "# Perform the sweep, the returned object set will contain the created surfaces\n",
    "objSet = obs.sweep(geom_data)\n",
    "\n",
    "# Delete the translation attribute\n",
    "lusas.db().deleteAttribute(attr)\n",
    "\n",
    "# Print new line IDs\n",
    "newVolumes : list[IFVolume] = objSet.getObjects(\"Volume\")\n",
    "for volume in newVolumes:\n",
    "    print(f\"Volume {volume.getID()} created from sweep.\")"
   ]
  },
  {
   "cell_type": "markdown",
   "metadata": {},
   "source": [
    "The `Helpers.py` library contains functions for easier geometric sweeps.<br>For example the above block can be simplified to:\n",
    "`sweep_surfaces([surface], [0, 0, 1])`<br>Similarly, for rotational sweep, the `sweep_surfaces_rotationally([surface], degrees)` function can be used."
   ]
  }
 ],
 "metadata": {
  "kernelspec": {
   "display_name": "Python 3",
   "language": "python",
   "name": "python3"
  },
  "language_info": {
   "codemirror_mode": {
    "name": "ipython",
    "version": 3
   },
   "file_extension": ".py",
   "mimetype": "text/x-python",
   "name": "python",
   "nbconvert_exporter": "python",
   "pygments_lexer": "ipython3",
   "version": "3.13.2"
  }
 },
 "nbformat": 4,
 "nbformat_minor": 2
}
