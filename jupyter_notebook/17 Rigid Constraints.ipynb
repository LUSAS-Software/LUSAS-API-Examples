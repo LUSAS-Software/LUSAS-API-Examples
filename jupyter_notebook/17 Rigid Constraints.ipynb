{
 "cells": [
  {
   "cell_type": "markdown",
   "metadata": {},
   "source": [
    "# #17 Rigid Constraints (links)\n",
    "<i>Create rigid constraints (links) between deck beams and pier legs</i>\n",
    "***"
   ]
  },
  {
   "cell_type": "code",
   "execution_count": null,
   "metadata": {},
   "outputs": [],
   "source": [
    "# Input Params\n",
    "spans_lengths = [5, 10, 5] #m\n",
    "pier_height   = 4 #m\n",
    "deck_offset = 0.5\n",
    "loading = 10.0  #kN/m   Uniformly distributed load"
   ]
  },
  {
   "cell_type": "markdown",
   "metadata": {},
   "source": [
    "#### Connect to LUSAS Modeller"
   ]
  },
  {
   "cell_type": "code",
   "execution_count": null,
   "metadata": {},
   "outputs": [],
   "source": [
    "from shared.LPI import *\n",
    "lusas = get_lusas_modeller()\n",
    "if lusas.existsDatabase():\n",
    "    raise Exception(\"This script will create a new model. Please save and close the current model and try again\")\n"
   ]
  },
  {
   "cell_type": "markdown",
   "metadata": {},
   "source": [
    "#### Create a new model"
   ]
  },
  {
   "cell_type": "code",
   "execution_count": null,
   "metadata": {},
   "outputs": [],
   "source": [
    "# Create a new model\n",
    "lusas.newProject(\"Structural\", \"Rigid Constraints.mdl\")\n",
    "# Get a reference to the model database\n",
    "db = lusas.getDatabase()\n",
    "# Set the vertical axis\n",
    "db.setVerticalDir(\"Z\")\n",
    "# Set the unit system\n",
    "db.setModelUnits(\"kN,m,t,s,C\")\n",
    "\n",
    "# Set view to isometric (top side view)\n",
    "lusas.view().setIsometric()"
   ]
  },
  {
   "cell_type": "markdown",
   "metadata": {},
   "source": [
    "#### Create Model Geometry"
   ]
  },
  {
   "cell_type": "code",
   "execution_count": null,
   "metadata": {},
   "outputs": [],
   "source": [
    "''' Create deck lines'''\n",
    "deck_lines : list[IFLine] = []\n",
    "\n",
    "cur_x = 0\n",
    "for length in spans_lengths:\n",
    "    # Get the geometry data object\n",
    "    geomData = lusas.geometryData().setAllDefaults()\n",
    "    # set the options for creating points from coordinates\n",
    "    geomData.setLowerOrderGeometryType(\"coordinates\")\n",
    "    # Set the coordinates of the first point\n",
    "    geomData.addCoords(cur_x, 0, 0)\n",
    "    # Set the coordinates of the second point\n",
    "    geomData.addCoords(cur_x + length, 0, 0)\n",
    "    # Create the line object from the geometry data\n",
    "    objs = db.createLine(geomData) # Modeller returns an object set containing all the lines created, in this case we only have 1.\n",
    "    # Get the line\n",
    "    deck_lines.append(objs.getObject(\"Lines\"))\n",
    "    # Increment the current x position\n",
    "    cur_x += length\n",
    "\n",
    "print(f\"Created {len(deck_lines)} deck lines\")"
   ]
  },
  {
   "cell_type": "code",
   "execution_count": null,
   "metadata": {},
   "outputs": [],
   "source": [
    "''' Create pier lines'''\n",
    "pier_lines : list[IFLine] = []\n",
    "\n",
    "cur_x = 0\n",
    "for i in range(0, len(spans_lengths)-1):\n",
    "    cur_x += spans_lengths[i]\n",
    "    # Get the geometry data object with defaults\n",
    "    geomData = lusas.geometryData().setAllDefaults()\n",
    "    # set the options for creating points from coordinates\n",
    "    geomData.setLowerOrderGeometryType(\"coordinates\")\n",
    "    # Set the coordinates of the first point\n",
    "    geomData.addCoords(cur_x, 0, -deck_offset)\n",
    "    # Set the coordinates of the second point\n",
    "    geomData.addCoords(cur_x, 0, -deck_offset-pier_height)\n",
    "    # Create the line object from the geometry data\n",
    "    objs = db.createLine(geomData) # Modeller returns an object set containing all the lines created, in this case we only have 1.\n",
    "    # Get the line\n",
    "    pier_lines.append(objs.getObject(\"Lines\"))\n",
    "\n",
    "print(f\"Created {len(pier_lines)} deck lines\")"
   ]
  },
  {
   "cell_type": "markdown",
   "metadata": {},
   "source": [
    "#### Create Model Attributes"
   ]
  },
  {
   "cell_type": "code",
   "execution_count": null,
   "metadata": {},
   "outputs": [],
   "source": [
    "''' Create a mesh attribute'''\n",
    "meshAttr = db.createMeshLine(\"Beam Mesh\")\n",
    "# Set the element type and number of elements (3 thick beam elements here)\n",
    "meshAttr.setNumber(\"BMI21\", 3)"
   ]
  },
  {
   "cell_type": "code",
   "execution_count": null,
   "metadata": {},
   "outputs": [],
   "source": [
    "''' Create a geometric attribute'''\n",
    "geomAttr = db.createGeometricLine(\"Beam Geometry\")\n",
    "# Set the beam section properties\n",
    "geomAttr.setBeam(0.0125, 0.0004573, 0.00002347, 0.0, 0.00000121, 0.00532608, 0.00755776, 0.0, 0.0, 0)"
   ]
  },
  {
   "cell_type": "code",
   "execution_count": null,
   "metadata": {},
   "outputs": [],
   "source": [
    "''' Create a material attribute'''\n",
    "materialAttr = db.createIsotropicMaterial(\"Steel\", 209_000_000, 0.3, 7.8, 10e-6)"
   ]
  },
  {
   "cell_type": "code",
   "execution_count": null,
   "metadata": {},
   "outputs": [],
   "source": [
    "''' Create a support attribute '''\n",
    "fixedSupport = db.createSupportStructural(\"Fully Fixed\")\n",
    "# set the freedoms F=Free, R=Restrained\n",
    "fixedSupport.setStructural(\"R\", \"R\", \"R\", \"R\", \"R\", \"R\", \"F\", \"F\", \"F\")\n",
    "\n",
    "''' Create a support attribute '''\n",
    "pinnedSupport = db.createSupportStructural(\"Pinned\")\n",
    "# set the freedoms \n",
    "pinnedSupport.setStructural(\"F\", \"R\", \"R\", \"F\", \"F\", \"F\", \"F\", \"F\", \"F\")"
   ]
  },
  {
   "cell_type": "code",
   "execution_count": null,
   "metadata": {},
   "outputs": [],
   "source": [
    "''' Create a beam load attribute '''\n",
    "loadAttr = db.createLoadingBeamDistributed(\"UDL\")\n",
    "loadAttr.setBeamDistributed(\"Parametric\", \"Global\", \"beam\")\n",
    "loadAttr.addRow(0.0, 0.0, 0.0, -loading, 0.0, 0.0, 0.0, 1.0, 0.0, 0.0, -loading, 0.0, 0.0, 0.0)"
   ]
  },
  {
   "cell_type": "markdown",
   "metadata": {},
   "source": [
    "#### Assign attributes to the model geometry"
   ]
  },
  {
   "cell_type": "code",
   "execution_count": null,
   "metadata": {},
   "outputs": [],
   "source": [
    "''' Assign the attributes to the deck_lines '''\n",
    "# get the assignment object\n",
    "assignment = lusas.assignment().setAllDefaults()\n",
    "\n",
    "# Assign the mesh\n",
    "meshAttr.assignTo(deck_lines, assignment)\n",
    "# Update mesh to ensure the geometric attribute can later be visualised\n",
    "db.updateMesh()\n",
    "\n",
    "# Assign the geometry\n",
    "geomAttr.assignTo(deck_lines, assignment)\n",
    "# Assign the material\n",
    "materialAttr.assignTo(deck_lines, assignment)\n",
    "# Assign the loading\n",
    "loadAttr.assignTo(deck_lines, assignment)"
   ]
  },
  {
   "cell_type": "code",
   "execution_count": null,
   "metadata": {},
   "outputs": [],
   "source": [
    "''' Assign the supports to the points of the line '''\n",
    "# Assign the pinned support to the first point\n",
    "pinnedSupport.assignTo(deck_lines[0].getStartPoint(), assignment)\n",
    "# Assign the pinned support to the last point\n",
    "pinnedSupport.assignTo(deck_lines[-1].getEndPoint(), assignment)"
   ]
  },
  {
   "cell_type": "code",
   "execution_count": null,
   "metadata": {},
   "outputs": [],
   "source": [
    "''' Assign the attributes to the pier_lines '''\n",
    "# get the assignment object\n",
    "assignment = lusas.assignment().setAllDefaults()\n",
    "\n",
    "# Assign the mesh\n",
    "meshAttr.assignTo(pier_lines, assignment)\n",
    "# Update mesh to ensure the geometric attribute can later be visualised\n",
    "db.updateMesh()\n",
    "\n",
    "# Assign the geometry\n",
    "geomAttr.assignTo(pier_lines, assignment)\n",
    "# Assign the material\n",
    "materialAttr.assignTo(pier_lines, assignment)\n",
    "\n",
    "''' Assign the supports to the end point of the lines '''\n",
    "for line in pier_lines:\n",
    "    # Assign the fixed support to the first point\n",
    "    fixedSupport.assignTo(line.getEndPoint(), assignment)"
   ]
  },
  {
   "cell_type": "markdown",
   "metadata": {},
   "source": [
    "#### Create and assign the rigid links"
   ]
  },
  {
   "cell_type": "code",
   "execution_count": null,
   "metadata": {},
   "outputs": [],
   "source": [
    "# Create rigid links between the pier top and the deck points\n",
    "\n",
    "for i in range(0, len(pier_lines)):\n",
    "    # Create a new attribute for each connection\n",
    "    rigid_link_attr = db.createRigidLinkConstraint(f\"Rigid Link Pier {i+1}\")\n",
    "\n",
    "    # Add in an object set\n",
    "    # - the point at the top of the pier and\n",
    "    # - the corresponding deck point\n",
    "    objs = lusas.newObjectSet()\n",
    "    objs.add(pier_lines[i].getStartPoint())\n",
    "    objs.add(deck_lines[i].getEndPoint())\n",
    "\n",
    "    # Get the default assignment object\n",
    "    assignment = lusas.assignment().setAllDefaults()\n",
    "    # Specify the rigid constraints to apply to all loadcases in Analysis 1\n",
    "    assignment.setLoadsetAll(\"Analysis 1\")\n",
    "    assignment.setLcDependentConstraintsOn()\n",
    "\n",
    "    # Assign the rigid links\n",
    "    rigid_link_attr.assignTo(objs)\n"
   ]
  },
  {
   "cell_type": "markdown",
   "metadata": {},
   "source": [
    "<H2>Solving the Analysis</H2>"
   ]
  },
  {
   "cell_type": "markdown",
   "metadata": {},
   "source": [
    "Solve the analysis and open the generated results:"
   ]
  },
  {
   "cell_type": "code",
   "execution_count": null,
   "metadata": {},
   "outputs": [],
   "source": [
    "# Solve analysis 1\n",
    "db.getAnalysis(\"Analysis 1\").solve(True)\n",
    "# Open all results\n",
    "db.openAllResults(False)"
   ]
  },
  {
   "cell_type": "markdown",
   "metadata": {},
   "source": [
    "Set the diagrams to Force/Moments:"
   ]
  },
  {
   "cell_type": "code",
   "execution_count": null,
   "metadata": {},
   "outputs": [],
   "source": [
    "# Ensure the diagrams layer is inserted\n",
    "lusas.view().insertDiagramsLayer()\n",
    "# Make sure the results transform is set to none\n",
    "lusas.view().diagrams().setResultsTransformNone()\n",
    "# Set the diagrams to Force/Moments\n",
    "lusas.view().diagrams().setResults(\"Force/Moment - Thick 3D Beam\", \"My\")\n"
   ]
  }
 ],
 "metadata": {
  "kernelspec": {
   "display_name": "Python 3",
   "language": "python",
   "name": "python3"
  },
  "language_info": {
   "codemirror_mode": {
    "name": "ipython",
    "version": 3
   },
   "file_extension": ".py",
   "mimetype": "text/x-python",
   "name": "python",
   "nbconvert_exporter": "python",
   "pygments_lexer": "ipython3",
   "version": "3.13.5"
  }
 },
 "nbformat": 4,
 "nbformat_minor": 2
}
