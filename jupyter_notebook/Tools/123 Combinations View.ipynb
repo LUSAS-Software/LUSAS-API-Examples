{
 "cells": [
  {
   "cell_type": "markdown",
   "metadata": {},
   "source": [
    "# #123 Combinations view\n",
    "<i>Exports a spreadsheet of all the model basic combinations, smart combinations and envelopes such that they may be easily checked/revieweed</i>\n",
    "***"
   ]
  },
  {
   "cell_type": "code",
   "execution_count": null,
   "metadata": {},
   "outputs": [],
   "source": [
    "import pandas as pd\n",
    "from warnings import simplefilter\n",
    "simplefilter(action=\"ignore\", category=pd.errors.PerformanceWarning)\n",
    "import numpy as np\n",
    "import sys; sys.path.append('../') # Reference modules in parent directory\n",
    "from shared.LPI_21_1 import *\n",
    "lusas = get_lusas_modeller()\n",
    "if not lusas.existsDatabase():\n",
    "    raise Exception(\"A model must be open before running this code\")\n",
    "\n",
    "db = lusas.database() # Reference to the database for convenience\n",
    "\n",
    "# Directory to export to\n",
    "import os\n",
    "export_dir = os.path.expanduser(\"~\\\\Desktop\")\n",
    "file_path = rf\"{export_dir}\\{db.getDBBasename()}-Combination Definitions.xlsx\"\n",
    "writer = pd.ExcelWriter(file_path)\n",
    "\n",
    "# When calling LUSAS externally significant speed up is gained by disabling the UI\n",
    "# The UI must be re-enabled otherwise it will appear locked to the user\n",
    "if lusas.getMajorVersionNumber() >= 22 :lusas.enableUI(False)"
   ]
  },
  {
   "cell_type": "markdown",
   "metadata": {},
   "source": [
    "# Basic Combinations"
   ]
  },
  {
   "cell_type": "code",
   "execution_count": null,
   "metadata": {},
   "outputs": [],
   "source": [
    "# Get all the basic combinations\n",
    "all_basic_combinations = lusas.db().getLoadsets(\"Basic Combinations\")\n",
    "\n",
    "loadset_dict = {}\n",
    "for loadset in db.getLoadsets():\n",
    "    loadset_dict[loadset.getIDAndName()] = np.full(len(all_basic_combinations), np.nan)\n",
    "\n",
    "# Create a list to store all the combination data\n",
    "combs_data = []\n",
    "\n",
    "for ic, combination in enumerate(all_basic_combinations):\n",
    "    # Combination Name\n",
    "    combs_data.append(combination.getIDAndNameAndDescription())    \n",
    "    # Get a list of all the loadsets in the combination\n",
    "    ids = combination.getLoadcaseIDs()\n",
    "    # Get a list of all the corresponding factors\n",
    "    factors = combination.getFactors()\n",
    "    # Append each loadset name followed by the factor used\n",
    "    for i, id in enumerate(ids):\n",
    "        loadset = db.getLoadset(id)\n",
    "        loadset_dict[loadset.getIDAndName()][ic] = factors[i]\n",
    "\n",
    "# Create a list for the column headers\n",
    "column_headers = [\"Combination\"] \n",
    "# Use a pandas dataframe to export to xlsx format\n",
    "df = pd.DataFrame(combs_data, columns= column_headers)\n",
    "\n",
    "for load in loadset_dict.keys():\n",
    "    factors = loadset_dict[load]\n",
    "    if (~np.isnan(factors)).any():\n",
    "        df[load] = factors\n",
    "\n",
    "df.to_excel(writer, sheet_name=\"Basic Combinations\", index=False)\n"
   ]
  },
  {
   "cell_type": "markdown",
   "metadata": {},
   "source": [
    "# Smart Combinations"
   ]
  },
  {
   "cell_type": "code",
   "execution_count": null,
   "metadata": {},
   "outputs": [],
   "source": [
    "# Get all the smart combinations\n",
    "all_smart_combinations = lusas.db().getLoadsets(\"Smart Combinations\")\n",
    "\n",
    "loadset_dict = {}\n",
    "for loadset in db.getLoadsets():\n",
    "    loadset_dict[loadset.getIDAndName() + \" [INF]\"] = np.full(len(all_smart_combinations), np.nan)\n",
    "    loadset_dict[loadset.getIDAndName() + \" [SUP]\"] = np.full(len(all_smart_combinations), np.nan)\n",
    "\n",
    "# Create a list to store all the combination data\n",
    "combs_data = []\n",
    "\n",
    "for ic, combination in enumerate(all_smart_combinations):\n",
    "    # Combination Name\n",
    "    combs_data.append(combination.getIDAndNameAndDescription())    \n",
    "    # Get a list of all the loadsets in the combination\n",
    "    ids = combination.getLoadcaseIDs()\n",
    "    # Get a list of all the corresponding permanent factors\n",
    "    permanent_factors = combination.getPermanentFactors()\n",
    "    # Get a list of all the corresponding variable factors\n",
    "    variable_factors = combination.getVariableFactors()\n",
    "    # Append each loadset name followed by the factor used\n",
    "    for i, id in enumerate(ids):\n",
    "        loadset = lusas.db().getLoadset(id).getIDAndName()\n",
    "        # Note that the adverse factor is made up of a permanent and variable parts\n",
    "        loadset_dict[loadset + \" [INF]\"][ic] = permanent_factors[i] \n",
    "        loadset_dict[loadset + \" [SUP]\"][ic] = permanent_factors[i]+variable_factors[i]\n",
    "\n",
    "# Create a list for the column headers\n",
    "column_headers = [\"Combination\"] \n",
    "# Use a pandas dataframe to export to xlsx format\n",
    "df = pd.DataFrame(combs_data, columns= column_headers)\n",
    "\n",
    "for load in loadset_dict.keys():\n",
    "    factors = loadset_dict[load]\n",
    "    if (~np.isnan(factors)).any():\n",
    "        df[load] = factors\n",
    "\n",
    "names = list(df.columns)\n",
    "types = [\"\"] + int((len(names)-1)/2)*[\"Inf\", \"Sup\"]\n",
    "df = df.set_axis([names, types], axis=1, copy=False)\n",
    "\n",
    "df.to_excel(writer, sheet_name=\"Smart Combinations\")\n",
    "# Print the top few elements of the dataframe as a check\n",
    "print(df.head())"
   ]
  },
  {
   "cell_type": "markdown",
   "metadata": {},
   "source": [
    "# Envelopes"
   ]
  },
  {
   "cell_type": "code",
   "execution_count": null,
   "metadata": {},
   "outputs": [],
   "source": [
    "# Get all the smart combinations\n",
    "all_envelopes = lusas.db().getLoadsets(\"Envelopes\")\n",
    "\n",
    "loadset_dict = {}\n",
    "for loadset in db.getLoadsets():\n",
    "    loadset_dict[loadset.getIDAndName()] = np.full(len(all_envelopes), np.nan)\n",
    "\n",
    "# Create a list to store all the combination data\n",
    "combs_data = []\n",
    "\n",
    "for ic, envelope in enumerate(all_envelopes):\n",
    "    # Combination Name\n",
    "    combs_data.append(envelope.getIDAndNameAndDescription())    \n",
    "    # Get a list of all the loadsets in the combination\n",
    "    ids = envelope.getLoadcaseIDs()\n",
    "    for i, id in enumerate(ids):\n",
    "        loadset = lusas.db().getLoadset(id)\n",
    "        loadset_dict[loadset.getIDAndName()][ic] = 1\n",
    "\n",
    "# Create a list for the column headers\n",
    "column_headers = [\"Envelope\"] \n",
    "# Use a pandas dataframe to export to xlsx format\n",
    "df = pd.DataFrame(combs_data, columns= column_headers)\n",
    "\n",
    "for load in loadset_dict.keys():\n",
    "    factors = loadset_dict[load]\n",
    "    if (~np.isnan(factors)).any():\n",
    "        df[load] = factors\n",
    "\n",
    "# If there are no envelopes defined add all the potential loadcases so that envelopes can be created\n",
    "if len(df.columns) == 1:\n",
    "    df = pd.concat([df, df.from_dict(loadset_dict)])\n",
    "\n",
    "df.to_excel(writer, sheet_name=\"Envelopes\", index=False)\n",
    "# Print the top few elements of the dataframe as a check\n",
    "print(df.head())"
   ]
  },
  {
   "cell_type": "code",
   "execution_count": null,
   "metadata": {},
   "outputs": [],
   "source": [
    "# Must close the writer to free up the file handle\n",
    "writer.close()"
   ]
  },
  {
   "cell_type": "code",
   "execution_count": null,
   "metadata": {},
   "outputs": [],
   "source": [
    "# UI must be re-enabled\n",
    "lusas.enableUI(True)"
   ]
  }
 ],
 "metadata": {
  "kernelspec": {
   "display_name": "Python 3",
   "language": "python",
   "name": "python3"
  },
  "language_info": {
   "codemirror_mode": {
    "name": "ipython",
    "version": 3
   },
   "file_extension": ".py",
   "mimetype": "text/x-python",
   "name": "python",
   "nbconvert_exporter": "python",
   "pygments_lexer": "ipython3",
   "version": "3.13.3"
  }
 },
 "nbformat": 4,
 "nbformat_minor": 2
}
