{
 "cells": [
  {
   "cell_type": "markdown",
   "metadata": {},
   "source": [
    "# #100 User Vehicles\n",
    "<i>Create Discrete Load attributes representing vehicle axle arrangements defined in a spreadsheet</i>\n",
    "***"
   ]
  },
  {
   "cell_type": "code",
   "execution_count": 1,
   "metadata": {},
   "outputs": [],
   "source": [
    "file_path = \"DataFiles/User Vehicles.xlsx\" # Path to the Excel file containing vehicle data\n",
    "vehicles_to_generate = [] # Optional list of vehicles to generate, leave empty to generate all vehicles"
   ]
  },
  {
   "cell_type": "code",
   "execution_count": 2,
   "metadata": {},
   "outputs": [],
   "source": [
    "# Read definitions file\n",
    "import pandas as pd\n",
    "df = pd.read_excel(file_path, sheet_name=\"Vehicles\", usecols=range(0,5))"
   ]
  },
  {
   "cell_type": "code",
   "execution_count": 3,
   "metadata": {},
   "outputs": [],
   "source": [
    "# Filter the list of vehicles if required\n",
    "if len(vehicles_to_generate) > 0:\n",
    "    df = df[df.Name.isin(vehicles_to_generate)] "
   ]
  },
  {
   "cell_type": "code",
   "execution_count": 4,
   "metadata": {},
   "outputs": [],
   "source": [
    "import sys; sys.path.append('../') # Reference modules in parent directory\n",
    "from shared.LPI_21_1 import *\n",
    "lusas = get_lusas_modeller()\n",
    "\n",
    "if not lusas.existsDatabase():\n",
    "    raise Exception(\"This script will add loadcases to an an existing model, please open a model and run the script again.\")\n",
    "\n",
    "# Reference the current database for convenience\n",
    "db = lusas.database()\n",
    "# Get the current database units\n",
    "model_units = db.getModelUnits()"
   ]
  },
  {
   "cell_type": "code",
   "execution_count": 5,
   "metadata": {},
   "outputs": [],
   "source": [
    "# Loop through each of the vehicle definitions in the sheet, each one is defined on a single row\n",
    "for i, row in df.iterrows():\n",
    "    # Name of the vehicle attribute to be created - Will overwrite existing attributes with the same name\n",
    "    name = row.Name\n",
    "    # Read the axle spacing, axle load and axle width\n",
    "    spacings = str(row.Spacings).split(\"|\")\n",
    "    loads    = str(row.Loads).split(\"|\")\n",
    "    widths   = str(row.Widths).split(\"|\")\n",
    "    # Check that the number of each are consistent\n",
    "    if len(spacings) == len(loads) == len(widths):\n",
    "        \n",
    "        try:\n",
    "            # Get the unit set for the vehicle definitions\n",
    "            vehicle_units = lusas.getUnitSet(row.Units)\n",
    "            # Create the discrete point load attribute with loads acting in the Z direction\n",
    "            vehicle_attr = db.createLoadingDiscretePoint(name)\n",
    "            vehicle_attr.setDiscrete(\"Z\", [0,0,-1], len(spacings), 2)\n",
    "            \n",
    "            # Longitudinal position of each axle\n",
    "            x = 0\n",
    "            for i in range(0, len(spacings)):\n",
    "                # Get the details of the current axle\n",
    "                s = float(spacings[i])\n",
    "                l = float(loads[i])\n",
    "                w = float(widths[i])\n",
    "                # Convert values to the model unit set\n",
    "                s = vehicle_units.convertToUnitSet(model_units, s, 0,0,1,0,0,0)\n",
    "                l = vehicle_units.convertToUnitSet(model_units, l, 0,1,0,0,0,0)\n",
    "                w = vehicle_units.convertToUnitSet(model_units, w, 0,0,1,0,0,0)\n",
    "                # Increment the axle position by the spacing\n",
    "                x-=s\n",
    "                # Add wheel loads for the axle\n",
    "                vehicle_attr.addRow(x,  w/2, 0, -abs(l/2))\n",
    "                vehicle_attr.addRow(x, -w/2, 0, -abs(l/2))\n",
    "\n",
    "        except Exception as e:\n",
    "            print(f\"Failed creating vehicle {name}\")\n",
    "            print(e)\n",
    "    else:\n",
    "        print(f\"The number of values in {name} is inconsistent\")\n"
   ]
  }
 ],
 "metadata": {
  "kernelspec": {
   "display_name": "Python 3",
   "language": "python",
   "name": "python3"
  },
  "language_info": {
   "codemirror_mode": {
    "name": "ipython",
    "version": 3
   },
   "file_extension": ".py",
   "mimetype": "text/x-python",
   "name": "python",
   "nbconvert_exporter": "python",
   "pygments_lexer": "ipython3",
   "version": "3.13.3"
  }
 },
 "nbformat": 4,
 "nbformat_minor": 2
}
