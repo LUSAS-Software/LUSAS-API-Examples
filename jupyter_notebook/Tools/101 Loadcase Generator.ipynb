{
 "cells": [
  {
   "cell_type": "markdown",
   "metadata": {},
   "source": [
    "# #101 Loadcase Generator\n",
    "<i>Generates loadcases and envelopes from defined in a spreadsheet.</i>\n",
    "***"
   ]
  },
  {
   "cell_type": "markdown",
   "metadata": {},
   "source": [
    "Set the path of the spreadsheet with the loadcases to create:\n",
    "\n",
    "(an example/template can be found in `DataFiles/11 Loadcases.xlsx`)"
   ]
  },
  {
   "cell_type": "code",
   "execution_count": null,
   "metadata": {},
   "outputs": [],
   "source": [
    "data_file = \"DataFiles/11 Loadcases.xlsx\" # Path to the Excel file"
   ]
  },
  {
   "cell_type": "markdown",
   "metadata": {},
   "source": [
    "Connect to the running LUSAS model:"
   ]
  },
  {
   "cell_type": "code",
   "execution_count": null,
   "metadata": {},
   "outputs": [],
   "source": [
    "import pandas as pd\n",
    "import numpy as np\n",
    "import sys; sys.path.append('../') # Reference modules in parent directory\n",
    "from shared.LPI import *\n",
    "lusas = get_lusas_modeller()\n",
    "\n",
    "if not lusas.existsDatabase():\n",
    "    raise Exception(\"This script will add loadcases to an an existing model, please open a model and run the script again.\")\n",
    "\n",
    "db = lusas.database()"
   ]
  },
  {
   "cell_type": "markdown",
   "metadata": {},
   "source": [
    "Delete all defined analyses: (optional)"
   ]
  },
  {
   "cell_type": "code",
   "execution_count": null,
   "metadata": {},
   "outputs": [],
   "source": [
    "delete_all_previous = True\n",
    "if delete_all_previous:\n",
    "    db.deleteAllAnalyses()\n",
    "    db.createAnalysisStructural(\"Analysis 1\", False)\n",
    "    db.deleteLoadsets(\"all\") # remaining post-processing loadsets"
   ]
  },
  {
   "cell_type": "markdown",
   "metadata": {},
   "source": [
    "Read the excel definitions"
   ]
  },
  {
   "cell_type": "code",
   "execution_count": null,
   "metadata": {},
   "outputs": [],
   "source": [
    "df = pd.read_excel(data_file, sheet_name=\"Loadcases\", usecols=range(0,4))\n",
    "print(df.head())"
   ]
  },
  {
   "cell_type": "markdown",
   "metadata": {},
   "source": [
    "Optionally change the state of LUSAS to speed up the script excecution time. Mind that LUSAS UI will not respond to user interaction when in this state!"
   ]
  },
  {
   "cell_type": "code",
   "execution_count": null,
   "metadata": {},
   "outputs": [],
   "source": [
    "speed_up = True\n",
    "\n",
    "if speed_up:\n",
    "    # Disable the interface to improve performance\n",
    "    if lusas.getMajorVersionNumber() >= 22 : lusas.enableUI(False)\n",
    "    # Create a command batch, such that the operation can be undone, this also improves performance\n",
    "    db.beginCommandBatch(\"Create Loadcases\", \"undoable\")"
   ]
  },
  {
   "cell_type": "markdown",
   "metadata": {},
   "source": [
    "Find base analysis:"
   ]
  },
  {
   "cell_type": "code",
   "execution_count": null,
   "metadata": {},
   "outputs": [],
   "source": [
    "allAnalyses : list[IFAnalysisBaseClass] = db.getAnalyses()\n",
    "base_analysis = ''\n",
    "for analysis in allAnalyses:\n",
    "    if analysis.isBase():\n",
    "        base_analysis = analysis.getName()\n",
    "        break\n",
    "print(f\"Base analysis is: {base_analysis}\")"
   ]
  },
  {
   "cell_type": "markdown",
   "metadata": {},
   "source": [
    "We'll create a wrapper function that checks for the existance of a loadcase and increments the name"
   ]
  },
  {
   "cell_type": "code",
   "execution_count": null,
   "metadata": {},
   "outputs": [],
   "source": [
    "def safe_create_loadcase(loadcase_name:str, analysis_name:str) -> 'IFLoadcase':\n",
    "    if not db.existsLoadset(loadcase_name):\n",
    "        return db.createLoadcase(loadcase_name, analysis_name)\n",
    "    else:\n",
    "        i = 1\n",
    "        while db.existsLoadset(f\"{loadcase_name}({i})\"):\n",
    "            i+=1\n",
    "        db.createLoadcase(f\"{loadcase_name} - {i}\", analysis_name)"
   ]
  },
  {
   "cell_type": "markdown",
   "metadata": {},
   "source": [
    "Loop throgh the rows in the loadcase table creating the loadcases as required"
   ]
  },
  {
   "cell_type": "code",
   "execution_count": null,
   "metadata": {},
   "outputs": [],
   "source": [
    "for i, row in df.iterrows():\n",
    "    loadcase_name = row['Name']\n",
    "    loadcase_count = row['Count']\n",
    "    # Make sure we have a string for comparison, it should be Yes or empty\n",
    "    add_gravity = row['Gravity'] if isinstance(row['Gravity'], str) else \"\"\n",
    "    # For the analysis name, we need a string and if the analysis doesnt exist we'll need to create it before trying to add the loadcase\n",
    "    analysis_name = row['Analysis']\n",
    "\n",
    "    if not isinstance(analysis_name, str):\n",
    "        analysis_name = base_analysis\n",
    "    else:\n",
    "        if not db.existsAnalysis(analysis_name):\n",
    "            db.createAnalysisStructural(analysis_name, False)\n",
    "            print(f\"Created analysis {analysis_name}\")\n",
    "\n",
    "    # If the number of requested \"similar\" loadcases is less than two, create a single loadcase\n",
    "    if np.isnan(loadcase_count) or int(loadcase_count) < 2:\n",
    "        loadcase = safe_create_loadcase(loadcase_name, analysis_name)\n",
    "        print(f\"Created loadcase {loadcase.getName()}\")\n",
    "        if add_gravity == \"Yes\": loadcase.addGravity(True)\n",
    "    else:\n",
    "        # Multiple loadcases\n",
    "        for i in range(1, int(loadcase_count)+1):\n",
    "            loadcase = safe_create_loadcase(f\"{loadcase_name} {i}\", analysis_name)\n",
    "            print(f\"Created loadcase {loadcase.getName()}\")\n",
    "            if add_gravity == \"Yes\": loadcase.addGravity(True)\n"
   ]
  },
  {
   "cell_type": "code",
   "execution_count": null,
   "metadata": {},
   "outputs": [],
   "source": [
    "def safe_create_envelope(envelope_name:str) -> 'IFEnvelope':\n",
    "    if not db.existsLoadset(envelope_name):\n",
    "        return db.createEnvelope(envelope_name)\n",
    "    else:\n",
    "        i = 1\n",
    "        while db.existsLoadset(f\"{envelope_name}({i})\"):\n",
    "            i+=1\n",
    "        return db.createEnvelope(f\"{envelope_name} - {i}\")"
   ]
  },
  {
   "cell_type": "markdown",
   "metadata": {},
   "source": [
    "Read in the envelope definition sheets and print the top for rows to confirm data as expected"
   ]
  },
  {
   "cell_type": "code",
   "execution_count": null,
   "metadata": {},
   "outputs": [],
   "source": [
    "df = pd.read_excel(data_file, sheet_name=\"Envelopes\", usecols=range(0,4))\n",
    "print(df.head())"
   ]
  },
  {
   "cell_type": "code",
   "execution_count": null,
   "metadata": {},
   "outputs": [],
   "source": [
    "for name in df['Name'].unique():\n",
    "    #print(name)\n",
    "    df_env = df[df['Name'] == name]\n",
    "    #print(df_env)\n",
    "    # Loadset ids to add to the envelope\n",
    "    ids = []         \n",
    "    for i, row in df_env.iterrows():\n",
    "        loadcase_name = row['Loadcases']\n",
    "        find_similar = row['FindSimilar']\n",
    "        # Add all lodsets that start with the given name\n",
    "        if find_similar == \"Yes\":\n",
    "            for loadset in db.getLoadsets(\"Loadcase\"):\n",
    "                if str(loadset.getName()).startswith(loadcase_name):\n",
    "                    ids.append(loadset.getID())\n",
    "        else:\n",
    "            if db.existsLoadset(loadcase_name):\n",
    "                loadset = db.getLoadset(loadcase_name)\n",
    "                type_code = loadset.getTypeCode()\n",
    "                # append the id\n",
    "                ids.append(loadset.getID())\n",
    "                if type_code == 3:\n",
    "                    ids.append(loadset.getAssocLoadset().getID())\n",
    "                elif type_code == 6:\n",
    "                    ids.append(loadset.getAssocLoadset().getID())\n",
    "\n",
    "    \n",
    "    env = safe_create_envelope(name)\n",
    "    for id in ids:\n",
    "        env.addEntry(id)\n",
    "\n",
    "    # Set the treeview folder name if available\n",
    "    folder_name = row['Folder']\n",
    "    if isinstance(folder_name, str) and len(folder_name) > 0:\n",
    "        env.setTreeLocation(folder_name, True)\n"
   ]
  },
  {
   "cell_type": "markdown",
   "metadata": {},
   "source": [
    "Revert the modeller status (changed for script speed up):"
   ]
  },
  {
   "cell_type": "code",
   "execution_count": null,
   "metadata": {},
   "outputs": [],
   "source": [
    "if speed_up:\n",
    "    # Re-enable the interface. If something goes wrong above this cell must be manually run\n",
    "    if lusas.getMajorVersionNumber() >= 22 : lusas.enableUI(True)\n",
    "    # Close the command batch. Note if an error occurs above this cel must be run to restore the interactive user interface\n",
    "    db.closeCommandBatch()"
   ]
  }
 ],
 "metadata": {
  "kernelspec": {
   "display_name": "Python 3",
   "language": "python",
   "name": "python3"
  },
  "language_info": {
   "codemirror_mode": {
    "name": "ipython",
    "version": 3
   },
   "file_extension": ".py",
   "mimetype": "text/x-python",
   "name": "python",
   "nbconvert_exporter": "python",
   "pygments_lexer": "ipython3",
   "version": "3.13.2"
  }
 },
 "nbformat": 4,
 "nbformat_minor": 2
}
