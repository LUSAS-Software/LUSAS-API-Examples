{
 "cells": [
  {
   "cell_type": "markdown",
   "metadata": {},
   "source": [
    "# #130 RC Sections\n",
    "<i>Generate RC Section Definitions for spreadsheet inputs.</i>\n",
    "***"
   ]
  },
  {
   "cell_type": "code",
   "execution_count": null,
   "metadata": {},
   "outputs": [],
   "source": [
    "# xlsx file containing the definitions\n",
    "file_name = \"Datafiles/RC Section Definitions.xlsx\""
   ]
  },
  {
   "cell_type": "markdown",
   "metadata": {},
   "source": [
    "#### Connect to LUSAS and get the database"
   ]
  },
  {
   "cell_type": "code",
   "execution_count": null,
   "metadata": {},
   "outputs": [],
   "source": [
    "import sys; sys.path.append('../') # Reference modules in parent directory\n",
    "import pandas as pd\n",
    "import numpy as np\n",
    "import re\n",
    "from shared.LPI_21_1 import *\n",
    "lusas = get_lusas_modeller()\n",
    "\n",
    "if not lusas.existsDatabase():\n",
    "    raise Exception(\"A model file must be open in which to create the RC Section Definitions\")\n",
    "\n",
    "db = lusas.getDatabase()\n",
    "model_units = db.getModelUnits()\n",
    "model_length_factor = model_units.getLengthFactor()\n",
    "print(model_length_factor)"
   ]
  },
  {
   "cell_type": "markdown",
   "metadata": {},
   "source": [
    "Helper functions"
   ]
  },
  {
   "cell_type": "code",
   "execution_count": null,
   "metadata": {},
   "outputs": [],
   "source": [
    "# Add a row to the reinforcement definition representing a layer of reinforcement corresponding to a face of the section\n",
    "def add_rebar_row(attr:IFReinforcementSection, row:int, faceIndex:int, layerIndex:int, barsCount:int, start:int, end:int, gap:float, dia:float, end_bars:float):\n",
    "    attr.setReinforcementValue(\"rebar\", row, \"faceIndex\", faceIndex)\n",
    "    attr.setReinforcementValue(\"rebar\", row, \"layerIndex\", layerIndex)\n",
    "    attr.setReinforcementValue(\"rebar\", row, \"barsCount\", barsCount)\n",
    "    attr.setReinforcementValue(\"rebar\", row, \"start\", start)\n",
    "    attr.setReinforcementValue(\"rebar\", row, \"end\", end)\n",
    "    attr.setReinforcementValue(\"rebar\", row, \"gap\", gap)\n",
    "    attr.setReinforcementValue(\"rebar\", row, \"barsDiameter\", dia)\n",
    "    attr.setReinforcementValue(\"rebar\", row, \"altBarsDiameter\", -1.0)\n",
    "    attr.setReinforcementValue(\"rebar\", row, \"endBarsDiameter\", end_bars)\n",
    "    attr.setReinforcementValue(\"rebar\", row, \"materialRef\", \"R1\")"
   ]
  },
  {
   "cell_type": "code",
   "execution_count": null,
   "metadata": {},
   "outputs": [],
   "source": [
    "# Add all the reinforcement layers specified for the section\n",
    "def add_all_rebar_layers(range:iter, row:pd.Series, rc_section_attr:IFReinforcementSection, length_factor:float):\n",
    "    attr_row_count = 0\n",
    "    alternating_end_bars = -1\n",
    "    for i in range:\n",
    "        bars = row[f\"Bars{i}\"]\n",
    "        if not isinstance(bars, str) and np.isnan(bars) : \n",
    "            alternating_end_bars = -1\n",
    "            continue\n",
    "\n",
    "        bar_layers = bars.split(\"|\")\n",
    "        for j, layer in enumerate(bar_layers):\n",
    "\n",
    "            if not re.match(\"\\\\d+x\\\\d+\", layer):\n",
    "                print(f\"Bars {bar_layers[j]} specified in wrong format, must be of form 5x25\")\n",
    "                continue\n",
    "            \n",
    "            bar_count = int(bar_layers[j].split(\"x\")[0])\n",
    "            bar_diameter = float(bar_layers[j].split(\"x\")[1]) * length_factor\n",
    "\n",
    "            add_rebar_row(rc_section_attr, row=attr_row_count, faceIndex=i, layerIndex=j+1, barsCount=bar_count, start=-1, end=-1, gap=0.0, dia=bar_diameter, end_bars=alternating_end_bars)\n",
    "            attr_row_count+=1\n",
    "        alternating_end_bars = -2 if alternating_end_bars == -1 else -1\n",
    "   "
   ]
  },
  {
   "cell_type": "code",
   "execution_count": null,
   "metadata": {},
   "outputs": [],
   "source": [
    "def create_reinforcement_section_attributes(para_section_utility: IFParametricSection, range:iter, row:pd.Series, length_factor:float):\n",
    "    # Create the geometric attribute which takes its shape from the utility but provides additional transformations such as eccentricity\n",
    "    geom_section_attr = db.createGeometricLine(row.Name)\n",
    "    geom_section_attr.setFromLibrary(\"Utilities\", \"\", para_section_utility.getName(), 0, 0, 0)\n",
    "    # Create a Reinforcement utility based on the shape of the geometric section attribute\n",
    "    rc_section_attr = db.createReinforcementSection(f\"{row.Name} - Section Reinforcement\").setGeometricAttribute(geom_section_attr)\n",
    "    rc_section_attr.setReinforcementValue(\"face\", 0, \"faceIndex\", \"All\")\n",
    "    rc_section_attr.setReinforcementValue(\"face\", 0, \"actualCover\", row.Cover*length_factor)\n",
    "    rc_section_attr.setReinforcementValue(\"face\", 0, \"linkAllowance\", 0.0)\n",
    "    rc_section_attr.setReinforcementValue(\"face\", 0, \"allowableCrackWidth\", 0.0)\n",
    "    rc_section_attr.setReinforcementValue(\"face\", 0, \"nominalCover\", -1.0)\n",
    "    # Add all the reinforcement layers specified for the section\n",
    "    add_all_rebar_layers(range, row, rc_section_attr, length_factor)\n",
    "    # Link the geometric attribute with the associated reinforcement\n",
    "    rebar_line_attr = db.createReinforcementLine(f\"{row.Name} - Member Reinforcement\")\n",
    "    rebar_line_attr.setSegmentValue(\"Longitudinal\", 0, \"reinforcementSection\", rc_section_attr)\n",
    "    rebar_line_attr.setSegmentValue(\"Longitudinal\", 0, \"stretch\", True)\n",
    "    geom_section_attr.setReinforcement(rebar_line_attr)"
   ]
  },
  {
   "cell_type": "code",
   "execution_count": null,
   "metadata": {},
   "outputs": [],
   "source": [
    "def get_unitset_length_factor(name:str)->IFUnitSet:\n",
    "    '''Helper function to calculate a length factor to convert the given unit set to the database units'''\n",
    "    try:\n",
    "        return model_length_factor / lusas.getUnitSet(name).getLengthFactor()\n",
    "    except:\n",
    "        print(f\"Warning unrecognised units '{name}'\")\n",
    "        return 1.0"
   ]
  },
  {
   "cell_type": "markdown",
   "metadata": {},
   "source": [
    "#### Create model attributes as defined in the spereadsheet"
   ]
  },
  {
   "cell_type": "code",
   "execution_count": null,
   "metadata": {},
   "outputs": [],
   "source": [
    "# Create the reinforced section definition specified in the Rectangular definitions sheet\n",
    "df_rectangles = pd.read_excel(file_name, sheet_name=\"Rectangular\")\n",
    "\n",
    "for i, row in df_rectangles.iterrows():\n",
    "    # Length factor from definition units to database units\n",
    "    l = get_unitset_length_factor(row.Units)\n",
    "    # Create a parametric section utility\n",
    "    para_section_utility = db.createParametricSection(f'{row.Name} Utility')\n",
    "    para_section_utility.setType(\"Rectangular Solid\")\n",
    "    para_section_utility.setDimensions(['B', 'D'], [row.B*l, row.D*l])\n",
    "    # Rectangular Sections have 4 faces, starting at the bottom going anticlockwise around the section.\n",
    "    create_reinforcement_section_attributes(para_section_utility, range(1,5), row, l)"
   ]
  },
  {
   "cell_type": "code",
   "execution_count": null,
   "metadata": {},
   "outputs": [],
   "source": [
    "# Create the reinforced section definition specified in the Tee definitions sheet\n",
    "df_Tees = pd.read_excel(file_name, sheet_name=\"Tee\")\n",
    "\n",
    "for i, row in df_Tees.iterrows():\n",
    "    # Length factor from definition units to database units\n",
    "    l = get_unitset_length_factor(row.Units)\n",
    "    # Create a parametric section utility\n",
    "    para_section_utility = db.createParametricSection(f'{row.Name} Utility')\n",
    "    para_section_utility.setType(\"T\")\n",
    "    para_section_utility.setDimensions(['B', 'D', 'tf', 'tw', 'r'], [row.B*l, row.D*l, row.tf*l, row.tw*l, row.r*l])\n",
    "    # Tee Sections have 8 faces, starting at the bottom of the web going anticlockwise around the section.\n",
    "    create_reinforcement_section_attributes(para_section_utility, range(1,9), row, l)"
   ]
  },
  {
   "cell_type": "code",
   "execution_count": null,
   "metadata": {},
   "outputs": [],
   "source": [
    "# Create the reinforced section definition specified in the circular definitions sheet\n",
    "df_circular = pd.read_excel(file_name, sheet_name=\"Circular\")\n",
    "\n",
    "for i, row in df_circular.iterrows():\n",
    "    # Length factor from definition units to database units\n",
    "    l = get_unitset_length_factor(row.Units)\n",
    "    # Create a parametric section utility\n",
    "    para_section_utility = db.createParametricSection(f'{row.Name} Utility')\n",
    "    para_section_utility.setType(\"Circular Solid\")\n",
    "    para_section_utility.setDimensions(['D'], [row.D*l])\n",
    "    # Circular Sections have 1 face\n",
    "    create_reinforcement_section_attributes(para_section_utility, [1], row, l)"
   ]
  }
 ],
 "metadata": {
  "kernelspec": {
   "display_name": "Python 3",
   "language": "python",
   "name": "python3"
  },
  "language_info": {
   "codemirror_mode": {
    "name": "ipython",
    "version": 3
   },
   "file_extension": ".py",
   "mimetype": "text/x-python",
   "name": "python",
   "nbconvert_exporter": "python",
   "pygments_lexer": "ipython3",
   "version": "3.13.3"
  }
 },
 "nbformat": 4,
 "nbformat_minor": 2
}
