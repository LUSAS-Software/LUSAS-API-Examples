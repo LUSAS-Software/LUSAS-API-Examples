{
 "cells": [
  {
   "cell_type": "markdown",
   "metadata": {},
   "source": [
    "# #05 Simple frame structure\n",
    "<i>Creates a simple frame structure based on a 2d grid and storey height inputs</i>\n",
    "***"
   ]
  },
  {
   "cell_type": "markdown",
   "metadata": {},
   "source": [
    "Geometry definition:"
   ]
  },
  {
   "cell_type": "code",
   "execution_count": null,
   "metadata": {},
   "outputs": [],
   "source": [
    "''' Inputs '''\n",
    "# Define column spacings and storey heights in m\n",
    "column_spacing_x = [5.000, 6.000, 6.000, 5.000]\n",
    "column_spacing_y = [3.000, 4.500, 3.000]\n",
    "storey_heights = [4.500, 3.000, 3.000, 3.000]\n",
    "\n",
    "# Start coordinates. You can run this script multiple times in the same model with different offsets to build more complex geometries\n",
    "origin_x = 0.0\n",
    "origin_y = 0.0"
   ]
  },
  {
   "cell_type": "markdown",
   "metadata": {},
   "source": [
    "Connect to LUSAS Modeller"
   ]
  },
  {
   "cell_type": "code",
   "execution_count": null,
   "metadata": {},
   "outputs": [],
   "source": [
    "from shared.LPI import *\n",
    "lusas = get_lusas_modeller()\n",
    "if lusas.existsDatabase() and lusas.db().isModified():\n",
    "    raise Exception(\"This script will create a new model. Please save or close the current model and try again\")"
   ]
  },
  {
   "cell_type": "markdown",
   "metadata": {},
   "source": [
    "Create a new model"
   ]
  },
  {
   "cell_type": "code",
   "execution_count": null,
   "metadata": {},
   "outputs": [],
   "source": [
    "# Create a new model\n",
    "filename = \"Simple_Frame_Model.mdl\"\n",
    "lusas.newProject(\"Structural\", filename)\n",
    "# Get a reference to the model database\n",
    "db = lusas.getDatabase()\n",
    "# Set the analysis category & vertical axis\n",
    "db.setAnalysisCategory(\"3D\")\n",
    "db.setVerticalDir(\"Z\")"
   ]
  },
  {
   "cell_type": "markdown",
   "metadata": {},
   "source": [
    "This scripts assumes meters, hence with can use the predefined unit set \"kN,m,t,s,C\"."
   ]
  },
  {
   "cell_type": "code",
   "execution_count": null,
   "metadata": {},
   "outputs": [],
   "source": [
    "# Set the unit system\n",
    "units = lusas.getUnitSet(\"kN,m,t,s,C\")\n",
    "db.setModelUnits(units)"
   ]
  },
  {
   "cell_type": "markdown",
   "metadata": {},
   "source": [
    "Alternatively, we can use one of the other predefined unit sets, or create a new one.\n",
    "\n",
    "The following code prints all predefined unit sets, usually named based on the set load, length, mass, time, temperature units:"
   ]
  },
  {
   "cell_type": "code",
   "execution_count": null,
   "metadata": {},
   "outputs": [],
   "source": [
    "for unitSet in lusas.getUnitSets():\n",
    "    print(unitSet.getName())"
   ]
  },
  {
   "cell_type": "markdown",
   "metadata": {},
   "source": [
    "Calculate the x and y coordinates of the frame grid"
   ]
  },
  {
   "cell_type": "code",
   "execution_count": null,
   "metadata": {},
   "outputs": [],
   "source": [
    "import numpy as np\n",
    "column_positions_x = np.add.accumulate(column_spacing_x) + origin_x\n",
    "column_positions_x = np.insert(column_positions_x, 0, origin_x)\n",
    "\n",
    "column_positions_y = np.add.accumulate(column_spacing_y) + origin_y\n",
    "column_positions_y = np.insert(column_positions_y, 0, origin_y)\n",
    "\n",
    "print(\"Column positions X:\", column_positions_x)\n",
    "print(\"Column positions Y:\", column_positions_y)"
   ]
  },
  {
   "cell_type": "markdown",
   "metadata": {},
   "source": [
    "Generate the model lines. We'll let Modeller merge the points as we create the lines"
   ]
  },
  {
   "cell_type": "code",
   "execution_count": null,
   "metadata": {},
   "outputs": [],
   "source": [
    "# Reference to the geometryData object\n",
    "geom_data = lusas.geometryData()\n",
    "\n",
    "z_bot = 0.0 # Vertical coordinate of the bottom of the storey\n",
    "z_top = 0.0 # Vertical coordinate of the top of the storey\n",
    "for height in storey_heights:\n",
    "    z_top = z_bot + height\n",
    "\n",
    "    # Columns\n",
    "    for i, x in enumerate(column_positions_x):\n",
    "        for j, y in enumerate(column_positions_y):\n",
    "            geom_data.setAllDefaults()          # Reset the inputs\n",
    "            geom_data.addCoords(x, y, z_bot)    # Set the coordinates of the first point\n",
    "            geom_data.addCoords(x, y, z_top)    # Set the coordinates of the second point\n",
    "            geom_data.setLowerOrderGeometryType(\"coordinates\")\n",
    "            geom_data.setCreateMethod(\"straight\")\n",
    "            db.createLine(geom_data)            # Create the column line\n",
    "            print(f\"Created column at ({x}, {y}, {z_bot}) to ({x}, {y}, {z_top})\")\n",
    "\n",
    "    # Beams in y\n",
    "    for i, x in enumerate(column_positions_x):\n",
    "        for j, y in enumerate(column_positions_y):\n",
    "            if j < len(column_positions_y)-1:\n",
    "                geom_data.setAllDefaults()\n",
    "                geom_data.addCoords(x, y, z_top)\n",
    "                geom_data.addCoords(x, column_positions_y[j+1], z_top)\n",
    "                geom_data.setLowerOrderGeometryType(\"coordinates\")\n",
    "                geom_data.setCreateMethod(\"straight\")\n",
    "                db.createLine(geom_data)\n",
    "                print(f\"Created beam in y at ({x}, {y}, {z_top}) to ({x}, {column_positions_y[j+1]}, {z_top})\")\n",
    "\n",
    "    # Beams in x\n",
    "    for i, x in enumerate(column_positions_x):\n",
    "        for j, y in enumerate(column_positions_y):\n",
    "            if i < len(column_positions_x)-1:\n",
    "                geom_data.setAllDefaults()\n",
    "                geom_data.addCoords(x, y, z_top)\n",
    "                geom_data.addCoords(column_positions_x[i+1], y, z_top)\n",
    "                geom_data.setLowerOrderGeometryType(\"coordinates\")\n",
    "                geom_data.setCreateMethod(\"straight\")\n",
    "                db.createLine(geom_data)\n",
    "                print(f\"Created beam in x at ({x}, {y}, {z_top}) to ({column_positions_x[i+1]}, {y}, {z_top})\")\n",
    "\n",
    "    z_bot = z_top # next storey"
   ]
  },
  {
   "cell_type": "markdown",
   "metadata": {},
   "source": [
    "Change from plan view to top-front-side view (isometric view)"
   ]
  },
  {
   "cell_type": "code",
   "execution_count": null,
   "metadata": {},
   "outputs": [],
   "source": [
    "lusas.view().setIsometric()"
   ]
  }
 ],
 "metadata": {},
 "nbformat": 4,
 "nbformat_minor": 2
}
