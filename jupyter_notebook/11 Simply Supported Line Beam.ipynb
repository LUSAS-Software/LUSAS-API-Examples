{
 "cells": [
  {
   "cell_type": "markdown",
   "metadata": {},
   "source": [
    "# #11 Create a simply supported line beam model\n",
    "<i>Run the whole code to generate and solve the model and display the minimum sagging moment, 3 different ways</i>\n",
    "***"
   ]
  },
  {
   "cell_type": "markdown",
   "metadata": {},
   "source": [
    "![Preview](../../_img/jupyter_notebook_051.png)"
   ]
  },
  {
   "cell_type": "markdown",
   "metadata": {},
   "source": [
    "Define beam dimensions and loading:"
   ]
  },
  {
   "cell_type": "code",
   "execution_count": null,
   "metadata": {},
   "outputs": [],
   "source": [
    "# Input Params\n",
    "length = 10.0 #m\t\tLength of beam\n",
    "loading = 10.0  #kN/m   Uniformly distributed load"
   ]
  },
  {
   "cell_type": "markdown",
   "metadata": {},
   "source": [
    "Connect to running Lusas instance:"
   ]
  },
  {
   "cell_type": "code",
   "execution_count": null,
   "metadata": {},
   "outputs": [],
   "source": [
    "import sys; sys.path.append('../') # Reference modules in parent directory\n",
    "from shared.LPI_21_1 import *\n",
    "lusas = get_lusas_modeller()\n",
    "\n",
    "# Check if unsaved model is open\n",
    "if lusas.existsDatabase() and lusas.db().isModified():\n",
    "    raise Exception(\"This script will create a new model. Please save or close the current model and try again\")"
   ]
  },
  {
   "cell_type": "markdown",
   "metadata": {},
   "source": [
    "Create new model:"
   ]
  },
  {
   "cell_type": "code",
   "execution_count": null,
   "metadata": {},
   "outputs": [],
   "source": [
    "# Create a new model\n",
    "lusas.newProject(\"Structural\", \"Simple_beam_model\")\n",
    "# Reference to the model database for convenience\n",
    "db = lusas.database() \n",
    "# Set the vertical axis\n",
    "db.setAnalysisCategory(\"3D\")\n",
    "db.setVerticalDir(\"Z\")\n",
    "# Set the unit system\n",
    "db.setModelUnits(\"kN,m,t,s,C\")"
   ]
  },
  {
   "cell_type": "markdown",
   "metadata": {},
   "source": [
    "<div class=\"alert alert-block alert-info\">\n",
    "<b>Tip:</b> When interacting with Modeller externally, as we are here. A large speed up can be achived by disabling the user interface. In v22 and later this can be done with the enableUI function, in earlier versions the application must be set to be invisible. Take care to restore the visibility and watch out for exceptions in the code that can leave Modeller running in the background or disabled. See the code below to ensure this is properly restored.\n",
    "</div>"
   ]
  },
  {
   "cell_type": "code",
   "execution_count": null,
   "metadata": {},
   "outputs": [],
   "source": [
    "do_speed_up = False # To speed up interaction with Modeller from python set this to True\n",
    "\n",
    "if do_speed_up: \n",
    "    if lusas.getMajorVersionNumber() >= 22:\n",
    "        lusas.enableUI(False)\n",
    "    else:\n",
    "        lusas.setVisible(False)"
   ]
  },
  {
   "cell_type": "markdown",
   "metadata": {},
   "source": [
    "Create the beam line:"
   ]
  },
  {
   "cell_type": "code",
   "execution_count": null,
   "metadata": {},
   "outputs": [],
   "source": [
    "''' Create a line'''\n",
    "# Get the geometry data object\n",
    "geom_data = lusas.geometryData()\n",
    "# Set the defaults\n",
    "geom_data.setAllDefaults()\n",
    "# Set the coordinates of the first point\n",
    "geom_data.addCoords(0, 0, 0)\n",
    "# Set the coordinates of the second point\n",
    "geom_data.addCoords(length, 0, 0)\n",
    "# Create the line object from the geometry data\n",
    "objs = db.createLine(geom_data) # Modeller returns an object set containing all the lines created, in this case we only have 1.\n",
    "# Get the lines\n",
    "lines = objs.getObjects(\"Lines\")\n",
    "# Get the single line from the returned array\n",
    "beam_line :IFLine = lines[0]"
   ]
  },
  {
   "cell_type": "markdown",
   "metadata": {},
   "source": [
    "<div class=\"alert alert-block alert-info\">\n",
    "<b>Tip:</b> For an easier way to create geometries using the Helpers.py see example #03.\n",
    "</div>"
   ]
  },
  {
   "cell_type": "markdown",
   "metadata": {},
   "source": [
    "Create attributes:\n",
    "- an 1m line mesh attibute,\n",
    "- a geometric attibute with custom section properties,\n",
    "- a steel material attribute,\n",
    "- two support attributes (fixed and pinned),\n",
    "- a uniform distributed load (UDL) attribute"
   ]
  },
  {
   "cell_type": "code",
   "execution_count": null,
   "metadata": {},
   "outputs": [],
   "source": [
    "''' Create a mesh attribute'''\n",
    "mesh_attr = db.createMeshLine(\"Beam Mesh\")\n",
    "# Set the element type and number of elements (3 thick beam elements here)\n",
    "mesh_attr.setNumber(\"BMI21\", 3)"
   ]
  },
  {
   "cell_type": "code",
   "execution_count": null,
   "metadata": {},
   "outputs": [],
   "source": [
    "''' Create a geometric attribute'''\n",
    "geometric_attr = db.createGeometricLine(\"Beam Geometry\")\n",
    "# Set the beam section properties\n",
    "geometric_attr.setBeam(0.0125, 0.0004573, 0.00002347, 0.0, 0.00000121, 0.00532608, 0.00755776, 0.0, 0.0, 0)"
   ]
  },
  {
   "cell_type": "code",
   "execution_count": null,
   "metadata": {},
   "outputs": [],
   "source": [
    "''' Create a material attribute'''\n",
    "material_attr = db.createIsotropicMaterial(\"Steel\", 209_000_000, 0.3, 7.8)"
   ]
  },
  {
   "cell_type": "code",
   "execution_count": null,
   "metadata": {},
   "outputs": [],
   "source": [
    "''' Create a support attribute (fixed) '''\n",
    "fixed_support_attr = db.createSupportStructural(\"Fixed\")\n",
    "# set the freedoms F=Free, R=Restrained\n",
    "fixed_support_attr.setStructural(\"R\", \"R\", \"R\", \"F\", \"F\", \"F\", \"F\", \"F\", \"F\")\n",
    "\n",
    "''' Create a support attribute (pinned) '''\n",
    "pinned_support_attr = db.createSupportStructural(\"Pinned\")\n",
    "# set the freedoms \n",
    "pinned_support_attr.setStructural(\"F\", \"R\", \"R\", \"F\", \"F\", \"F\", \"F\", \"F\", \"F\")"
   ]
  },
  {
   "cell_type": "code",
   "execution_count": null,
   "metadata": {},
   "outputs": [],
   "source": [
    "''' Create a beam load attribute '''\n",
    "udl_load_attr = db.createLoadingBeamDistributed(\"UDL\")\n",
    "udl_load_attr.setBeamDistributed(\"Parametric\", \"Global\", \"beam\")\n",
    "udl_load_attr.addRow(0.0, 0.0, 0.0, -loading, 0.0, 0.0, 0.0, 1.0, 0.0, 0.0, -loading, 0.0, 0.0, 0.0)"
   ]
  },
  {
   "cell_type": "markdown",
   "metadata": {},
   "source": [
    "Now assign all the created attributes on the beam line:"
   ]
  },
  {
   "cell_type": "code",
   "execution_count": null,
   "metadata": {},
   "outputs": [],
   "source": [
    "''' Assign the attributes to the geometry '''\n",
    "# get the assignment object\n",
    "assignment = lusas.assignment()\n",
    "# set the defaults\n",
    "assignment.setAllDefaults()\n",
    "\n",
    "# Assign the mesh\n",
    "mesh_attr.assignTo(beam_line, assignment)\n",
    "# Assign the geometry\n",
    "geometric_attr.assignTo(beam_line, assignment)\n",
    "# Assign the material\n",
    "material_attr.assignTo(beam_line, assignment)\n",
    "# Assign the loading\n",
    "udl_load_attr.assignTo(beam_line, assignment)\n",
    "\n",
    "''' Assign the supports to the points of the line '''\n",
    "# Assign the fixed support to the first point\n",
    "fixed_support_attr.assignTo(beam_line.getStartPoint(), assignment)\n",
    "# Assign the pinned support to the last point\n",
    "pinned_support_attr.assignTo(beam_line.getEndPoint(), assignment)"
   ]
  },
  {
   "cell_type": "markdown",
   "metadata": {},
   "source": [
    "<H2>Solving the Analysis</H2>"
   ]
  },
  {
   "cell_type": "code",
   "execution_count": null,
   "metadata": {},
   "outputs": [],
   "source": [
    "# Save the model\n",
    "db.save()\n",
    "\n",
    "# Solve all defined analyses\n",
    "allAnalyses : list[IFAnalysisBaseClass] = db.getAnalyses()\n",
    "for analysis in allAnalyses:\n",
    "    analysis.solve(True)\n",
    "\n",
    "db.openAllResults(True, True)"
   ]
  },
  {
   "cell_type": "markdown",
   "metadata": {},
   "source": [
    "Find max bending:"
   ]
  },
  {
   "cell_type": "code",
   "execution_count": null,
   "metadata": {},
   "outputs": [],
   "source": [
    "''' Successful analysis - Process the results to determine the max bending '''\n",
    "import sys\n",
    "min_moment = sys.float_info.max\n",
    "nodeNum = 0\n",
    "# Get the results at each node to determine the max\n",
    "allElements : list[IFElement] = beam_line.getElements()\n",
    "for element in allElements:\n",
    "    for node in element.getNodes():\n",
    "        # Extract the nodal result for the required Entity and Component\n",
    "        my = node.getResults(\"Force/Moment - Thick 3D Beam\", \"My\")[0] # returns a tuple, take the actual value\n",
    "        # Save the minimum (sagging) moment -ve in LUSAS\n",
    "        if my < min_moment :\n",
    "            min_moment = my\n",
    "            nodeNum = node.getID()"
   ]
  },
  {
   "cell_type": "code",
   "execution_count": null,
   "metadata": {},
   "outputs": [],
   "source": [
    "# Get the units of the current model for display\n",
    "forceUnit = db.getModelUnits().getForceShortName()\n",
    "lengthUnit = db.getModelUnits().getLengthShortName()\n",
    "\n",
    "# Print the result\n",
    "print(\"Max Sagging Bending Moment (Nodal) = {0:.1f}{1}{2} at node {3}\".format(min_moment, forceUnit, lengthUnit, nodeNum) )"
   ]
  },
  {
   "cell_type": "code",
   "execution_count": null,
   "metadata": {},
   "outputs": [],
   "source": [
    "# BMI21 Elements have results at \"internal points\" between nodes, get the results here too\n",
    "min_moment2 = sys.float_info.max\n",
    "elementNum = 0\n",
    "internalPnt = 0\n",
    "for element in allElements:\n",
    "\tif element.shouldUseInternalPoints(): # We know they should but good practice to check in case this code is used elsewhere\n",
    "\t\tfor i in range(0, element.countInternalPoints()):\n",
    "\t\t\t# Extract the nodal result for the required Entity and Component\n",
    "\t\t\tmy = element.getInternalResults(i, \"Force/Moment - Thick 3D Beam\", \"My\")[0] # returns a tuple, take the actual value\n",
    "\t\t\t# Save the minimum (sagging) moment -ve in LUSAS\n",
    "\t\t\tif my < min_moment2 :\n",
    "\t\t\t\tmin_moment2 = my\n",
    "\t\t\t\telementNum = element.getID()\n",
    "\t\t\t\tinternalPnt = i\n",
    "\t\t\t\t\n",
    "# Print the result using the lusas string format\n",
    "print(\"Max Sagging Bending Moment (Internal Point) = {0:.1f}{1}{2} at element {3}, ip {4}\".format(min_moment2, forceUnit, lengthUnit, elementNum, internalPnt) )"
   ]
  },
  {
   "cell_type": "markdown",
   "metadata": {},
   "source": [
    "Alternatively we can simply ask the line to do this work for us"
   ]
  },
  {
   "cell_type": "code",
   "execution_count": null,
   "metadata": {},
   "outputs": [],
   "source": [
    "min_moment3 = beam_line.getResults(\"featureMin\", \"Force/Moment - Thick 3D Beam\", \"My\", None, elementNum, internalPnt)\n",
    "\n",
    "print(\"Max Sagging Bending Moment (Feature) = {0:.1f}{1}{2} at element {3}, ip {4}\".format(min_moment2, forceUnit, lengthUnit, elementNum, internalPnt) )\n"
   ]
  },
  {
   "cell_type": "markdown",
   "metadata": {},
   "source": [
    "<div class=\"alert alert-block alert-warning\">\n",
    "<b>Note:</b> If the code fails before this point the cell below must be run manually to restore the user interface\n",
    "</div>"
   ]
  },
  {
   "cell_type": "code",
   "execution_count": null,
   "metadata": {},
   "outputs": [],
   "source": [
    "if lusas.getMajorVersionNumber() >= 22:\n",
    "    lusas.enableUI(True)\n",
    "else:\n",
    "    lusas.setVisible(True)"
   ]
  }
 ],
 "metadata": {
  "kernelspec": {
   "display_name": "Python 3",
   "language": "python",
   "name": "python3"
  },
  "language_info": {
   "codemirror_mode": {
    "name": "ipython",
    "version": 3
   },
   "file_extension": ".py",
   "mimetype": "text/x-python",
   "name": "python",
   "nbconvert_exporter": "python",
   "pygments_lexer": "ipython3",
   "version": "3.13.3"
  }
 },
 "nbformat": 4,
 "nbformat_minor": 2
}
