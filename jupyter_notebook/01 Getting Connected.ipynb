{
 "cells": [
  {
   "cell_type": "markdown",
   "metadata": {},
   "source": [
    "# #01 Connect to LUSAS\n",
    "<i>Guide on how to setup the connection with LUSAS through Component Object Model (COM)</i>\n",
    "***\n",
    "\n",
    "Connect to a running LUSAS Modeller using the pywin32 module."
   ]
  },
  {
   "cell_type": "code",
   "execution_count": null,
   "metadata": {},
   "outputs": [],
   "source": [
    "import win32com.client as win32\n",
    "lusas = win32.gencache.EnsureDispatch(\"Lusas.Modeller.22.0\")"
   ]
  },
  {
   "cell_type": "markdown",
   "metadata": {},
   "source": [
    "<div class=\"alert alert-block alert-info\">\n",
    "<b>Note:</b> To target different LUSAS versions, change the version number e.g from <b><i>Lusas.Modeller.22.0</i></b> to <b><i>Lusas.Modeller.21.1</i></b></div>\n",
    "<div class=\"alert alert-block alert-warning\">\n",
    "<b>Note:</b> If you get the error <b><i>Import \"win32com.client\" could not be resolved</i></b>, then the pywin32 Python library is missing.<br>You can install the missing library by running the command <code>pip install pywin32</code><br>For more information please refer to the installation guide.</div>"
   ]
  },
  {
   "cell_type": "markdown",
   "metadata": {},
   "source": [
    "Print in the LUSAS log to test the connection"
   ]
  },
  {
   "cell_type": "code",
   "execution_count": null,
   "metadata": {},
   "outputs": [],
   "source": [
    "lusas.getTextWindow().writeLine(\"Connected from Jupyter Notebooks\")"
   ]
  },
  {
   "cell_type": "markdown",
   "metadata": {},
   "source": [
    "To simplify the connection, enable autocomplete and LPI documentation, it is recommended that the LPI module is imported. You can acquire the `lusas` object with the `get_lusas_modeller()` method, while notice that `writeLine()` is now a documented on mouse over. This approach will be used throughout the examples."
   ]
  },
  {
   "cell_type": "code",
   "execution_count": null,
   "metadata": {},
   "outputs": [],
   "source": [
    "from shared.LPI import *\n",
    "lusas = get_lusas_modeller()\n",
    "\n",
    "lusas.getTextWindow().writeLine(\"Connected with LPI module\")"
   ]
  },
  {
   "cell_type": "markdown",
   "metadata": {},
   "source": [
    "Print the connected model name"
   ]
  },
  {
   "cell_type": "code",
   "execution_count": null,
   "metadata": {},
   "outputs": [],
   "source": [
    "if not lusas.existsDatabase():\n",
    "    raise Exception(\"A model must be open before running this code\")\n",
    "\n",
    "print(\"Model name: \", lusas.db().getDBBasename())"
   ]
  }
 ],
 "metadata": {
  "kernelspec": {
   "display_name": "Python 3",
   "language": "python",
   "name": "python3"
  },
  "language_info": {
   "codemirror_mode": {
    "name": "ipython",
    "version": 3
   },
   "file_extension": ".py",
   "mimetype": "text/x-python",
   "name": "python",
   "nbconvert_exporter": "python",
   "pygments_lexer": "ipython3",
   "version": "3.13.3"
  }
 },
 "nbformat": 4,
 "nbformat_minor": 2
}
