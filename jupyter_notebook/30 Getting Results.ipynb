{
 "cells": [
  {
   "cell_type": "markdown",
   "metadata": {},
   "source": [
    "# #30 Results\n",
    "<i>Guide on how access results</i>\n",
    "***"
   ]
  },
  {
   "cell_type": "markdown",
   "metadata": {},
   "source": [
    "Connect to LUSAS Modeller and check if a model is open"
   ]
  },
  {
   "cell_type": "code",
   "execution_count": null,
   "metadata": {},
   "outputs": [],
   "source": [
    "from shared.LPI import *\n",
    "lusas = get_lusas_modeller()\n",
    "\n",
    "if not lusas.existsDatabase():\n",
    "    raise Exception(\"A model must be open before running this code\")"
   ]
  },
  {
   "cell_type": "markdown",
   "metadata": {},
   "source": [
    "<div class=\"alert alert-block alert-warning\">\n",
    "<b>Note:</b> To successfully run the code below you must have a model solved.\n",
    "</div>"
   ]
  },
  {
   "cell_type": "markdown",
   "metadata": {},
   "source": [
    "<H2>1. Nodal Results</H2>\n",
    "\n",
    "All nodes have displacement results. Here we simply loop through the nodes contained in the current selection and ask for the results of displacement and printing them"
   ]
  },
  {
   "cell_type": "code",
   "execution_count": null,
   "metadata": {},
   "outputs": [],
   "source": [
    "selected_nodes : list[IFNode] = lusas.selection().getObjects(\"Node\")\n",
    "for n in selected_nodes:\n",
    "    dx = n.getResults(\"Displacement\", \"DX\")\n",
    "    dy = n.getResults(\"Displacement\", \"DY\")\n",
    "    dz = n.getResults(\"Displacement\", \"DZ\")\n",
    "    print(dx, dy, dz)"
   ]
  },
  {
   "cell_type": "markdown",
   "metadata": {},
   "source": [
    "Notice that in Python each of these returned values is a tuple containing the value of the displacement and a COM error code \"(0x80020004) (-2147352572) Parameter not found\"\n",
    "The value of the result can be taken directly by modifying the code to take the first item of the returned tuple as follows:"
   ]
  },
  {
   "cell_type": "markdown",
   "metadata": {},
   "source": [
    "<div class=\"alert alert-block alert-info\">\n",
    "<b>Note:</b> The missing value is the optional \"loadcase\" argument which is set as the loadcase providing the result when the active loadset is an envelope.\n",
    "</div>"
   ]
  },
  {
   "cell_type": "code",
   "execution_count": null,
   "metadata": {},
   "outputs": [],
   "source": [
    "selected_nodes : list[IFNode] = lusas.selection().getObjects(\"Node\")\n",
    "for n in selected_nodes:\n",
    "    dx = n.getResults(\"Displacement\", \"DX\")[0]\n",
    "    dy = n.getResults(\"Displacement\", \"DY\")[0]\n",
    "    dz = n.getResults(\"Displacement\", \"DZ\")[0]\n",
    "    print(dx,dy,dz)"
   ]
  },
  {
   "cell_type": "markdown",
   "metadata": {},
   "source": [
    "Not all results are available at a node. Reactions for example are only available at nodes with supports. If we modify the code above"
   ]
  },
  {
   "cell_type": "code",
   "execution_count": null,
   "metadata": {},
   "outputs": [],
   "source": [
    "selected_nodes : list[IFNode] = lusas.selection().getObjects(\"Node\")\n",
    "for n in selected_nodes:\n",
    "    fx = n.getResults(\"Reaction\", \"FX\")[0]\n",
    "    fy = n.getResults(\"Reaction\", \"FY\")[0]\n",
    "    fz = n.getResults(\"Reaction\", \"FZ\")[0]\n",
    "    print(fx,fy,fz)"
   ]
  },
  {
   "cell_type": "markdown",
   "metadata": {},
   "source": [
    "Nodes without a support will return a value of 2.2250738585072014e-308. This is the smallest possible value represented by a 64bit double precision variable. \n",
    "We can avoid this small value by asking if a result is available"
   ]
  },
  {
   "cell_type": "code",
   "execution_count": null,
   "metadata": {},
   "outputs": [],
   "source": [
    "selected_nodes : list[IFNode] = lusas.selection().getObjects(\"Node\")\n",
    "for n in selected_nodes:\n",
    "    fx = n.getResults(\"Reaction\", \"FX\")[0] if n.hasResults(\"Reaction\", \"FX\") else 0\n",
    "    fy = n.getResults(\"Reaction\", \"FY\")[0] if n.hasResults(\"Reaction\", \"FY\") else 0\n",
    "    fz = n.getResults(\"Reaction\", \"FZ\")[0] if n.hasResults(\"Reaction\", \"FZ\") else 0\n",
    "    print(fx,fy,fz)"
   ]
  },
  {
   "cell_type": "markdown",
   "metadata": {},
   "source": [
    "So we could use this code to determine the total reactions of a selected group of nodes or indeed the whole model"
   ]
  },
  {
   "cell_type": "code",
   "execution_count": null,
   "metadata": {},
   "outputs": [],
   "source": [
    "fx, fy, fz = 0, 0, 0\n",
    "selected_nodes : list[IFNode] = lusas.selection().getObjects(\"Node\")\n",
    "for n in selected_nodes:\n",
    "    fx += n.getResults(\"Reaction\", \"FX\")[0] if n.hasResults(\"Reaction\", \"FX\") else 0\n",
    "    fy += n.getResults(\"Reaction\", \"FY\")[0] if n.hasResults(\"Reaction\", \"FY\") else 0\n",
    "    fz += n.getResults(\"Reaction\", \"FZ\")[0] if n.hasResults(\"Reaction\", \"FZ\") else 0\n",
    "\n",
    "print(f\"Total reactions of selected nodes : {fx:.2f}, {fy:.2f}, {fz:.2f}\")\n"
   ]
  },
  {
   "cell_type": "markdown",
   "metadata": {},
   "source": [
    "The getResults function has 3 additional optional arguments as shown in the LPI Reference manual\n",
    "\n",
    "`getResults(entity, component, [units], [loadcase], [context])`\n",
    "\n",
    "The results we have been getting so far have been in model units and for the active loadset. \n",
    "The first additional argument allows us to ask for results in a different unit set.\n",
    "The second additional argument is actually a return value that is used when the active loadset is an envelope. In this case the loadcase causing the requested results is returned through this argument.\n",
    "The third argument allows us to specify other settings for the results such as a different loadset. We will return to resultsets later."
   ]
  },
  {
   "cell_type": "markdown",
   "metadata": {},
   "source": [
    "<H2>2. Element Results</H2>"
   ]
  },
  {
   "cell_type": "markdown",
   "metadata": {},
   "source": [
    "Elements do not have a getResults function like nodes because elements have many different types of results. Shells, beams, solids and joint elements all have different results and result locations.\n",
    "\n",
    "A beam element for example has results at each node, it also has a series of intermediate or \"internal\" results.\n",
    "A shell element also nodal results at each node but it does not have internal results, instead it has additional results at the gauss/integration points \n",
    "\n",
    "The element interface therefore has several functions to deal with these differences and its up to you to call the correct one for the element you are looking at.\n",
    "\n",
    "If we ask the database for all elements, that's exactly what we'll get and we'd have to write a lot of code to handle the various element types as follows:"
   ]
  },
  {
   "cell_type": "code",
   "execution_count": null,
   "metadata": {},
   "outputs": [],
   "source": [
    "# Target the selected elements\n",
    "targetElements : list[IFElement] = lusas.selection().getObjects(\"Element\")\n",
    "# Or uncomment this line to target all model elements\n",
    "#targetElements : list[IFElement] = lusas.db().getObjects(\"Element\")\n",
    "for e in targetElements:\n",
    "    stressType = e.getStressType()\n",
    "    if e.getDomainDimension() == 1: # Beam Element\n",
    "        if stressType == \"Thick 3D Beam\":\n",
    "            for i in range(0, e.countInternalPoints()):\n",
    "                my = e.getInternalResults(i, \"Force/Moment - Thick 3D Beam\", \"My\")[0]\n",
    "                print(my)\n",
    "    elif e.getDomainDimension() == 2: # Shell Element\n",
    "        pass\n",
    "    elif e.getDomainDimension() == 3: # Solid Element\n",
    "        pass\n"
   ]
  },
  {
   "cell_type": "markdown",
   "metadata": {},
   "source": [
    "The example above is limited to a single element type \"Thick 3D Beam\". Here we are retrieving the bending moment My for each internal point along the beam. We could get them as an array instead"
   ]
  },
  {
   "cell_type": "code",
   "execution_count": null,
   "metadata": {},
   "outputs": [],
   "source": [
    "for e in targetElements:\n",
    "    stressType = e.getStressType()\n",
    "    if e.getDomainDimension() == 1: # Beam Element\n",
    "        if stressType == \"Thick 3D Beam\":\n",
    "            my = e.getInternalResultsArray(\"Force/Moment - Thick 3D Beam\", \"My\")\n",
    "            print(my)"
   ]
  },
  {
   "cell_type": "markdown",
   "metadata": {},
   "source": [
    "The above can be repeated for all element types but you may have noticed that this approach is very slow and not recommended. A much better approach is to use results component sets.\n",
    "\n",
    "<H2>3. Results Component Sets</H2>\n",
    "\n",
    "A results component set is a container for a particular set of results. It is much more efficient than asking for results one by one."
   ]
  },
  {
   "cell_type": "code",
   "execution_count": null,
   "metadata": {},
   "outputs": [],
   "source": [
    "# Get the internal point results for all thick beam elements\n",
    "results_my = lusas.database().getResultsComponentSet(\"Force/Moment - Thick 3D Beam\", \"My\", \"Internal\")\n",
    "i_my = results_my.getComponentNumber(\"My\")\n",
    "\n",
    "for e in targetElements:\n",
    "    stressType = e.getStressType()\n",
    "    if e.getDomainDimension() == 1: # Beam Element\n",
    "        if stressType == \"Thick 3D Beam\":\n",
    "            # Note the unitset is not optional but providing None uses the current database units\n",
    "            my = results_my.getInternalResultsArray(i_my, e, None)\n",
    "            print(my)\n",
    "\n",
    "results_my = None # Make sure the notebook doesnt hang on to these results"
   ]
  },
  {
   "cell_type": "markdown",
   "metadata": {},
   "source": [
    "The approach above still requires us to check all the elements. We can use another object to peform this operation once. The Object Set."
   ]
  },
  {
   "cell_type": "code",
   "execution_count": null,
   "metadata": {},
   "outputs": [],
   "source": [
    "# Get the internal point results for all thick beam elements\n",
    "results_my = lusas.database().getResultsComponentSet(\"Force/Moment - Thick 3D Beam\", \"My\", \"Internal\")\n",
    "i_my = results_my.getComponentNumber(\"My\")\n",
    "\n",
    "# Create an object set containing only the thick 3d beam elements\n",
    "beams = lusas.newObjectSet().add(targetElements).keep(\"Thick 3D Beam\")\n",
    "# or uncomment the following to get all 3D beam elements in the model\n",
    "#beams = lusas.newObjectSet().add(\"Thick 3D Beam\")\n",
    "\n",
    "for e in beams.getObjects(\"Element\"):\n",
    "    # Note the unitset is not optional but providing None uses the current database units\n",
    "    my = results_my.getInternalResultsArray(i_my, e, None)\n",
    "    print(my)\n",
    "\n",
    "results_my = None # Make sure the notebook doesnt hang on to these results\n",
    "beams = None"
   ]
  },
  {
   "cell_type": "markdown",
   "metadata": {},
   "source": [
    "Depending on what your model contains the above code should run much quicker than previous methods. This is because we filtered out only the elements of interest and removed any subsequent type checking.\n",
    "\n",
    "The final piece of the puzzle is to provide a results context."
   ]
  },
  {
   "cell_type": "code",
   "execution_count": null,
   "metadata": {},
   "outputs": [],
   "source": [
    "# Create an object set containing only the thick 3d beam elements\n",
    "beams = lusas.newObjectSet().add(targetElements).keep(\"Thick 3D Beam\")\n",
    "\n",
    "# Create a results context for the beam elements\n",
    "context = lusas.newResultsContext(None)\n",
    "context.getCalcResultsSet().add(beams)\n",
    "context.setActiveLoadset(1)\n",
    "\n",
    "# Get the internal point results for all thick beam elements\n",
    "results_my = lusas.database().getResultsComponentSet(\"Force/Moment - Thick 3D Beam\", \"My\", \"Internal\", context)\n",
    "i_my = results_my.getComponentNumber(\"My\")\n",
    "\n",
    "for e in beams.getObjects(\"Element\"):\n",
    "    # Note the unitset is not optional but providing None uses the current database units\n",
    "    my = results_my.getInternalResultsArray(i_my, e, None)\n",
    "    print(my)\n",
    "\n",
    "results_my = None # Make sure the notebook doesnt hang on to these results\n",
    "context = None\n",
    "beams = None"
   ]
  },
  {
   "cell_type": "markdown",
   "metadata": {},
   "source": [
    "Here you can see that results context can be set to any loadcase and set of elements so we are no longer relying on the active settings of the user interface.\n",
    "\n",
    "The general principle laid out above can be used for all elements, nodes and inspection location results."
   ]
  }
 ],
 "metadata": {
  "kernelspec": {
   "display_name": "Python 3",
   "language": "python",
   "name": "python3"
  },
  "language_info": {
   "codemirror_mode": {
    "name": "ipython",
    "version": 3
   },
   "file_extension": ".py",
   "mimetype": "text/x-python",
   "name": "python",
   "nbconvert_exporter": "python",
   "pygments_lexer": "ipython3",
   "version": "3.13.2"
  }
 },
 "nbformat": 4,
 "nbformat_minor": 2
}
