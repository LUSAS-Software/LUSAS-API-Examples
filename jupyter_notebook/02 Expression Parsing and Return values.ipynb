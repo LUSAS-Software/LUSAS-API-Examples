{
 "cells": [
  {
   "cell_type": "markdown",
   "metadata": {},
   "source": [
    "# #02 Expression parsing and return values\n",
    "<i>Guide on how to handle python tuple returned values</i>\n",
    "***"
   ]
  },
  {
   "cell_type": "markdown",
   "metadata": {},
   "source": [
    "Connect to LUSAS Modeller and check if a model is open"
   ]
  },
  {
   "cell_type": "code",
   "execution_count": null,
   "metadata": {},
   "outputs": [],
   "source": [
    "from shared.LPI_21_1 import *\n",
    "lusas = get_lusas_modeller()\n",
    "\n",
    "if not lusas.existsDatabase():\n",
    "    raise Exception(\"A model must be open before running this code\")"
   ]
  },
  {
   "cell_type": "markdown",
   "metadata": {},
   "source": [
    "LUSAS Modeller provides an expression parser and string conversion function `convertToString`"
   ]
  },
  {
   "cell_type": "code",
   "execution_count": null,
   "metadata": {},
   "outputs": [],
   "source": [
    "# Input string to evaluate\n",
    "input = \"5.0 + 25\"\n",
    "# Output variable\n",
    "output = 0\n",
    "# Call the function and collect the return value\n",
    "retVal = lusas.convertFromString(input, output, True)\n",
    "\n",
    "if (retVal == 0):\n",
    "    print(\"Success\")\n",
    "    print(f\"Result of {input} = {output}\")\n",
    "else:\n",
    "    print(f\"Failure, {retVal}\")"
   ]
  },
  {
   "cell_type": "markdown",
   "metadata": {},
   "source": [
    "<div class=\"alert alert-block alert-danger\">\n",
    "<b>Note:</b> The output variable is still zero!</div>"
   ]
  },
  {
   "cell_type": "markdown",
   "metadata": {},
   "source": [
    "It can be seen that the output variable is still zero but the return value is a tuple of values. This is how python handles \"by reference\" parameters"
   ]
  },
  {
   "cell_type": "code",
   "execution_count": null,
   "metadata": {},
   "outputs": [],
   "source": [
    "# Input string to evaluate\n",
    "input = \"5.0 + 25\"\n",
    "# Output variable\n",
    "output = 0\n",
    "# Call the function and collect the return value\n",
    "retVal = lusas.convertFromString(input, output, True)\n",
    "\n",
    "if (retVal[0] == 0):\n",
    "    print(\"Success\")\n",
    "    print(f\"Result of {input} = {retVal[1]}\")   \n",
    "else:\n",
    "    print(f\"Failure, {retVal[0]}\")"
   ]
  },
  {
   "cell_type": "markdown",
   "metadata": {},
   "source": [
    "Alternatively, the returned tuple of values can be assigned directly to multiple variables"
   ]
  },
  {
   "cell_type": "code",
   "execution_count": null,
   "metadata": {},
   "outputs": [],
   "source": [
    "# Input string to evaluate\n",
    "input = \"5.0 + 25\"\n",
    "# Call the function and collect the return value\n",
    "retVal, output, error_msg = lusas.convertFromString(input, True)\n",
    "\n",
    "if (retVal == 0):\n",
    "    print(\"Success\")\n",
    "    print(f\"Result of {input} = {output}\")\n",
    "else:\n",
    "    print(f\"Failure, {retVal}, {error_msg}\")"
   ]
  }
 ],
 "metadata": {
  "kernelspec": {
   "display_name": "Python 3",
   "language": "python",
   "name": "python3"
  },
  "language_info": {
   "codemirror_mode": {
    "name": "ipython",
    "version": 3
   },
   "file_extension": ".py",
   "mimetype": "text/x-python",
   "name": "python",
   "nbconvert_exporter": "python",
   "pygments_lexer": "ipython3",
   "version": "3.13.2"
  }
 },
 "nbformat": 4,
 "nbformat_minor": 2
}
