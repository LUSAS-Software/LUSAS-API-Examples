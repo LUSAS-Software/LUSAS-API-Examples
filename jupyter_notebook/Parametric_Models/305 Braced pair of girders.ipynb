{
 "cells": [
  {
   "cell_type": "markdown",
   "metadata": {},
   "source": [
    "# #305 Braced pair of girders\n",
    "<i>Models a pair of braced steel girders and carries out linear buckling analysis</i>\n",
    "***"
   ]
  },
  {
   "cell_type": "markdown",
   "metadata": {},
   "source": [
    "![Preview](../_img/jupyter_notebook_305.png)"
   ]
  },
  {
   "cell_type": "code",
   "execution_count": null,
   "metadata": {},
   "outputs": [],
   "source": [
    "'''Inputs - Units are N,mm'''\n",
    " # Each segment of the girder has a different section, defined below\n",
    "segments_lengths = [6000, 5000, 6000, 3000, 3000, 6000, 5000, 6000]\n",
    "# Index in the array of segment lengths indicating the central support (two span bridge)\n",
    "index_centre_support = 4 \n",
    "mesh_size = 250\n",
    "\n",
    "transverse_spacing = 4000 # Spacing of the two main girders\n",
    "\n",
    "super_imposed_load = 10.0 # Superimposed load (N/mm)\n",
    "\n",
    "do_solve = False          # Carry out the analysis once the model is constructed\n",
    "eigen_range = True        # Use a range for eigenvalue buckling analysis (avoids negative modes)\n"
   ]
  },
  {
   "cell_type": "markdown",
   "metadata": {},
   "source": [
    "Create a girder class to hold the section dimensions for each segment</br>\n",
    "We'll create points in the LUSAS model for each section and then use the points to create surfaces joining them."
   ]
  },
  {
   "cell_type": "code",
   "execution_count": null,
   "metadata": {},
   "outputs": [],
   "source": [
    "class GirderSection:\n",
    "    def __init__(self, tfb:float, tfthk:float, dw:float, tw:float, bfb:float, bfthk:float):\n",
    "        self.top_flange_breadth = tfb\n",
    "        self.top_flange_thk = tfthk\n",
    "        self.web_depth = dw\n",
    "        self.web_thk = tw\n",
    "        self.bottom_flange_breadth = bfb\n",
    "        self.bottom_flange_thk = bfthk\n",
    "        # We'll save the points created in the model in these lists so we can later use them to define surfaces\n",
    "        self.bf_points = []\n",
    "        self.tf_points = []\n"
   ]
  },
  {
   "cell_type": "markdown",
   "metadata": {},
   "source": [
    "Create a list of section definitions, we'll need one per segment + 1 for the end."
   ]
  },
  {
   "cell_type": "code",
   "execution_count": null,
   "metadata": {},
   "outputs": [],
   "source": [
    "sections1 : list[GirderSection] = []\n",
    "sections1.append(GirderSection(500, 30, 1500, 15, 600, 40))\n",
    "sections1.append(GirderSection(500, 50, 1500, 10, 600, 60))\n",
    "sections1.append(GirderSection(500, 30, 1500, 15, 600, 40))\n",
    "sections1.append(GirderSection(500, 30, 1500, 20, 600, 50))\n",
    "sections1.append(GirderSection(500, 30, 1800, 20, 600, 50)) # Central support\n",
    "sections1.append(GirderSection(500, 30, 1500, 15, 600, 40))\n",
    "sections1.append(GirderSection(500, 50, 1500, 10, 600, 60))\n",
    "sections1.append(GirderSection(500, 30, 1500, 15, 600, 40))\n",
    "sections1.append(GirderSection(500, 30, 1500, 15, 600, 40))\n",
    "# Check we have defined one more section then segment lengths\n",
    "assert(len(segments_lengths) == len(sections1)-1)\n",
    "import copy\n",
    "sections2 = [copy.deepcopy(s) for s in sections1]\n",
    "\n",
    "sections_list = [sections1, sections2]"
   ]
  },
  {
   "cell_type": "markdown",
   "metadata": {},
   "source": [
    "Create a list of stiffener thicknesses that will be positioned at each change in section. A zero thickness indicates no stiffener."
   ]
  },
  {
   "cell_type": "code",
   "execution_count": null,
   "metadata": {},
   "outputs": [],
   "source": [
    "stiffener_thicknesses = [20, 10, 10, 20, 25, 20, 10, 10, 20]\n",
    "\n",
    "# Ensure number of stiffener thicknesses matches the number of segments\n",
    "assert(len(sections1) == len(stiffener_thicknesses))"
   ]
  },
  {
   "cell_type": "markdown",
   "metadata": {},
   "source": [
    "#### Connect to LUSAS Modeller and create a new model"
   ]
  },
  {
   "cell_type": "code",
   "execution_count": null,
   "metadata": {},
   "outputs": [],
   "source": [
    "import sys; sys.path.append('../') # Reference modules in parent directory\n",
    "from shared.LPI import *\n",
    "lusas = get_lusas_modeller()\n",
    "if lusas.existsDatabase() and lusas.db().isModified():\n",
    "    raise Exception(\"This script will create a new model. Please save or close the current model and try again\")\n",
    "\n",
    "# Initialise the helpers module with a reference to LUSAS\n",
    "import shared.Helpers as Helpers\n",
    "Helpers.initialise(lusas)\n",
    "\n",
    "# Create a new model\n",
    "lusas.newProject(\"Structural\", \"Two_Span_Composite_Bridge.mdl\")\n",
    "# Get a reference to the current model database for convenience\n",
    "db = lusas.database() \n",
    "# 3D model with Z vertical\n",
    "db.setAnalysisCategory(\"3D\")\n",
    "db.setVerticalDir(\"Z\")\n",
    "# Units N,mm\n",
    "db.setModelUnits(\"N,mm,t,s,C\")"
   ]
  },
  {
   "cell_type": "code",
   "execution_count": null,
   "metadata": {},
   "outputs": [],
   "source": [
    "# When calling the LPI from an external process as we are here a speedup can be gained in v22 and later by disabling the UI\n",
    "if lusas.getMajorVersionNumber() >=22:\n",
    "    lusas.enableUI(False)"
   ]
  },
  {
   "cell_type": "markdown",
   "metadata": {},
   "source": [
    "Create model attributes"
   ]
  },
  {
   "cell_type": "code",
   "execution_count": null,
   "metadata": {},
   "outputs": [],
   "source": [
    "# Create the mesh attribute\n",
    "shell_mesh_attr = db.createMeshSurface(f\"Shell Mesh {mesh_size}mm\").setRegularSize(\"QTS4\", mesh_size, True)\n",
    "\n",
    "# Bar mesh attributes\n",
    "bracing_mesh_attr = db.createMeshLine(\"Bar Mesh\").setNumber(\"BRS2\", 1)\n",
    "\n",
    "# Steel Material attribute\n",
    "steel_material = db.createIsotropicMaterial(\"Steel\", 200_000, 0.3, 7.8e-9, 10e-6)\n",
    "\n",
    "# Concrete Material attribute\n",
    "concrete_material = db.createIsotropicMaterial(\"Concrete\", 30_000, 0.2, 2.4e-9, 10e-6)\n",
    "\n",
    "# Bracing geometic attribute\n",
    "bracing_section_attr = db.createGeometricLine(\"Bracing Section\")\n",
    "bracing_section_attr.setFromLibrary(\"UK Sections\", \"Equal Angles (Advance)\", \"150x150x12 UKEA\", 0, 0, 0)\n",
    "\n",
    "# Support attributes\n",
    "pinned = db.createSupportStructural(\"Fixed in XZ\").setStructural(\"R\", \"F\", \"R\", \"F\", \"F\", \"F\", \"F\", \"F\", \"C\", \"F\")\n",
    "slide = db.createSupportStructural(\"Fixed in Z\").setStructural(\"F\", \"F\", \"R\", \"F\", \"F\", \"F\", \"F\", \"F\", \"C\", \"F\")"
   ]
  },
  {
   "cell_type": "markdown",
   "metadata": {},
   "source": [
    "Create all the points for each section, saving the returned point in the Girder section definition. Use the helper functions for creating points"
   ]
  },
  {
   "cell_type": "code",
   "execution_count": null,
   "metadata": {},
   "outputs": [],
   "source": [
    "s:GirderSection\n",
    "for sections, y in [(sections1, -transverse_spacing/2),(sections2, transverse_spacing/2)]:\n",
    "    x = 0\n",
    "    for i in range(0, len(sections)):\n",
    "        # Determine the longitudinal position (x coordinate) for each section\n",
    "        if i > 0 : x += segments_lengths[i-1]\n",
    "        # Determine the section to use at each longitudinal position\n",
    "        s = sections[i]\n",
    "        # Create the bottom flange points\n",
    "        s.bf_points.append(Helpers.create_point(x, y + s.bottom_flange_breadth/2, -s.web_depth))\n",
    "        s.bf_points.append(Helpers.create_point(x, y,                             -s.web_depth))\n",
    "        s.bf_points.append(Helpers.create_point(x, y - s.bottom_flange_breadth/2, -s.web_depth))\n",
    "        # Create the top flange points\n",
    "        s.tf_points.append(Helpers.create_point(x, y +s.top_flange_breadth/2, 0.0))\n",
    "        s.tf_points.append(Helpers.create_point(x, y,                         0.0))\n",
    "        s.tf_points.append(Helpers.create_point(x, y -s.top_flange_breadth/2, 0.0))"
   ]
  },
  {
   "cell_type": "markdown",
   "metadata": {},
   "source": [
    "Now join up the segment points. First create helper function to create surfaces and assign a geometric thickness attribute"
   ]
  },
  {
   "cell_type": "code",
   "execution_count": null,
   "metadata": {},
   "outputs": [],
   "source": [
    "def create_surface(pnts: list, thk:float, ecc:float, group:str):\n",
    "\n",
    "    geometry_data = lusas.geometryData().setAllDefaults()\n",
    "    geometry_data.setLowerOrderGeometryType(\"points\")\n",
    "\n",
    "    obs = lusas.newObjectSet().add(pnts)\n",
    "\n",
    "    surface = obs.createSurface(geometry_data).getObject(\"Surface\")\n",
    "    db.getGroupByName(group).add(surface, \"Surfaces\")\n",
    "\n",
    "    name = f\"{group} ({thk:.1f}mm)\"\n",
    "\n",
    "    db.createGeometricSurface(name).setSurface(thk, ecc).assignTo(surface)"
   ]
  },
  {
   "cell_type": "markdown",
   "metadata": {},
   "source": [
    "Create groups to contain the girder surfaces"
   ]
  },
  {
   "cell_type": "code",
   "execution_count": null,
   "metadata": {},
   "outputs": [],
   "source": [
    "db.createEmptyGroup(\"Top Flange\")\n",
    "db.createEmptyGroup(\"Web\")\n",
    "db.createEmptyGroup(\"Bottom Flange\")\n",
    "db.createEmptyGroup(\"Web Stiffeners\")\n",
    "db.createEmptyGroup(\"Deck\")"
   ]
  },
  {
   "cell_type": "markdown",
   "metadata": {},
   "source": [
    "Here we'll create the surfaces between each section definition using the points we created earlier"
   ]
  },
  {
   "cell_type": "code",
   "execution_count": null,
   "metadata": {},
   "outputs": [],
   "source": [
    "for sections in sections_list:\n",
    "    for i in range(0, len(segments_lengths)):\n",
    "\n",
    "        s1:GirderSection = sections[i]   # Section definition at the start of the segment\n",
    "        s2:GirderSection = sections[i+1] # Section definition at the end of the segment\n",
    "\n",
    "        create_surface([ s1.bf_points[1], s2.bf_points[1], s2.bf_points[0], s1.bf_points[0] ], s1.bottom_flange_thk, 0.0, \"Bottom Flange\")\n",
    "        create_surface([ s1.bf_points[2], s2.bf_points[2], s2.bf_points[0], s1.bf_points[0] ], s1.bottom_flange_thk, 0.0, \"Bottom Flange\")\n",
    "        create_surface([ s1.bf_points[1], s2.bf_points[1], s2.tf_points[1], s1.tf_points[1] ], s1.web_thk,           0.0, \"Web\")\n",
    "        create_surface([ s1.tf_points[1], s2.tf_points[1], s2.tf_points[0], s1.tf_points[0] ], s1.top_flange_thk,    0.0, \"Top Flange\")\n",
    "        create_surface([ s1.tf_points[2], s2.tf_points[2], s2.tf_points[1], s1.tf_points[1] ], s1.top_flange_thk,    0.0, \"Top Flange\")\n"
   ]
  },
  {
   "cell_type": "markdown",
   "metadata": {},
   "source": [
    "Create bearing stiffeners at the end sections"
   ]
  },
  {
   "cell_type": "code",
   "execution_count": null,
   "metadata": {},
   "outputs": [],
   "source": [
    "for sections in sections_list:\n",
    "    for i, thk in enumerate(stiffener_thicknesses):\n",
    "\n",
    "        if thk > 0:\n",
    "\n",
    "            s:GirderSection = sections[i]   # Section definition at the start of the segment\n",
    "            create_surface([ s.bf_points[0], s.tf_points[0], s.tf_points[1], s.bf_points[1] ], thk, 0.0, \"Web Stiffeners\")\n",
    "            create_surface([ s.bf_points[1], s.tf_points[1], s.tf_points[2], s.bf_points[2] ], thk, 0.0, \"Web Stiffeners\")\n"
   ]
  },
  {
   "cell_type": "markdown",
   "metadata": {},
   "source": [
    "Assign a shell mesh attribute and steel material attribute to all surfaces"
   ]
  },
  {
   "cell_type": "code",
   "execution_count": null,
   "metadata": {},
   "outputs": [],
   "source": [
    "# Assign mesh and steel material to all girder surfaces\n",
    "assignment = lusas.assignment().setAllDefaults()\n",
    "shell_mesh_attr.assignTo(\"Surfaces\", assignment)\n",
    "steel_material.assignTo(\"Surfaces\", assignment)"
   ]
  },
  {
   "cell_type": "markdown",
   "metadata": {},
   "source": [
    "Support attributes\n",
    "\n",
    "(if you get a \"Can't visualise attributes without a mesh\" warning, just click OK. This can be avoided by assigning and updating the mesh first.)"
   ]
  },
  {
   "cell_type": "code",
   "execution_count": null,
   "metadata": {},
   "outputs": [],
   "source": [
    "# To assign these support attributes we'll need to get hold of the lines. We can do this via the points that have been created for each section\n",
    "\n",
    "# Loop through each member\n",
    "for sections in sections_list:\n",
    "    # Assign supports to the end and central section\n",
    "    for i, section in enumerate([sections[0], sections[index_centre_support], sections[-1]]):\n",
    "\n",
    "        p0 = section.bf_points[0] # point at the +ve flange edge\n",
    "        p1 = section.bf_points[1] # point at the centre of the web.\n",
    "        p2 = section.bf_points[2] # point at the -ve flange edge\n",
    "\n",
    "        # Loop through connected lines \n",
    "        for line in p1.getHOFs():\n",
    "            # Points of the connected line\n",
    "            ps1 = line.getStartPoint()\n",
    "            ps2 = line.getEndPoint()\n",
    "            # Check if the connected line points are those defining the bottom flange\n",
    "            # If so then we can assign the relevant support attribute\n",
    "            if ps1 == p0 or ps1 == p2 or ps2 == p0 or ps2 == p2:\n",
    "                pinned.assignTo(line) if i == 1 else slide.assignTo(line)\n"
   ]
  },
  {
   "cell_type": "code",
   "execution_count": null,
   "metadata": {},
   "outputs": [],
   "source": [
    "# Set Default Attributes for bracing members\n",
    "db.setAsDefault(\"Mesh\", bracing_mesh_attr)\n",
    "db.setAsDefault(\"Material\", steel_material)\n",
    "db.setAsDefault(\"Line Geometric\", bracing_section_attr)"
   ]
  },
  {
   "cell_type": "code",
   "execution_count": null,
   "metadata": {},
   "outputs": [],
   "source": [
    "#bracing_lines = []\n",
    "for i in range(0, len(segments_lengths)+1):\n",
    "    line1 = Helpers.create_line_from_points(sections1[i].bf_points[1], sections2[i].tf_points[1])\n",
    "    line2 = Helpers.create_line_from_points(sections1[i].tf_points[1], sections2[i].bf_points[1])\n",
    "    #lusas.newObjectSet().add(line1).add(line2).intersectLines(lusas.geometryData().setAllDefaults())\n",
    "\n",
    "    line3 = Helpers.create_line_from_points(sections1[i].bf_points[1], sections2[i].bf_points[1])\n",
    "    line4 = Helpers.create_line_from_points(sections1[i].tf_points[1], sections2[i].tf_points[1])"
   ]
  },
  {
   "cell_type": "code",
   "execution_count": null,
   "metadata": {},
   "outputs": [],
   "source": [
    "# Clear default attribute assignments\n",
    "db.setAsDefault(\"Mesh\", \"None\")\n",
    "db.setAsDefault(\"Material\", \"None\")\n",
    "db.setAsDefault(\"Line Geometric\", \"None\")"
   ]
  },
  {
   "cell_type": "markdown",
   "metadata": {},
   "source": [
    "# Loading"
   ]
  },
  {
   "cell_type": "code",
   "execution_count": null,
   "metadata": {},
   "outputs": [],
   "source": [
    "# Get the automatically created loadcase in analysis 1 and add automatic gravity to it\n",
    "# The loadcase will be used only to test the model is working correctly\n",
    "gravity_loadcase : IFLoadcase = db.getLoadset(\"Loadcase 1\", 0)\n",
    "gravity_loadcase.setName(\"Gravity\")\n",
    "gravity_loadcase.addGravity(True)\n",
    "db.getAnalysis(\"Analysis 1\").setName(\"00 Base\")"
   ]
  },
  {
   "cell_type": "code",
   "execution_count": null,
   "metadata": {},
   "outputs": [],
   "source": [
    "# Create a new analysis for the linear buckling analysis\n",
    "linear_analysis = db.createAnalysisStructural(\"01 Linear Buckling\", False)\n",
    "\n",
    "# Linear buckling loadcase\n",
    "linear_buckling_loadcase = db.createLoadcase(\"Linear Eigen Buckling\", linear_analysis.getName())\n",
    "linear_buckling_loadcase.addGravity(True)\n",
    "\n",
    "# Set the loadcase controls to be a Buckling analysis searching for the minimum 5 buckling modes\n",
    "linear_buckling_loadcase.setEigenvalueMaxMinControl(\"Buckling\", \"Minimum\", 5)"
   ]
  },
  {
   "cell_type": "code",
   "execution_count": null,
   "metadata": {},
   "outputs": [],
   "source": [
    "# Helper function to find the lines in the top flanges to which superimposed loads will be assigned\n",
    "def get_lines_x(points:list[IFPoint])->list[IFLine]:\n",
    "    lines = []\n",
    "    for point in points:\n",
    "        for hof in point.getHOFs():\n",
    "            if hof.getTypeCode() == 2 : # Line\n",
    "                # Check it is aligned with and parallel to the x axis\n",
    "                if abs(hof.getEndPosition()[1] - hof.getStartPosition()[1]) < 1e-3 and \\\n",
    "                   abs(hof.getEndPosition()[2] - hof.getStartPosition()[2]) < 1e-3:\n",
    "                    # Add to the list if not already in there\n",
    "                    if not hof in lines:\n",
    "                        lines.append(hof)\n",
    "    return lines\n",
    "\n",
    "# List of lines in section 1 top flange\n",
    "lines_s1_tf   = get_lines_x([s.tf_points[1] for s in sections1])\n",
    "# List of lines in section 1 top flange\n",
    "lines_s2_tf   = get_lines_x([s.tf_points[1] for s in sections2])"
   ]
  },
  {
   "cell_type": "code",
   "execution_count": null,
   "metadata": {},
   "outputs": [],
   "source": [
    "# Create a new loadcase for the global distributed load\n",
    "load_attr = db.createLoadingGlobalDistributed(\"Global Distributed Load\")\n",
    "load_attr.setGlobalDistributed(\"Length\", 0.0, 0.0, -super_imposed_load, 0.0, 0.0, 0.0, 0.0, 0.0, False, 0.0)\n",
    "\n",
    "# Assign the load to the top flange surfaces, in both linear and nonlinear analyses\n",
    "load_attr.assignTo(lines_s1_tf, lusas.assignment().setAllDefaults().setLoadset(linear_buckling_loadcase))\n",
    "load_attr.assignTo(lines_s2_tf, lusas.assignment().setAllDefaults().setLoadset(linear_buckling_loadcase))"
   ]
  },
  {
   "cell_type": "markdown",
   "metadata": {},
   "source": [
    "Set the model to display the assigned plate thicknesses and supports in an isometric orientation"
   ]
  },
  {
   "cell_type": "code",
   "execution_count": null,
   "metadata": {},
   "outputs": [],
   "source": [
    "lusas.view().insertGeometryLayer() # Make sure the drawing layers exist before accessing them\n",
    "lusas.view().insertAttributesLayer()\n",
    "\n",
    "lusas.view().geometry().autoColourByAttributes(\"Geometric\", True)\n",
    "lusas.view().attributes().visualiseAll(\"Supports\")\n",
    "lusas.view().setIsometric()"
   ]
  },
  {
   "cell_type": "code",
   "execution_count": null,
   "metadata": {},
   "outputs": [],
   "source": [
    "# Mesh the model\n",
    "db.resetMesh()\n",
    "db.updateMesh()"
   ]
  },
  {
   "cell_type": "code",
   "execution_count": null,
   "metadata": {},
   "outputs": [],
   "source": [
    "# Solve all the analyses\n",
    "if do_solve:\n",
    "    for analysis in db.getAnalyses():\n",
    "        analysis.solve(True)\n",
    "    db.openAllResults(False)"
   ]
  },
  {
   "cell_type": "code",
   "execution_count": null,
   "metadata": {},
   "outputs": [],
   "source": [
    "# Re-enable the UI. Note if the script failed prior to this, this cell must be run manually to re-enable the UI\n",
    "lusas.enableUI(True)"
   ]
  }
 ],
 "metadata": {
  "kernelspec": {
   "display_name": "Python 3",
   "language": "python",
   "name": "python3"
  },
  "language_info": {
   "codemirror_mode": {
    "name": "ipython",
    "version": 3
   },
   "file_extension": ".py",
   "mimetype": "text/x-python",
   "name": "python",
   "nbconvert_exporter": "python",
   "pygments_lexer": "ipython3",
   "version": "3.13.5"
  }
 },
 "nbformat": 4,
 "nbformat_minor": 2
}
