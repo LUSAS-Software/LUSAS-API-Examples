{
 "cells": [
  {
   "cell_type": "markdown",
   "metadata": {},
   "source": [
    "# #16 Extract attribute values\n",
    "<i>Extract all the values of geometric or material attributes in formats that are easier for reviewing and checking models (e.g. spreadsheets)</i>\n",
    "***"
   ]
  },
  {
   "cell_type": "markdown",
   "metadata": {},
   "source": [
    "Before running this script, make sure you have a model open (e.g. the simple cantilever beam model generated from example 10).\n",
    "\n",
    "Connect on the open model:"
   ]
  },
  {
   "cell_type": "code",
   "execution_count": null,
   "metadata": {},
   "outputs": [],
   "source": [
    "from shared.LPI import *\n",
    "lusas = get_lusas_modeller()\n",
    "if not lusas.existsDatabase():\n",
    "    raise Exception(\"A model must be open before running this code\")\n",
    "\n",
    "db = lusas.database() # Reference to the database for convenience"
   ]
  },
  {
   "cell_type": "markdown",
   "metadata": {},
   "source": [
    "Loop and print all values saved on geometric attributes:"
   ]
  },
  {
   "cell_type": "code",
   "execution_count": null,
   "metadata": {},
   "outputs": [],
   "source": [
    "# Check if the geometric attribute with ID of 1 exists\n",
    "if lusas.db().existsAttribute(\"Geometric\", 1):\n",
    "    # Get the geometric attribute with ID=1\n",
    "    geom_attr = lusas.db().getAttribute(\"Geometric\", 1)\n",
    "\n",
    "    # Loop through the attributes value names and print out the corresponding values and units\n",
    "    for name in geom_attr.getValueNames():\n",
    "        print(f\"{name} : {geom_attr.getValue(name)} {geom_attr.getValueUnits(name)}\")"
   ]
  },
  {
   "cell_type": "markdown",
   "metadata": {},
   "source": [
    "Or we can request them in a particular unit set"
   ]
  },
  {
   "cell_type": "code",
   "execution_count": null,
   "metadata": {},
   "outputs": [],
   "source": [
    "# Check if the geometric attribute with ID of 1 exists\n",
    "if lusas.db().existsAttribute(\"Geometric\", 1):\n",
    "    # Get the geometric attribute with ID=1\n",
    "    geom_attr = lusas.db().getAttribute(\"Geometric\", 1)\n",
    "\n",
    "    # Determine a unit set\n",
    "    si_units = lusas.getUnitSet(\"N,mm,t,s,C\")\n",
    "\n",
    "    # Loop through the attributes value names and print out the corresponding values and units in the given unit set\n",
    "    for name in geom_attr.getValueNames():\n",
    "        print(f\"{name} : {geom_attr.getValue(name, si_units)} {geom_attr.getValueUnits(name, si_units)}\")"
   ]
  },
  {
   "cell_type": "markdown",
   "metadata": {},
   "source": [
    "Set the path to export all attribute values as your desktop:"
   ]
  },
  {
   "cell_type": "code",
   "execution_count": null,
   "metadata": {},
   "outputs": [],
   "source": [
    "# Directory to export to\n",
    "import os\n",
    "export_dir = os.path.expanduser(\"~\\\\Desktop\")\n",
    "base_name = lusas.db().getDBBasename()\n",
    "\n",
    "print(f\"Export folder:   {export_dir}\")\n",
    "print(f\"Export filename: {db.getDBBasename()}-****** Attribute Definitions.xlsx\")"
   ]
  },
  {
   "cell_type": "markdown",
   "metadata": {},
   "source": [
    "Generate a table (DataFrame) of all **geometric** attribute values and export it to excel using the Pandas library"
   ]
  },
  {
   "cell_type": "code",
   "execution_count": null,
   "metadata": {},
   "outputs": [],
   "source": [
    "# Import the Pandas library to create a DataFrame and export to Excel\n",
    "import pandas as pd\n",
    "\n",
    "# Get all the geometric attributes\n",
    "all_geometric_attributes = lusas.db().getAttributes(\"Geometric\")\n",
    "\n",
    "if len(all_geometric_attributes) > 0:\n",
    "    file_path = rf\"{export_dir}\\{db.getDBBasename()}-Geometric Attribute Definitions.xlsx\"\n",
    "    writer = pd.ExcelWriter(file_path)\n",
    "    # Loop through all the geometric attributes\n",
    "    for attr in all_geometric_attributes:\n",
    "        # Create a list to store the attribute values\n",
    "        data = []\n",
    "        data.append([attr.getIDAndName(),\"\",\"\",\"\"])\n",
    "        # Loop through the value names\n",
    "        for name in attr.getValueNames():\n",
    "            # Store the values and units in the dictionary\n",
    "            data.append([name, attr.getValue(name), attr.getValueUnits(name), attr.getValueDescription(name)])\n",
    "        # Create a dataframe from the dictionary\n",
    "        df = pd.DataFrame(data, columns=[\"Name\", \"Value\", \"Units\", \"Description\"])\n",
    "        # Write the dataframe to the Excel file\n",
    "        df.to_excel(writer, sheet_name=f\"Geometric Attribute {attr.getID()}\")\n",
    "\n",
    "    writer.close()\n",
    "    print(f\"Geometric attribute values exported at: \\\"{file_path}\\\"\")\n",
    "else:\n",
    "    print(\"No geometric attributes to export values from.\")"
   ]
  },
  {
   "cell_type": "markdown",
   "metadata": {},
   "source": [
    "Do the same for **material** attributes:"
   ]
  },
  {
   "cell_type": "code",
   "execution_count": null,
   "metadata": {},
   "outputs": [],
   "source": [
    "# Get all the material attributes\n",
    "all_material_attributes = lusas.db().getAttributes(\"Material\")\n",
    "\n",
    "if len(all_material_attributes) > 0:\n",
    "    file_path = rf\"{export_dir}\\{db.getDBBasename()}-Material Attribute Definitions.xlsx\"\n",
    "    writer = pd.ExcelWriter(file_path)\n",
    "    # Loop through all the geometric attributes\n",
    "    for attr in all_material_attributes:\n",
    "        # Create a list to store the attribute values\n",
    "        data = []\n",
    "        data.append([attr.getIDAndName(),\"\",\"\",\"\"])\n",
    "        # Loop through the value names\n",
    "        for name in attr.getValueNames():\n",
    "            # Store the values and units in the dictionary\n",
    "            data.append([name, attr.getValue(name), attr.getValueUnits(name), attr.getValueDescription(name)])\n",
    "        # Create a dataframe from the dictionary\n",
    "        df = pd.DataFrame(data, columns=[\"Name\", \"Value\", \"Units\", \"Description\"])\n",
    "        # Write the dataframe to the Excel file\n",
    "        df.to_excel(writer, sheet_name=f\"Material Attribute {attr.getID()}\")\n",
    "\n",
    "    writer.close()\n",
    "    print(f\"Material attribute values exported at: \\\"{file_path}\\\"\")\n",
    "else:\n",
    "    print(\"No material attributes to export values from.\")"
   ]
  }
 ],
 "metadata": {
  "kernelspec": {
   "display_name": "Python 3",
   "language": "python",
   "name": "python3"
  },
  "language_info": {
   "codemirror_mode": {
    "name": "ipython",
    "version": 3
   },
   "file_extension": ".py",
   "mimetype": "text/x-python",
   "name": "python",
   "nbconvert_exporter": "python",
   "pygments_lexer": "ipython3",
   "version": "3.13.5"
  }
 },
 "nbformat": 4,
 "nbformat_minor": 2
}
